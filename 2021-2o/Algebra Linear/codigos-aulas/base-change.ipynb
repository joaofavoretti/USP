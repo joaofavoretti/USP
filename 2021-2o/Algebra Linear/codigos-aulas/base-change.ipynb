{
 "cells": [
  {
   "cell_type": "markdown",
   "source": [
    "# Código funcao criacao de Matriz Mudança de Base"
   ],
   "metadata": {}
  },
  {
   "cell_type": "code",
   "execution_count": 24,
   "source": [
    "import numpy as np\n",
    "import matplotlib.pyplot as plt"
   ],
   "outputs": [],
   "metadata": {}
  },
  {
   "cell_type": "code",
   "execution_count": 29,
   "source": [
    "# Bases R3\n",
    "A = [[1, 0, 1], [1, 1, 1], [1, 1, 2]]\n",
    "B = [[1, 0, 0], [0, 1, 0], [0, 0, 1]]\n",
    "\n",
    "\"\"\"\n",
    "Explicação:\n",
    "\n",
    "Para mais detalhes verificar documento: 2021-10-04-Mudanca-de-base.xopp\n",
    "\"\"\"\n",
    "\n",
    "def gen_M_A_to_B (A, B):\n",
    "    a = np.array (A)\n",
    "    b = np.array (B)\n",
    "\n",
    "    # np.array([np.linalg.solve(a.T, a_row) for a_row in a]).T\n",
    "    return np.linalg.solve(a, b)\n"
   ],
   "outputs": [],
   "metadata": {}
  },
  {
   "cell_type": "code",
   "execution_count": 41,
   "source": [
    "# Teste função para criação de matriz mudanca de base com bases B1 e B2\n",
    "b = [1, 2, 3] # Vetor na base B (canonica)\n",
    "\n",
    "print(gen_M_A_to_B(A, B))               # Matriz de mudança de base A para B\n",
    "\n",
    "print(np.matmul(gen_M_A_to_B(A, B), A)) # Matriz de mudança de base A para B. Multiplicação de matriz com a base A deve retornar a base B\n",
    "\n",
    "a = np.matmul(gen_M_A_to_B(A, B), b)    # a = M_A_B * b\n",
    "print(a)"
   ],
   "outputs": [
    {
     "output_type": "stream",
     "name": "stdout",
     "text": [
      "[[ 1.  1. -1.]\n",
      " [-1.  1.  0.]\n",
      " [ 0. -1.  1.]]\n",
      "[[1. 0. 0.]\n",
      " [0. 1. 0.]\n",
      " [0. 0. 1.]]\n",
      "[0. 1. 1.]\n"
     ]
    }
   ],
   "metadata": {}
  }
 ],
 "metadata": {
  "orig_nbformat": 4,
  "language_info": {
   "name": "python",
   "version": "3.8.10",
   "mimetype": "text/x-python",
   "codemirror_mode": {
    "name": "ipython",
    "version": 3
   },
   "pygments_lexer": "ipython3",
   "nbconvert_exporter": "python",
   "file_extension": ".py"
  },
  "kernelspec": {
   "name": "python3",
   "display_name": "Python 3.8.10 64-bit"
  },
  "interpreter": {
   "hash": "916dbcbb3f70747c44a77c7bcd40155683ae19c65e1c03b4aa3499c5328201f1"
  }
 },
 "nbformat": 4,
 "nbformat_minor": 2
}