{
 "cells": [
  {
   "cell_type": "markdown",
   "metadata": {
    "id": "cWYkXmYTBc5C"
   },
   "source": [
    "# SME0142 - Álgebra Linear e Aplicações\n",
    "## Gram-Schmidt\n",
    "#### Docente: Cynthia de Oliveira Lage Ferreira\n",
    "#### PAE - Luiz Otávio Toratti\n",
    "ICMC - USP São Carlos"
   ]
  },
  {
   "cell_type": "code",
   "execution_count": 74,
   "metadata": {
    "id": "kNfLUFKbEtyb"
   },
   "outputs": [],
   "source": [
    "import numpy as np\n",
    "import matplotlib.pyplot as plt\n",
    "from scipy.linalg import hilbert\n",
    "\n",
    "np.set_printoptions(precision=3)"
   ]
  },
  {
   "cell_type": "markdown",
   "metadata": {
    "id": "LJKOL27s_RBp"
   },
   "source": [
    "## **Projeção Ortogonal**\n",
    "\n",
    "- $proj_{\\mathbf{v}}\\mathbf{u} = \\dfrac{\\langle \\mathbf{u}, \\mathbf{v} \\rangle}{\\langle \\mathbf{v}, \\mathbf{v} \\rangle}\\mathbf{v}$\n",
    "\n",
    "- $proj_{\\mathbf{\\perp v}}\\mathbf{u} = u - proj_{\\mathbf{v}}\\mathbf{u}$"
   ]
  },
  {
   "cell_type": "code",
   "execution_count": 53,
   "metadata": {},
   "outputs": [],
   "source": [
    "def projv_u(v, u):\n",
    "    return (np.dot(u, v) / np.linalg.norm(v)) * v"
   ]
  },
  {
   "cell_type": "code",
   "execution_count": 2,
   "metadata": {
    "colab": {
     "base_uri": "https://localhost:8080/",
     "height": 452
    },
    "executionInfo": {
     "elapsed": 802,
     "status": "ok",
     "timestamp": 1637666403194,
     "user": {
      "displayName": "Luiz Otávio Toratti",
      "photoUrl": "https://lh3.googleusercontent.com/a-/AOh14GiJ2lu8bHxmHs09q5vtu3fcsIxB6URKBsrhkai9=s64",
      "userId": "09984317548107739267"
     },
     "user_tz": 180
    },
    "id": "57ZoJxIgBd-x",
    "outputId": "23bd7547-efc2-4987-a93f-c8560b4b9945"
   },
   "outputs": [
    {
     "data": {
      "image/png": "[encoded data removed]",
      "text/plain": [
       "<Figure size 504x504 with 1 Axes>"
      ]
     },
     "metadata": {
      "needs_background": "light"
     },
     "output_type": "display_data"
    }
   ],
   "source": [
    "u = np.array([1,2.5])\n",
    "v = np.array([3,2])\n",
    "\n",
    "# Projeção de u em v\n",
    "p = (np.dot(u,v) / np.dot(v,v)) * v\n",
    "\n",
    "# Complemento ortogonal\n",
    "w = u - p\n",
    "\n",
    "# Plot\n",
    "fig = plt.figure(figsize=(7, 7))\n",
    "ax = fig.add_subplot(111, autoscale_on=False, xlim=(-0.5, 3), ylim=(-0.5, 3))\n",
    "ax.quiver(0, 0, u[0], u[1], units='xy', scale=1, color='blue')\n",
    "ax.quiver(0, 0, v[0], v[1], units='xy', scale=1, color='red')\n",
    "ax.quiver(0, 0, p[0], p[1], units='xy', scale=1, color='green')\n",
    "ax.quiver(p[0], p[1], w[0], w[1], units='xy', scale=1, color='darkviolet')\n",
    "ax.set_title('Projeção ortogonal de $\\mathbf{u}$ em $\\mathbf{v}$', fontsize=22)\n",
    "_ = ax.text(0.3, 1.4, '$\\mathbf{u}$', fontsize=22)\n",
    "_ = ax.text(2.4, 1.5, '$\\mathbf{v}$', fontsize=22)\n",
    "_ = ax.text(1, 0.5, '$proj_\\mathbf{v}\\mathbf{u}$', fontsize=22)\n",
    "_ = ax.text(1.5, 1.9, '$\\mathbf{u} - proj_\\mathbf{v}\\mathbf{u}$', fontsize=22)"
   ]
  },
  {
   "cell_type": "markdown",
   "metadata": {
    "id": "p_kZXsaZiwQH"
   },
   "source": [
    "## **Processo de Ortogonalização de Gram-Schmidt**\n",
    "\n",
    "O processo de Gram-Schmidt é um método ortogonalização de uma base, ou seja, dada uma base $\\mathbf{u}_1,\\ldots,\\mathbf{u}_k$ para um espaço vetorial $\\mathcal{S}$ o método de Gram-Schmidt constrói uma outra base $\\mathbf{v}_1,\\ldots,\\mathbf{v}_k$ para o espaço $\\mathcal{S}$ que é ortonormal.\n",
    "\n",
    "O processo funciona da seguinte forma:"
   ]
  },
  {
   "cell_type": "markdown",
   "metadata": {
    "id": "FHhQUYKwi15u"
   },
   "source": [
    "**Ortogonalização**\n",
    "\n",
    "- $\\mathbf{v}_1 = \\mathbf{u}_1$\n",
    "\n",
    "- $\\mathbf{v}_2 = \\mathbf{u}_2 - \\dfrac{\\langle \\mathbf{u}_2, \\mathbf{v}_1 \\rangle}{\\langle \\mathbf{v}_1, \\mathbf{v}_1 \\rangle} \\mathbf{v}_1$\n",
    "\n",
    "- $\\mathbf{v}_3 = \\mathbf{u}_3 - \\dfrac{\\langle \\mathbf{u}_3, \\mathbf{v}_1 \\rangle}{\\langle \\mathbf{v}_1, \\mathbf{v}_1 \\rangle} \\mathbf{v}_1 - \\dfrac{\\langle \\mathbf{u}_3, \\mathbf{v}_2 \\rangle}{\\langle \\mathbf{v}_2, \\mathbf{v}_2 \\rangle} \\mathbf{v}_2$\n",
    "\n",
    "- $\\vdots$\n",
    "\n",
    "- $\\mathbf{v}_k = \\mathbf{u}_k - \\dfrac{\\langle \\mathbf{u}_k, \\mathbf{v}_1 \\rangle}{\\langle \\mathbf{v}_1, \\mathbf{v}_1 \\rangle} \\mathbf{v}_1 - \\dfrac{\\langle \\mathbf{u}_k, \\mathbf{v}_2 \\rangle}{\\langle \\mathbf{v}_2, \\mathbf{v}_2 \\rangle} \\mathbf{v}_2 - \\cdots - \\dfrac{\\langle \\mathbf{u}_k, \\mathbf{v}_{k-1} \\rangle}{\\langle \\mathbf{v}_{k-1}, \\mathbf{v}_{k-1} \\rangle} \\mathbf{v}_{k-1}$\n",
    "\n",
    "---\n",
    "**Ortonormalização**\n",
    "\n",
    "- $\\mathbf{\\tilde{v}}_1 = \\mathbf{u}_1 \\quad \\longrightarrow \\quad \\mathbf{v}_1 = \\dfrac{\\mathbf{\\tilde{v}}_1}{\\Vert \\mathbf{\\tilde{v}}_1 \\Vert}$\n",
    "\n",
    "- $\\mathbf{\\tilde{v}}_2 = \\mathbf{u}_2 - \\langle \\mathbf{u}_2, \\mathbf{v}_1 \\rangle \\mathbf{v}_1 \\quad \\longrightarrow \\quad \\mathbf{v}_2 = \\dfrac{\\mathbf{\\tilde{v}}_2}{\\Vert \\mathbf{\\tilde{v}}_2 \\Vert}$\n",
    "\n",
    "- $\\mathbf{\\tilde{v}}_3 = \\mathbf{u}_3 - \\langle \\mathbf{u}_3, \\mathbf{v}_1 \\rangle \\mathbf{v}_1 - \\langle \\mathbf{u}_3, \\mathbf{v}_2 \\rangle \\mathbf{v}_2 \\quad \\longrightarrow \\quad \\mathbf{v}_3 = \\dfrac{\\mathbf{\\tilde{v}}_3}{\\Vert \\mathbf{\\tilde{v}}_3 \\Vert}$\n",
    "\n",
    "- $\\vdots$\n",
    "\n",
    "- $\\mathbf{\\tilde{v}}_k = \\mathbf{u}_k - \\langle \\mathbf{u}_k, \\mathbf{v}_1 \\rangle \\mathbf{v}_1 - \\langle \\mathbf{u}_k, \\mathbf{v}_2 \\rangle \\mathbf{v}_2 - \\cdots - \\langle \\mathbf{u}_k, \\mathbf{v}_{k-1} \\rangle \\mathbf{v}_{k-1} \\quad \\longrightarrow \\quad \\mathbf{v}_k = \\dfrac{\\mathbf{\\tilde{v}}_k}{\\Vert \\mathbf{\\tilde{v}}_k \\Vert}$\n",
    "\n"
   ]
  },
  {
   "cell_type": "code",
   "execution_count": 57,
   "metadata": {
    "colab": {
     "base_uri": "https://localhost:8080/"
    },
    "executionInfo": {
     "elapsed": 245,
     "status": "ok",
     "timestamp": 1637675396055,
     "user": {
      "displayName": "Luiz Otávio Toratti",
      "photoUrl": "https://lh3.googleusercontent.com/a-/AOh14GiJ2lu8bHxmHs09q5vtu3fcsIxB6URKBsrhkai9=s64",
      "userId": "09984317548107739267"
     },
     "user_tz": 180
    },
    "id": "5zmbrAkAir_E",
    "outputId": "6c167b4e-f146-4564-d65d-0c552037a868"
   },
   "outputs": [
    {
     "name": "stdout",
     "output_type": "stream",
     "text": [
      "Matriz U:\n",
      "[[1.00001    0.5        0.33333333 ... 0.00505051 0.00502513 0.005     ]\n",
      " [0.5        0.33334333 0.25       ... 0.00502513 0.005      0.00497512]\n",
      " [0.33333333 0.25       0.20001    ... 0.005      0.00497512 0.0049505 ]\n",
      " ...\n",
      " [0.00505051 0.00502513 0.005      ... 0.00254165 0.00252525 0.00251889]\n",
      " [0.00502513 0.005      0.00497512 ... 0.00252525 0.00252889 0.00251256]\n",
      " [0.005      0.00497512 0.0049505  ... 0.00251889 0.00251256 0.00251627]]\n",
      "\n",
      "Matriz V:\n",
      "[[ 7.80884583e-01 -5.60666336e-01  2.53027291e-01 ... -1.52413130e-05\n",
      "  -1.50673938e-05 -1.48899091e-05]\n",
      " [ 3.90438387e-01  1.57426118e-01 -5.67513334e-01 ...  2.68280394e-04\n",
      "   2.62607191e-04  2.56942714e-04]\n",
      " [ 2.60292258e-01  2.50812673e-01 -3.60656439e-01 ... -6.26477852e-04\n",
      "  -6.00663373e-04 -5.75213268e-04]\n",
      " ...\n",
      " [ 3.94382209e-03  1.02985712e-02  1.69341181e-02 ...  9.79880100e-01\n",
      "  -4.56390952e-02 -4.41750440e-02]\n",
      " [ 3.92400389e-03  1.02474827e-02  1.68534961e-02 ...  6.48471786e-03\n",
      "   9.80264651e-01 -4.51122654e-02]\n",
      " [ 3.90438387e-03  1.01968985e-02  1.67736367e-02 ...  6.77867248e-03\n",
      "   6.71649593e-03  9.80647235e-01]]\n",
      "\n",
      "Erro numérico: 1.0784590007936055\n"
     ]
    }
   ],
   "source": [
    "# Modificacao do Gram-Schmidt Classico\n",
    "def classic_gram_schmidt(X):\n",
    "    V = X.copy()\n",
    "    \n",
    "    n_cols = X.shape[1]\n",
    "    for j in range(0, n_cols):\n",
    "        \n",
    "        # Ortogonalizar com cada u_i\n",
    "        for k in range(0, j):\n",
    "            V[:, j] = V[:, j] - projv_u(V[:, k], X[:, j])\n",
    "\n",
    "        # Ortonormalizar\n",
    "        V[:, j] = V[:, j] / np.linalg.norm(V[:, j])\n",
    "\n",
    "    return V\n",
    "\n",
    "# Propriedade das matrizes transpostas:\n",
    "# Q.T = Q⁻¹ => Q.T @ Q = I\n",
    "\n",
    "n = 200\n",
    "\n",
    "# Matriz que vamos calcular a ortogonalizacao\n",
    "# U = np.random.uniform(0,1,(n,n))\n",
    "U = hilbert(n) + 0.00001*np.eye(n)\n",
    "print('Matriz U:')\n",
    "print(U, end=\"\\n\\n\")\n",
    "\n",
    "# Matriz ortonormalizada\n",
    "V = classic_gram_schmidt(U)\n",
    "print(\"Matriz V:\")\n",
    "print(V, end=\"\\n\\n\")\n",
    "\n",
    "# Calcular o erro da matriz gerada por V, de uma matriz identidade.\n",
    "# Esperamos que retorne um erro baixo\n",
    "err = np.linalg.norm(np.eye(n) - V.T @ V)\n",
    "\n",
    "print('Erro numérico:', err)"
   ]
  },
  {
   "cell_type": "code",
   "execution_count": 55,
   "metadata": {
    "colab": {
     "base_uri": "https://localhost:8080/"
    },
    "executionInfo": {
     "elapsed": 643,
     "status": "ok",
     "timestamp": 1637675402635,
     "user": {
      "displayName": "Luiz Otávio Toratti",
      "photoUrl": "https://lh3.googleusercontent.com/a-/AOh14GiJ2lu8bHxmHs09q5vtu3fcsIxB6URKBsrhkai9=s64",
      "userId": "09984317548107739267"
     },
     "user_tz": 180
    },
    "id": "6bDdnNX_nVY9",
    "outputId": "a609415a-7cf6-4c7f-ce58-59314bbf7a6f"
   },
   "outputs": [
    {
     "name": "stdout",
     "output_type": "stream",
     "text": [
      "Matriz V:\n",
      "[[ 7.80884583e-01 -5.60666336e-01  2.53027291e-01 ... -1.49125637e-05\n",
      "  -1.47463680e-05 -1.45765805e-05]\n",
      " [ 3.90438387e-01  1.57426118e-01 -5.67513334e-01 ...  2.63875052e-04\n",
      "   2.58218834e-04  2.52572967e-04]\n",
      " [ 2.60292258e-01  2.50812673e-01 -3.60656439e-01 ... -6.23328938e-04\n",
      "  -5.96950652e-04 -5.70951160e-04]\n",
      " ...\n",
      " [ 3.94382209e-03  1.02985712e-02  1.69341181e-02 ...  9.79880682e-01\n",
      "  -4.56383096e-02 -4.41743754e-02]\n",
      " [ 3.92400389e-03  1.02474827e-02  1.68534961e-02 ...  6.48206070e-03\n",
      "   9.80264994e-01 -4.51114957e-02]\n",
      " [ 3.90438387e-03  1.01968985e-02  1.67736367e-02 ...  6.77590055e-03\n",
      "   6.71377594e-03  9.80647352e-01]]\n",
      "\n",
      "Matriz V:\n",
      "[[ 7.80884583e-01 -5.60666336e-01  2.53027291e-01 ... -1.49125636e-05\n",
      "  -1.47463681e-05 -1.45765803e-05]\n",
      " [ 3.90438387e-01  1.57426118e-01 -5.67513334e-01 ...  2.63875052e-04\n",
      "   2.58218834e-04  2.52572967e-04]\n",
      " [ 2.60292258e-01  2.50812673e-01 -3.60656439e-01 ... -6.23328938e-04\n",
      "  -5.96950652e-04 -5.70951160e-04]\n",
      " ...\n",
      " [ 3.94382209e-03  1.02985712e-02  1.69341181e-02 ...  9.79880682e-01\n",
      "  -4.56383096e-02 -4.41743754e-02]\n",
      " [ 3.92400389e-03  1.02474827e-02  1.68534961e-02 ...  6.48206070e-03\n",
      "   9.80264994e-01 -4.51114957e-02]\n",
      " [ 3.90438387e-03  1.01968985e-02  1.67736367e-02 ...  6.77590055e-03\n",
      "   6.71377594e-03  9.80647352e-01]]\n",
      "\n",
      "Erro numérico: 5.7082390009805704e-11\n",
      "Erro numérico t: 5.5776270610263456e-11\n"
     ]
    }
   ],
   "source": [
    "# Gram-Schmidt Modificado\n",
    "def modified_gram_schmidt(X):\n",
    "    V = X.copy()\n",
    "    Q = np.zeros(X.shape)\n",
    "\n",
    "    for j in range(X.shape[1]):\n",
    "        qj = V[:, j] / np.linalg.norm(V[:, j])\n",
    "        \n",
    "        for k in range(j+1, X.shape[1]):\n",
    "            V[:, k] = V[:, k] - np.dot(V[:, k], qj) * qj\n",
    "\n",
    "        Q[:, j] = qj\n",
    "    \n",
    "    return Q\n",
    "\n",
    "# Modificacao do Gram-Schmidt Modificado\n",
    "def modified_modified_gram_schmidt(X):\n",
    "    V = X.copy()\n",
    "    \n",
    "    n_cols = X.shape[1]\n",
    "    for j in range(0, n_cols):\n",
    "        for k in range(0, j):\n",
    "            # Projetando os v_j nos próprios v_ks ja calculados.\n",
    "            # Isso diminui a grandeza dos resultados e consequentemente\n",
    "            # os erros gerados\n",
    "            V[:, j] = V[:, j] - projv_u(V[:, k], V[:, j])\n",
    "\n",
    "        V[:, j] = V[:, j] / np.linalg.norm(V[:, j])\n",
    "\n",
    "    return V\n",
    "\n",
    "# Matriz ortonormalizada\n",
    "V2 = modified_gram_schmidt(U)\n",
    "print(\"Matriz V:\")\n",
    "print(V2, end=\"\\n\\n\")\n",
    "\n",
    "# Matriz ortonormalizada\n",
    "V2t = modified_modified_gram_schmidt(U)\n",
    "print(\"Matriz V:\")\n",
    "print(V2t, end=\"\\n\\n\")\n",
    "\n",
    "# Calcular o erro da matriz gerada por V, de uma matriz identidade.\n",
    "# Esperamos que retorne um erro baixo\n",
    "err = np.linalg.norm(np.eye(n) - V2.T @ V2)\n",
    "errt = np.linalg.norm(np.eye(n) - V2t.T @ V2t)\n",
    "\n",
    "print('Erro numérico:', err)\n",
    "print('Erro numérico t:', errt)"
   ]
  },
  {
   "cell_type": "code",
   "execution_count": 95,
   "metadata": {
    "colab": {
     "base_uri": "https://localhost:8080/"
    },
    "executionInfo": {
     "elapsed": 244,
     "status": "ok",
     "timestamp": 1637675710141,
     "user": {
      "displayName": "Luiz Otávio Toratti",
      "photoUrl": "https://lh3.googleusercontent.com/a-/AOh14GiJ2lu8bHxmHs09q5vtu3fcsIxB6URKBsrhkai9=s64",
      "userId": "09984317548107739267"
     },
     "user_tz": 180
    },
    "id": "N9sBCJIIpQf8",
    "outputId": "99c44f7f-ffcc-4dc8-fb10-2d0ccd74e362"
   },
   "outputs": [
    {
     "name": "stdout",
     "output_type": "stream",
     "text": [
      "Matriz A:\n",
      "[[0.432 0.012 0.609 0.955]\n",
      " [0.326 0.184 0.896 0.214]\n",
      " [0.245 0.808 0.183 0.627]\n",
      " [0.557 0.274 0.721 0.4  ]]\n",
      "Matriz Q:\n",
      "[[ 0.53  -0.365 -0.228  0.731]\n",
      " [ 0.4   -0.029  0.916 -0.018]\n",
      " [ 0.301  0.925 -0.098  0.213]\n",
      " [ 0.684 -0.107 -0.315 -0.649]]\n",
      "Q.T @ A:\n",
      "[[ 8.141e-01  5.103e-01  1.230e+00  1.054e+00]\n",
      " [ 4.183e-17  7.079e-01 -1.558e-01  1.822e-01]\n",
      " [-8.771e-18  6.337e-18  4.364e-01 -2.091e-01]\n",
      " [-2.050e-16 -8.673e-17 -1.804e-16  5.680e-01]]\n",
      "5.551115123125783e-17\n",
      "0.7078594290243703\n",
      "-0.1557645159255167\n",
      "0.18223022385447013\n",
      "Matriz A formada por Q @ R:\n",
      "[[0.432 0.012 0.609 0.955]\n",
      " [0.326 0.184 0.896 0.214]\n",
      " [0.245 0.808 0.183 0.627]\n",
      " [0.557 0.274 0.721 0.4  ]]\n"
     ]
    }
   ],
   "source": [
    "# Matriz com vetores-coluna de valor aleatório\n",
    "A = np.random.uniform(0,1,(4,4))\n",
    "print('Matriz A:')\n",
    "print(A)\n",
    "\n",
    "# Gera vetores-coluna ortonormais baseado nos vetores-coluna de A\n",
    "Q = modified_modified_gram_schmidt(A)\n",
    "print('Matriz Q:')\n",
    "print(Q)\n",
    "\n",
    "# Forma uma matriz triangular (Parte de baixo com zeros)\n",
    "# Por que essa parte é formada por 0s? \n",
    "# w0 é não ortogonal a A0, A1, A2 e A3\n",
    "# w1 é não ortogonal à A1, A2, A3\n",
    "# w2 é não ortogonal à A2, A3\n",
    "# w3 é não ortogonal à A3\n",
    "# Certo, faz sentido. Isso é por conta do modo como eles foram criados\n",
    "print('Q.T @ A:')\n",
    "print(Q.T @ A)\n",
    "\n",
    "# Podemos checar a ortogonalidade de cada vetor-coluna\n",
    "# gerado em Q, com os vetores-coluna de A.\n",
    "print(np.dot(Q.T[1], A.T[0]))\n",
    "print(np.dot(Q.T[1], A.T[1]))\n",
    "print(np.dot(Q.T[1], A.T[2]))\n",
    "print(np.dot(Q.T[1], A.T[3]))\n",
    "\n",
    "# Decomposicao da matriz A\n",
    "# Q.T @ A = R\n",
    "# (Q @ Q.T) @ A = Q @ R\n",
    "# I @ A = Q @ R\n",
    "# A = Q @ R\n",
    "# Isso significa que toda matriz A pode ser decomposta por uma\n",
    "# matriz triangular e uma matriz com os vetores-coluna ortonormais\n",
    "\n",
    "# R é a matriz triangular\n",
    "R = Q.T @ A\n",
    "print('Matriz A formada por Q @ R:')\n",
    "print(Q @ R)"
   ]
  },
  {
   "cell_type": "markdown",
   "metadata": {
    "id": "CPB6zANSLp0t"
   },
   "source": [
    "## **Fatoração QR**\n",
    "\n",
    "Seja $A$ uma matriz $m \\times n$ com as colunas linearmente independentes, então $A$ pode ser fatorada como $A=QR$, onde $Q$ é uma matriz $m \\times n$ cujas colunas formam uma base ortonormal para $Col \\; A$ e $R$ é uma matriz $n \\times n$ triangular superior, invertível e com os elementos da diagonal positivos."
   ]
  },
  {
   "cell_type": "markdown",
   "metadata": {
    "id": "OaZnb6BXLnyU"
   },
   "source": [
    "$$\n",
    "\\underbrace{\n",
    "\\begin{bmatrix}\n",
    "| &  & |\\\\\n",
    "\\mathbf{u}_1  & \\cdots & \\mathbf{u}_n\\\\\n",
    "| &  & |\n",
    "\\end{bmatrix}}_{A}=\n",
    "\\underbrace{\n",
    "\\begin{bmatrix}\n",
    "| &  & |\\\\\n",
    "\\mathbf{q}_1  & \\cdots & \\mathbf{q}_n\\\\\n",
    "| &  & |\n",
    "\\end{bmatrix}}_{Q}\n",
    "\\underbrace{\n",
    "\\begin{bmatrix}\n",
    "r_{11} & r_{12} & \\cdots & r_{1n}\\\\\n",
    "0      & r_{22} & \\cdots & r_{2n}\\\\\n",
    "\\vdots & \\vdots & \\ddots & \\vdots\\\\\n",
    "0      & 0      & \\cdots & r_{nn}\\\\\n",
    "\\end{bmatrix}}_{R}\n",
    "$$\n",
    "\n",
    "Como $Q$ é ortogonal, então $Q^{-1} = Q^\\top$\n",
    "\n",
    "$$\n",
    "\\begin{bmatrix}\n",
    "-\\!- & \\mathbf{q}^\\top_1 & -\\!-\\\\\n",
    "& \\vdots &\\\\\n",
    "-\\!- & \\mathbf{q}^\\top_n & -\\!-\n",
    "\\end{bmatrix}\n",
    "\\begin{bmatrix}\n",
    "| &  & |\\\\\n",
    "\\mathbf{u}_1  & \\cdots & \\mathbf{u}_n\\\\\n",
    "| &  & |\n",
    "\\end{bmatrix}\n",
    "=\n",
    "\\begin{bmatrix}\n",
    "r_{11} & r_{12} & \\cdots & r_{1n}\\\\\n",
    "0      & r_{22} & \\cdots & r_{2n}\\\\\n",
    "\\vdots & \\vdots & \\ddots & \\vdots\\\\\n",
    "0      & 0      & \\cdots & r_{nn}\\\\\n",
    "\\end{bmatrix}\n",
    "$$\n",
    "\n",
    "$$\n",
    "\\begin{bmatrix}\n",
    "\\mathbf{q}^\\top_1\\mathbf{u}_1 & \\mathbf{q}^\\top_1\\mathbf{u}_2 & \\cdots & \\mathbf{q}^\\top_1\\mathbf{u}_n \\\\\n",
    "\\mathbf{q}^\\top_2\\mathbf{u}_1 & \\mathbf{q}^\\top_2\\mathbf{u}_2 & \\cdots & \\mathbf{q}^\\top_2\\mathbf{u}_n \\\\\n",
    "  &   & \\vdots & \\\\\n",
    "\\mathbf{q}^\\top_n\\mathbf{u}_1 & \\mathbf{q}^\\top_n\\mathbf{u}_2 & \\cdots & \\mathbf{q}^\\top_n\\mathbf{u}_n\n",
    "\\end{bmatrix}\n",
    "=\n",
    "\\begin{bmatrix}\n",
    "r_{11} & r_{12} & \\cdots & r_{1n}\\\\\n",
    "0      & r_{22} & \\cdots & r_{2n}\\\\\n",
    "\\vdots & \\vdots & \\ddots & \\vdots\\\\\n",
    "0      & 0      & \\cdots & r_{nn}\\\\\n",
    "\\end{bmatrix}\n",
    "$$"
   ]
  },
  {
   "cell_type": "code",
   "execution_count": 6,
   "metadata": {
    "colab": {
     "base_uri": "https://localhost:8080/"
    },
    "executionInfo": {
     "elapsed": 239,
     "status": "ok",
     "timestamp": 1637676411861,
     "user": {
      "displayName": "Luiz Otávio Toratti",
      "photoUrl": "https://lh3.googleusercontent.com/a-/AOh14GiJ2lu8bHxmHs09q5vtu3fcsIxB6URKBsrhkai9=s64",
      "userId": "09984317548107739267"
     },
     "user_tz": 180
    },
    "id": "U0Z3u0InNZnd",
    "outputId": "a84a83e0-dcc6-44d1-9b41-fe2e41bc96a2"
   },
   "outputs": [
    {
     "name": "stdout",
     "output_type": "stream",
     "text": [
      "5.539143803534667e-16\n"
     ]
    }
   ],
   "source": [
    "# Isso aqui ainda esta usando aquele modifief_gs bizarro\n",
    "# Fatoração QR\n",
    "def qr_mgs(X):\n",
    "    V = X.copy()\n",
    "    Q = np.zeros(X.shape)\n",
    "    R = np.zeros((X.shape[1], X.shape[1]))\n",
    "    for j in range(X.shape[1]):\n",
    "        R[j,j] = np.linalg.norm(V[:,j])\n",
    "        qj = V[:,j] / R[j,j]\n",
    "        for k in range(j+1, X.shape[1]):\n",
    "            R[j,k] = np.dot(V[:,k], qj)\n",
    "            V[:,k] = V[:,k] - R[j,k] * qj\n",
    "        Q[:,j] = qj\n",
    "    return (Q, R)\n",
    "\n",
    "Q,R = qr_mgs(X)\n",
    "\n",
    "err = np.linalg.norm(X - Q @ R)\n",
    "\n",
    "print(err)\n",
    "\n",
    "# Aplicação do método QR. Resolver sistemas lineares\n",
    "# Ax = b\n",
    "# QRx = b\n",
    "# Rx = Q.T * b (Rx é uma matriz triangular, maravilha!!)\n",
    "\n",
    "# Q, R = np.linalg.qr(X) (Funcao Numpy)"
   ]
  },
  {
   "cell_type": "markdown",
   "metadata": {
    "id": "9zBQSq6MNi2d"
   },
   "source": [
    "## **Pagerank**\n",
    "\n",
    "Páginas da web podem ser representadas como um grafo direcionado.\n",
    "\n",
    "- Uma página é importante se páginas importantes têm link para ela;\n",
    "- Eleição: um link de $A \\to B$ é um voto de A para B;\n",
    "- Visão probabilística do Pagerank: é a probabilidade de uma página web\n",
    "ser visitada em certo instante de tempo durante um passeio aleatório\n",
    "infinito."
   ]
  },
  {
   "cell_type": "markdown",
   "metadata": {
    "id": "LXRmxO-aRuh1"
   },
   "source": [
    "![L19PageRank_80_0.jpg](data:image/jpeg;base64,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)"
   ]
  },
  {
   "cell_type": "markdown",
   "metadata": {
    "id": "fK71ouiKQDV9"
   },
   "source": [
    "\\begin{split}P = \\begin{bmatrix}\n",
    "0&0&1/3&0&0&0\\\\\n",
    "1/2&0&1/3&0&0&0\\\\\n",
    "1/2&0&0&0&0&0\\\\\n",
    "0&0&0&0&1/2&1\\\\\n",
    "0&0&1/3&1/2&0&0\\\\\n",
    "0&0&0&1/2&1/2&0\n",
    "\\end{bmatrix} \\;\\;{\\rightarrow}\\;\\;\n",
    "P' = \\begin{bmatrix}\n",
    "0&1/6&1/3&0&0&0\\\\\n",
    "1/2&1/6&1/3&0&0&0\\\\\n",
    "1/2&1/6&0&0&0&0\\\\\n",
    "0&1/6&0&0&1/2&1\\\\\n",
    "0&1/6&1/3&1/2&0&0\\\\\n",
    "0&1/6&0&1/2&1/2&0\n",
    "\\end{bmatrix}\\end{split}"
   ]
  },
  {
   "cell_type": "code",
   "execution_count": 7,
   "metadata": {
    "colab": {
     "base_uri": "https://localhost:8080/"
    },
    "executionInfo": {
     "elapsed": 253,
     "status": "ok",
     "timestamp": 1637670744405,
     "user": {
      "displayName": "Luiz Otávio Toratti",
      "photoUrl": "https://lh3.googleusercontent.com/a-/AOh14GiJ2lu8bHxmHs09q5vtu3fcsIxB6URKBsrhkai9=s64",
      "userId": "09984317548107739267"
     },
     "user_tz": 180
    },
    "id": "LD2m8ZD7N2AV",
    "outputId": "2f494e7a-c1a6-487c-e27c-3115b7a7db8b"
   },
   "outputs": [
    {
     "name": "stdout",
     "output_type": "stream",
     "text": [
      "[ 1.          0.61008601 -0.08958752 -0.45       -0.45       -0.37049849]\n"
     ]
    }
   ],
   "source": [
    "# IDEIA GERAL: dado um site, qual o próximo site que você gostaria de ir?\n",
    "# Pra isso que o PageRank serve.\n",
    "# Ele gera a probabiliade igual baseado em cada site, e depois ve qual\n",
    "# o site com mais probabilidade baseado no site que você está atualmente.\n",
    "# Baseado nisso, ele coloca na ordem de site sugeridos, os sites que você\n",
    "# provavelmente gostaria de ir depois. GENIAL!!!\n",
    "\n",
    "# Matriz de transição\n",
    "P = np.array([\n",
    "[0,   1/6, 1/3, 0,   0,   0],\n",
    "[1/2, 1/6, 1/3, 0,   0,   0],\n",
    "[1/2, 1/6, 0,   0,   0,   0],\n",
    "[0,   1/6, 0,   0,   1/2, 1],\n",
    "[0,   1/6, 1/6, 1/2, 0,   0],\n",
    "[0,   1/6, 1/6, 1/2, 1/2, 0]])\n",
    "\n",
    "# Matriz Google\n",
    "alpha = 0.1\n",
    "P = (1-alpha) * P + alpha * np.ones(P.shape) / P.shape[0]\n",
    "\n",
    "# Estamos interessados em Px = 1x (vetor estacionário)\n",
    "eigenvalues, eigenvectors = np.linalg.eig(P) # Ideal: método das potencias\n",
    "print(np.real(eigenvalues))"
   ]
  },
  {
   "cell_type": "code",
   "execution_count": 8,
   "metadata": {
    "colab": {
     "base_uri": "https://localhost:8080/"
    },
    "executionInfo": {
     "elapsed": 241,
     "status": "ok",
     "timestamp": 1637670749047,
     "user": {
      "displayName": "Luiz Otávio Toratti",
      "photoUrl": "https://lh3.googleusercontent.com/a-/AOh14GiJ2lu8bHxmHs09q5vtu3fcsIxB6URKBsrhkai9=s64",
      "userId": "09984317548107739267"
     },
     "user_tz": 180
    },
    "id": "pGRn_y3STi3U",
    "outputId": "e825d3e9-e7f4-44ff-cbf6-71e5a3f34b21"
   },
   "outputs": [
    {
     "name": "stdout",
     "output_type": "stream",
     "text": [
      "0\n"
     ]
    }
   ],
   "source": [
    "# Posição do maior autovalor (1)\n",
    "indices = np.argsort(eigenvalues)\n",
    "principal = indices[-1]\n",
    "print(principal)"
   ]
  },
  {
   "cell_type": "code",
   "execution_count": 9,
   "metadata": {
    "colab": {
     "base_uri": "https://localhost:8080/"
    },
    "executionInfo": {
     "elapsed": 8,
     "status": "ok",
     "timestamp": 1637670750784,
     "user": {
      "displayName": "Luiz Otávio Toratti",
      "photoUrl": "https://lh3.googleusercontent.com/a-/AOh14GiJ2lu8bHxmHs09q5vtu3fcsIxB6URKBsrhkai9=s64",
      "userId": "09984317548107739267"
     },
     "user_tz": 180
    },
    "id": "c4o5o0o_TmRE",
    "outputId": "f15c1437-781d-4487-fe20-82d1f04343de"
   },
   "outputs": [
    {
     "name": "stdout",
     "output_type": "stream",
     "text": [
      "[0.03721197 0.05395735 0.04150565 0.37641334 0.20037212 0.29053957]\n"
     ]
    }
   ],
   "source": [
    "# Vetor estacionário\n",
    "steadyState = np.real(eigenvectors[:,principal])\n",
    "steadyState = steadyState / np.sum(steadyState)\n",
    "print(steadyState)"
   ]
  },
  {
   "cell_type": "code",
   "execution_count": 10,
   "metadata": {
    "colab": {
     "base_uri": "https://localhost:8080/"
    },
    "executionInfo": {
     "elapsed": 246,
     "status": "ok",
     "timestamp": 1637670753057,
     "user": {
      "displayName": "Luiz Otávio Toratti",
      "photoUrl": "https://lh3.googleusercontent.com/a-/AOh14GiJ2lu8bHxmHs09q5vtu3fcsIxB6URKBsrhkai9=s64",
      "userId": "09984317548107739267"
     },
     "user_tz": 180
    },
    "id": "xxmyjG_cTpSM",
    "outputId": "747cd78d-8842-4f20-d23e-30c2fc25c0b7"
   },
   "outputs": [
    {
     "name": "stdout",
     "output_type": "stream",
     "text": [
      "[0 2 1 4 5 3]\n"
     ]
    }
   ],
   "source": [
    "# Ordem das páginas no vetor estacionário\n",
    "reverseOrder = np.argsort(steadyState)\n",
    "print(reverseOrder)"
   ]
  },
  {
   "cell_type": "code",
   "execution_count": 11,
   "metadata": {
    "colab": {
     "base_uri": "https://localhost:8080/"
    },
    "executionInfo": {
     "elapsed": 6,
     "status": "ok",
     "timestamp": 1637670754784,
     "user": {
      "displayName": "Luiz Otávio Toratti",
      "photoUrl": "https://lh3.googleusercontent.com/a-/AOh14GiJ2lu8bHxmHs09q5vtu3fcsIxB6URKBsrhkai9=s64",
      "userId": "09984317548107739267"
     },
     "user_tz": 180
    },
    "id": "LEbUSH7GTujs",
    "outputId": "5d162c1a-6258-43ee-8a86-61265670ad3c"
   },
   "outputs": [
    {
     "name": "stdout",
     "output_type": "stream",
     "text": [
      "final order = [4 6 5 2 3 1]\n",
      "importance = [0.37641334 0.29053957 0.20037212 0.05395735 0.04150565 0.03721197]\n"
     ]
    }
   ],
   "source": [
    "# Inverte a ordem e ajusta os índices\n",
    "order = 1 + reverseOrder[::-1]\n",
    "print('final order = {}'.format(order))\n",
    "print('importance = {}'.format(steadyState[order-1]))"
   ]
  }
 ],
 "metadata": {
  "colab": {
   "authorship_tag": "ABX9TyOac+lyuM62t5WrudD//3Wp",
   "collapsed_sections": [],
   "name": "Gram-Schmidt e Pagerank .ipynb",
   "provenance": []
  },
  "kernelspec": {
   "display_name": "Python 3",
   "language": "python",
   "name": "python3"
  },
  "language_info": {
   "codemirror_mode": {
    "name": "ipython",
    "version": 3
   },
   "file_extension": ".py",
   "mimetype": "text/x-python",
   "name": "python",
   "nbconvert_exporter": "python",
   "pygments_lexer": "ipython3",
   "version": "3.8.10"
  }
 },
 "nbformat": 4,
 "nbformat_minor": 1
}
