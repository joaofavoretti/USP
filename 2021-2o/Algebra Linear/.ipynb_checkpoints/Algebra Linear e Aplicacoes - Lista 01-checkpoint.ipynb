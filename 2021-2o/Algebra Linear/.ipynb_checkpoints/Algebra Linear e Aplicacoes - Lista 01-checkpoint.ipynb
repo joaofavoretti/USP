{
 "cells": [
  {
   "cell_type": "markdown",
   "metadata": {
    "id": "GgGCzne_G1lH"
   },
   "source": [
    "#SME0142 - Álgebra Linear e Aplicações\n",
    "####Docente: Cynthia de Oliveira Lage Ferreira\n",
    "#### PAE - Luiz Otávio Toratti\n",
    "\n",
    "###Lista de Exercícios\n"
   ]
  },
  {
   "cell_type": "code",
   "execution_count": 2,
   "metadata": {
    "executionInfo": {
     "elapsed": 232,
     "status": "ok",
     "timestamp": 1632917098532,
     "user": {
      "displayName": "Luiz Otávio Toratti",
      "photoUrl": "https://lh3.googleusercontent.com/a-/AOh14GiJ2lu8bHxmHs09q5vtu3fcsIxB6URKBsrhkai9=s64",
      "userId": "09984317548107739267"
     },
     "user_tz": 180
    },
    "id": "c28uky4gIR8v"
   },
   "outputs": [],
   "source": [
    "import numpy as np\n",
    "import matplotlib.pyplot as plt"
   ]
  },
  {
   "cell_type": "markdown",
   "metadata": {
    "id": "xne6N2o_4Izi"
   },
   "source": [
    "####Exercício 01\n",
    "Seja $W$ o subespaço de $M_{3\\times2}(\\mathbb{R})$ gerado pelas matrizes\n",
    "\n",
    "$$A_1 = \\begin{bmatrix} 0 & 0 \\\\ 1 & 1 \\\\ 0 & 0 \\end{bmatrix} , \\;\n",
    "A_2 = \\begin{bmatrix} 0 & 1 \\\\ 0 & -1 \\\\ 1 & 0 \\end{bmatrix} \\; \\text{e} \\;\n",
    "A_3 = \\begin{bmatrix} 0 & 1 \\\\ 0 & 0 \\\\ 0 & 0 \\end{bmatrix} .$$\n",
    "\n",
    "Implemente um código para verificar se a matriz $$A = \\begin{bmatrix} 0 & 2 \\\\ 3 & 4 \\\\ 5 & 0 \\end{bmatrix}$$ pertence ao subespaço $W$."
   ]
  },
  {
   "cell_type": "code",
   "execution_count": null,
   "metadata": {
    "id": "8tO51Wbk532I"
   },
   "outputs": [],
   "source": [
    "# Solução\n"
   ]
  },
  {
   "cell_type": "markdown",
   "metadata": {
    "id": "utkuyjb6Vy_0"
   },
   "source": [
    "---"
   ]
  },
  {
   "cell_type": "markdown",
   "metadata": {
    "id": "4Igij0Ch8y8K"
   },
   "source": [
    "####Exercício 02\n",
    "Considere o subespaço do $\\mathbb{R}^3$ $$U = \\{(x,y,z)\\in\\mathbb{R}^3; \\; x-y-z=0\\}$$\n",
    "- Obtenha um subespaço $W$ tal que $\\mathbb{R}^3 = U \\oplus W$.\n",
    "- Implemente uma visualização para os subespaços $U$ e $W$.\n",
    "- Mostre que todo vetor do $\\mathbb{R}^3$ pode ser escrito de modo único como combinação linear dos vetores de $B = B_1 \\cup B_2$, onde $B_1$ e $B_2$ são bases de $U$ e $W$, respectivamente. "
   ]
  },
  {
   "cell_type": "code",
   "execution_count": null,
   "metadata": {
    "id": "ywJVCJkI8yfi"
   },
   "outputs": [],
   "source": [
    "# Solução\n"
   ]
  },
  {
   "cell_type": "markdown",
   "metadata": {
    "id": "k0K7hEBmV199"
   },
   "source": [
    "---"
   ]
  },
  {
   "cell_type": "markdown",
   "metadata": {
    "id": "GhQWpcAnKNGG"
   },
   "source": [
    "####Exercício 03\n",
    "Considere o espaço vetorial $P_2(\\mathbb{R})$ e as bases ordenadas $C = \\{1, x, x^2\\}$ e $B = \\{2, 1-x, 1-x^2\\}$. \n",
    "\n",
    "- Implemente um código para encontrar a matriz mudança de base $P$, da base $B$ para a base $C$.\n",
    "- Que relação há entre a matriz $P$ e a matriz $Q$, matriz mudança de base da base $C$ para a base $B$ ? Obtenha a matriz Q usando uma função pronta do python. \n",
    "- O que a matriz Q nos diz? Que relações entre os vetores da base $C$ e $B$ ela nos dá ?\n",
    "- Utilize os códigos implementados e obtenha as coordenadas do polinômio $p(x) = 2 + 2x + 2x^2$ na base $B$."
   ]
  },
  {
   "cell_type": "code",
   "execution_count": null,
   "metadata": {
    "id": "T8bYc5HxQLD3"
   },
   "outputs": [],
   "source": [
    "# Solução\n"
   ]
  },
  {
   "cell_type": "markdown",
   "metadata": {
    "id": "SLjZVZpWV4ev"
   },
   "source": [
    "---"
   ]
  },
  {
   "cell_type": "markdown",
   "metadata": {
    "id": "Ljj5-Qv-C4Xj"
   },
   "source": [
    "####Exercício 04\n",
    "Verifique se cada uma das afirmações abaixo é verdadeira ou falsa. Justifique a sua resposta exibindo uma tal transformação ou justificando através de algum resultado visto em aula.\n",
    "\n",
    "( ) Existe uma transformação linear $T: \\mathbb{R}^4 \\to \\mathbb{R}^3$ que é injetora.\n",
    "\n",
    "( ) Existe uma transformação linear $T: \\mathbb{R}^4 \\to P_2(\\mathbb{R})$ que é sobrejetora."
   ]
  },
  {
   "cell_type": "markdown",
   "metadata": {
    "id": "D9vaH-VJWDeU"
   },
   "source": [
    "---"
   ]
  },
  {
   "cell_type": "markdown",
   "metadata": {
    "id": "AzkstYILPjaZ"
   },
   "source": [
    "####Exercício 05\n",
    "Determine uma transformação linear $T:\\mathbb{R}^5 \\to \\mathbb{R}^3$ tal que $Im(T) = [(1,0,0),(0,1,0),(1,,1,1)]$ e $Ker(T) = [(1,1,1,1,1),(1,1,1,1,0)]$."
   ]
  },
  {
   "cell_type": "code",
   "execution_count": null,
   "metadata": {
    "id": "-6jEhqDVPoY_"
   },
   "outputs": [],
   "source": [
    "# Solução\n"
   ]
  },
  {
   "cell_type": "markdown",
   "metadata": {
    "id": "vwOCItUTWEq-"
   },
   "source": [
    "---"
   ]
  },
  {
   "cell_type": "markdown",
   "metadata": {
    "id": "OEa6g1CAvZC-"
   },
   "source": [
    "####Exercício 06\n",
    "Seja a transformação linear $T:\\mathbb{R}^2 \\to \\mathbb{R}^2$ associada a matriz \n",
    "$$ A = \n",
    "\\begin{bmatrix}\n",
    "2 & 1 \\\\\n",
    "1 & 2 \n",
    "\\end{bmatrix}\n",
    ".$$\n",
    "Considere a circunferência $C=\\{(x,y)\\in\\mathbb{R}^2;\\; x^2+y^2=1\\}$. Implemente uma visualização da imagem da circunferência $C$ pela transformação linear $T$.\n",
    "- Dica: Discretize um conjunto de pontos de $C$ através da parametrização $(x, y) = (cos(t), sen(t))$ e aplique a transformação nesses pontos."
   ]
  },
  {
   "cell_type": "code",
   "execution_count": null,
   "metadata": {
    "id": "ONQKgPjWwrC-"
   },
   "outputs": [],
   "source": [
    "# Solução\n",
    "\n",
    "# Discretização do parâmetro t\n",
    "t = np.linspace(0, 2*np.pi, 100)\n",
    "\n",
    "# Utilize a discretização do parâmetro t para obter os pontos da circunferência.\n"
   ]
  },
  {
   "cell_type": "markdown",
   "metadata": {
    "id": "nZmt2n1JWGXs"
   },
   "source": [
    "---"
   ]
  },
  {
   "cell_type": "markdown",
   "metadata": {
    "id": "kw8NEu3gJZd3"
   },
   "source": [
    "####Exercício 07\n",
    "Seja $T:\\mathbb{R}^2 \\to \\mathbb{R}^2$ a transformação linear que rotaciona cada ponto do $\\mathbb{R}^2$, em torno da origem, de um ângulo $\\theta$ em relação ao eixo $ox$, no sentido anti-horário para valores positivos do ângulo.\n",
    "- Verifique que $T(1,0) = (cos\\;\\theta,\\;sen\\;\\theta)$ e $T(0,1) = (-sen\\;\\theta,\\;cos\\;\\theta)$.\n",
    "- Determine a transformação $T$ e sua matriz na base canônica.\n",
    "- Implemente uma função que recebe como parâmetro um ângulo $\\theta$ e retorna a matriz de rotação.\n",
    "- Aplique essa matriz de rotação no triângulo de vértices $(-1,1)$, $(1,1)$ e $(0,1)$ com $\\theta=\\pi / 4$ e visualize o resultado."
   ]
  },
  {
   "cell_type": "code",
   "execution_count": 4,
   "metadata": {
    "colab": {
     "base_uri": "https://localhost:8080/",
     "height": 378
    },
    "executionInfo": {
     "elapsed": 648,
     "status": "ok",
     "timestamp": 1632917111790,
     "user": {
      "displayName": "Luiz Otávio Toratti",
      "photoUrl": "https://lh3.googleusercontent.com/a-/AOh14GiJ2lu8bHxmHs09q5vtu3fcsIxB6URKBsrhkai9=s64",
      "userId": "09984317548107739267"
     },
     "user_tz": 180
    },
    "id": "Bsc3-NqTYHM4",
    "outputId": "f240ec08-c521-4ba3-99ea-49ad8398c02b"
   },
   "outputs": [
    {
     "data": {
      "image/png": "[encoded data removed]",
      "text/plain": [
       "<Figure size 432x432 with 1 Axes>"
      ]
     },
     "metadata": {
      "needs_background": "light"
     },
     "output_type": "display_data"
    }
   ],
   "source": [
    "# Solução\n",
    "\n",
    "# Vértices do triângulo\n",
    "vertices = np.array([[-1,-1], [1,-1], [0,1]])\n",
    "\n",
    "# Impemente a função abaixo que recebe o ângulo theta\n",
    "# e retorna a matriz de rotação.\n",
    "def matrizRotacao(theta):\n",
    "  pass\n",
    "\n",
    "\n",
    "# Aplique a transformação nos vértices do triângulo\n",
    "# Você pode criar um novo conjunto de vértces ou \n",
    "# modificar os originais.\n",
    "\n",
    "\n",
    "# Um simples plot para o triângulo\n",
    "def plotSimples(vx, vy):\n",
    "  plt.figure(figsize=(6,6))\n",
    "  plt.axis([-2, 2, -2, 2])\n",
    "  plt.plot([-2,2], [0,0], 'k--', alpha=0.75)\n",
    "  plt.plot([0,0], [-2,2],'k--', alpha=0.75)\n",
    "  plt.plot(vx, vy, 'k')\n",
    "  plt.plot([vx[0], vx[-1]], [vy[0], vy[-1]], 'k')\n",
    "  plt.plot(vx, vy, 'bo')\n",
    "  plt.grid('True')\n",
    "\n",
    "# Plot\n",
    "plotSimples(vertices[:,0], vertices[:,1])"
   ]
  },
  {
   "cell_type": "markdown",
   "metadata": {
    "id": "Sjdtt8GrWInE"
   },
   "source": [
    "---"
   ]
  },
  {
   "cell_type": "markdown",
   "metadata": {
    "id": "Wp9oH_KT76Nl"
   },
   "source": [
    "####Exercício 08\n",
    "Considere o espaço vetorial real $\\mathbb{R}^2$. Sejam as transformações\n",
    "- $T_1:\\mathbb{R}^2 \\to \\mathbb{R}^2$ tal que $T_1(x,y)=(-x,y)$ - **reflexão em torno do eixo $oy$**;\n",
    "- $T_2:\\mathbb{R}^2 \\to \\mathbb{R}^2$ tal que a matriz da transformação é dada por\n",
    "$$[T_2] = \\begin{bmatrix} 1 & k \\\\ 0 & 1 \\end{bmatrix},$$\n",
    "com $k\\in\\mathbb{R}$ - **cisalhamento horizontal**.\n",
    "\n",
    "1. Aplique as transformações $T_1$ e $T_2$ no quadrado de vértices $(0,0)$, $(1,0)$, $(1,1)$ e $(0,1)$ variando o parâmetro k e visualize os resultados;\n",
    "2. Determine a transformação que primeiro faz um cisalhamento horizontal com $k=-0.5$ mapeando $e_2$ em $e_2 - 0.5e_1$ ($e_1$ se mantém inalterado) e então reflete o resultado em torno do eixo $oy$. **Dica:** Determine a posição final das imagens de $e_1$ e $e_2$.\n",
    "3. Qual a relação entre as matrizes $[T_1]$, $[T_2]$ e a matriz da transformação obtida no item anterior?\n",
    "4. Determine a transformação de reflexão em torno do eixo $oy$ e a transformação de cisalhamento vertical."
   ]
  },
  {
   "cell_type": "code",
   "execution_count": 10,
   "metadata": {
    "executionInfo": {
     "elapsed": 229,
     "status": "ok",
     "timestamp": 1632917427179,
     "user": {
      "displayName": "Luiz Otávio Toratti",
      "photoUrl": "https://lh3.googleusercontent.com/a-/AOh14GiJ2lu8bHxmHs09q5vtu3fcsIxB6URKBsrhkai9=s64",
      "userId": "09984317548107739267"
     },
     "user_tz": 180
    },
    "id": "3vyKN25aEwq3"
   },
   "outputs": [],
   "source": [
    "# Solução\n"
   ]
  }
 ],
 "metadata": {
  "colab": {
   "authorship_tag": "ABX9TyNVu4Uu9I2MyV5zp/kr0+ns",
   "name": "Álgebra Linear e Aplicações - Lista 01.ipynb",
   "provenance": []
  },
  "interpreter": {
   "hash": "916dbcbb3f70747c44a77c7bcd40155683ae19c65e1c03b4aa3499c5328201f1"
  },
  "kernelspec": {
   "display_name": "Python 3",
   "language": "python",
   "name": "python3"
  },
  "language_info": {
   "codemirror_mode": {
    "name": "ipython",
    "version": 3
   },
   "file_extension": ".py",
   "mimetype": "text/x-python",
   "name": "python",
   "nbconvert_exporter": "python",
   "pygments_lexer": "ipython3",
   "version": "3.8.10"
  }
 },
 "nbformat": 4,
 "nbformat_minor": 2
}
