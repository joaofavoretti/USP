{
 "cells": [
  {
   "cell_type": "markdown",
   "metadata": {
    "id": "GgGCzne_G1lH"
   },
   "source": [
    "# SME0142 - Álgebra Linear e Aplicações\n",
    "#### Docente: Cynthia de Oliveira Lage Ferreira\n",
    "#### PAE - Luiz Otávio Toratti\n",
    "\n",
    "### Lista de Exercícios\n"
   ]
  },
  {
   "cell_type": "code",
   "execution_count": 2,
   "metadata": {
    "executionInfo": {
     "elapsed": 232,
     "status": "ok",
     "timestamp": 1632917098532,
     "user": {
      "displayName": "Luiz Otávio Toratti",
      "photoUrl": "https://lh3.googleusercontent.com/a-/AOh14GiJ2lu8bHxmHs09q5vtu3fcsIxB6URKBsrhkai9=s64",
      "userId": "09984317548107739267"
     },
     "user_tz": 180
    },
    "id": "c28uky4gIR8v"
   },
   "outputs": [],
   "source": [
    "import numpy as np\n",
    "import matplotlib.pyplot as plt"
   ]
  },
  {
   "cell_type": "markdown",
   "metadata": {
    "id": "xne6N2o_4Izi"
   },
   "source": [
    "#### Exercício 01\n",
    "Seja $W$ o subespaço de $M_{3\\times2}(\\mathbb{R})$ gerado pelas matrizes\n",
    "\n",
    "$$A_1 = \\begin{bmatrix} 0 & 0 \\\\ 1 & 1 \\\\ 0 & 0 \\end{bmatrix} , \\;\n",
    "A_2 = \\begin{bmatrix} 0 & 1 \\\\ 0 & -1 \\\\ 1 & 0 \\end{bmatrix} \\; \\text{e} \\;\n",
    "A_3 = \\begin{bmatrix} 0 & 1 \\\\ 0 & 0 \\\\ 0 & 0 \\end{bmatrix} .$$\n",
    "\n",
    "Implemente um código para verificar se a matriz $$A = \\begin{bmatrix} 0 & 2 \\\\ 3 & 4 \\\\ 5 & 0 \\end{bmatrix}$$ pertence ao subespaço $W$."
   ]
  },
  {
   "cell_type": "markdown",
   "metadata": {},
   "source": [
    "#### Solução:\n",
    "Para verificar se a matriz $A$ está contida dentro do subespaço $W$, temos que escrever $A$ em função de $A_1$, $A_2$, $A_3$\n",
    "$$\n",
    "    \\begin{bmatrix}\n",
    "        0 & 2 \\\\\n",
    "        3 & 4 \\\\\n",
    "        5 & 0 \\\\\n",
    "    \\end{bmatrix}\n",
    "    \n",
    "    =\n",
    "    a_1\n",
    "    \\begin{bmatrix}\n",
    "        0 & 2 \\\\\n",
    "        3 & 4 \\\\\n",
    "        5 & 0 \\\\\n",
    "    \\end{bmatrix}\n",
    "    +\n",
    "    a_2\n",
    "    \\begin{bmatrix}\n",
    "        0 & 2 \\\\\n",
    "        3 & 4 \\\\\n",
    "        5 & 0 \\\\\n",
    "    \\end{bmatrix}\n",
    "    +\n",
    "    a_3\n",
    "    \\begin{bmatrix}\n",
    "        0 & 2 \\\\\n",
    "        3 & 4 \\\\\n",
    "        5 & 0 \\\\\n",
    "    \\end{bmatrix} \n",
    "$$\n",
    "E assim, formamos o sistema:\n",
    "$$\n",
    "\\begin{cases}\n",
    "    a_2 + a_3 = 2\\\\\n",
    "    a_1 = 3\\\\\n",
    "    a_1 - a_2 = 4\\\\\n",
    "    a_2 = 5\\\\\n",
    "\\end{cases}\n",
    "$$\n",
    "Como $a_1 = 3$ e $a_2 = 5$, mas $a_1 - a_2 \\neq 4$, concluimos que $A$ não pertence à $W$."
   ]
  },
  {
   "cell_type": "code",
   "execution_count": 9,
   "metadata": {
    "id": "8tO51Wbk532I"
   },
   "outputs": [
    {
     "name": "stdout",
     "output_type": "stream",
     "text": [
      "[ 3. -1.  3.]\n"
     ]
    }
   ],
   "source": [
    "# Considerando apenas as primeiras 3 equações do sistema, podemos resolver o sistema linear e confirmar se a_2 = 5 como dado na ultima equação.\n",
    "# Dessa forma, passando o sistema para uma multiplicação de Matrizes A * x = b, com x = [a_1, a_2, a_3]\n",
    "A = np.array([[0, 1, 1], [1, 0, 0], [1, -1, 0]])\n",
    "b = np.array([2, 3, 4])\n",
    "\n",
    "# Utilizando a funcao do numpy para resolve o sistema, obtemos os seguintes valores para [a_1, a_2, a_3]\n",
    "x = np.linalg.solve(A, b)\n",
    "\n",
    "print(x)\n",
    "# Dessa forma sabemos que a_1 = 3; a_2 = -1; a_3 = 3 desconsiderando a ultima equação.\n",
    "# Como a_2 != 5, concluimos que não é possível resolver o sistema e a matriz A não pertence à W"
   ]
  },
  {
   "cell_type": "markdown",
   "metadata": {
    "id": "utkuyjb6Vy_0"
   },
   "source": [
    "---"
   ]
  },
  {
   "cell_type": "markdown",
   "metadata": {
    "id": "4Igij0Ch8y8K"
   },
   "source": [
    "#### Exercício 02\n",
    "Considere o subespaço do $\\mathbb{R}^3$ $$U = \\{(x,y,z)\\in\\mathbb{R}^3; \\; x-y-z=0\\}$$\n",
    "- Obtenha um subespaço $W$ tal que $\\mathbb{R}^3 = U \\oplus W$.\n",
    "- Implemente uma visualização para os subespaços $U$ e $W$.\n",
    "- Mostre que todo vetor do $\\mathbb{R}^3$ pode ser escrito de modo único como combinação linear dos vetores de $B = B_1 \\cup B_2$, onde $B_1$ e $B_2$ são bases de $U$ e $W$, respectivamente. "
   ]
  },
  {
   "cell_type": "code",
   "execution_count": 79,
   "metadata": {
    "id": "ywJVCJkI8yfi"
   },
   "outputs": [
    {
     "data": {
      "application/vnd.plotly.v1+json": {
       "config": {
        "plotlyServerURL": "https://plot.ly"
       },
       "data": [
        {
         "name": "Subespaço U",
         "opacity": 0.5,
         "showscale": false,
         "type": "surface",
         "x": [
          [
           -2,
           -1,
           0,
           1,
           2
          ],
          [
           -2,
           -1,
           0,
           1,
           2
          ],
          [
           -2,
           -1,
           0,
           1,
           2
          ],
          [
           -2,
           -1,
           0,
           1,
           2
          ],
          [
           -2,
           -1,
           0,
           1,
           2
          ]
         ],
         "y": [
          [
           -2,
           -2,
           -2,
           -2,
           -2
          ],
          [
           -1,
           -1,
           -1,
           -1,
           -1
          ],
          [
           0,
           0,
           0,
           0,
           0
          ],
          [
           1,
           1,
           1,
           1,
           1
          ],
          [
           2,
           2,
           2,
           2,
           2
          ]
         ],
         "z": [
          [
           0,
           1,
           2,
           3,
           4
          ],
          [
           -1,
           0,
           1,
           2,
           3
          ],
          [
           -2,
           -1,
           0,
           1,
           2
          ],
          [
           -3,
           -2,
           -1,
           0,
           1
          ],
          [
           -4,
           -3,
           -2,
           -1,
           0
          ]
         ]
        },
        {
         "name": "u1",
         "showscale": false,
         "type": "cone",
         "u": [
          1
         ],
         "v": [
          0
         ],
         "w": [
          1
         ],
         "x": [
          1
         ],
         "y": [
          0
         ],
         "z": [
          1
         ]
        },
        {
         "name": "u2",
         "showscale": false,
         "type": "cone",
         "u": [
          0
         ],
         "v": [
          1
         ],
         "w": [
          -1
         ],
         "x": [
          0
         ],
         "y": [
          1
         ],
         "z": [
          -1
         ]
        },
        {
         "line": {
          "color": "black",
          "width": 5
         },
         "mode": "lines",
         "name": "Subespaço W",
         "type": "scatter3d",
         "x": [
          0,
          0
         ],
         "y": [
          0,
          0
         ],
         "z": [
          -4,
          4
         ]
        },
        {
         "name": "w1",
         "showscale": false,
         "type": "cone",
         "u": [
          0
         ],
         "v": [
          0
         ],
         "w": [
          1
         ],
         "x": [
          0
         ],
         "y": [
          0
         ],
         "z": [
          1
         ]
        }
       ],
       "layout": {
        "autosize": false,
        "height": 600,
        "scene": {
         "aspectmode": "cube"
        },
        "template": {
         "data": {
          "bar": [
           {
            "error_x": {
             "color": "#2a3f5f"
            },
            "error_y": {
             "color": "#2a3f5f"
            },
            "marker": {
             "line": {
              "color": "#E5ECF6",
              "width": 0.5
             },
             "pattern": {
              "fillmode": "overlay",
              "size": 10,
              "solidity": 0.2
             }
            },
            "type": "bar"
           }
          ],
          "barpolar": [
           {
            "marker": {
             "line": {
              "color": "#E5ECF6",
              "width": 0.5
             },
             "pattern": {
              "fillmode": "overlay",
              "size": 10,
              "solidity": 0.2
             }
            },
            "type": "barpolar"
           }
          ],
          "carpet": [
           {
            "aaxis": {
             "endlinecolor": "#2a3f5f",
             "gridcolor": "white",
             "linecolor": "white",
             "minorgridcolor": "white",
             "startlinecolor": "#2a3f5f"
            },
            "baxis": {
             "endlinecolor": "#2a3f5f",
             "gridcolor": "white",
             "linecolor": "white",
             "minorgridcolor": "white",
             "startlinecolor": "#2a3f5f"
            },
            "type": "carpet"
           }
          ],
          "choropleth": [
           {
            "colorbar": {
             "outlinewidth": 0,
             "ticks": ""
            },
            "type": "choropleth"
           }
          ],
          "contour": [
           {
            "colorbar": {
             "outlinewidth": 0,
             "ticks": ""
            },
            "colorscale": [
             [
              0,
              "#0d0887"
             ],
             [
              0.1111111111111111,
              "#46039f"
             ],
             [
              0.2222222222222222,
              "#7201a8"
             ],
             [
              0.3333333333333333,
              "#9c179e"
             ],
             [
              0.4444444444444444,
              "#bd3786"
             ],
             [
              0.5555555555555556,
              "#d8576b"
             ],
             [
              0.6666666666666666,
              "#ed7953"
             ],
             [
              0.7777777777777778,
              "#fb9f3a"
             ],
             [
              0.8888888888888888,
              "#fdca26"
             ],
             [
              1,
              "#f0f921"
             ]
            ],
            "type": "contour"
           }
          ],
          "contourcarpet": [
           {
            "colorbar": {
             "outlinewidth": 0,
             "ticks": ""
            },
            "type": "contourcarpet"
           }
          ],
          "heatmap": [
           {
            "colorbar": {
             "outlinewidth": 0,
             "ticks": ""
            },
            "colorscale": [
             [
              0,
              "#0d0887"
             ],
             [
              0.1111111111111111,
              "#46039f"
             ],
             [
              0.2222222222222222,
              "#7201a8"
             ],
             [
              0.3333333333333333,
              "#9c179e"
             ],
             [
              0.4444444444444444,
              "#bd3786"
             ],
             [
              0.5555555555555556,
              "#d8576b"
             ],
             [
              0.6666666666666666,
              "#ed7953"
             ],
             [
              0.7777777777777778,
              "#fb9f3a"
             ],
             [
              0.8888888888888888,
              "#fdca26"
             ],
             [
              1,
              "#f0f921"
             ]
            ],
            "type": "heatmap"
           }
          ],
          "heatmapgl": [
           {
            "colorbar": {
             "outlinewidth": 0,
             "ticks": ""
            },
            "colorscale": [
             [
              0,
              "#0d0887"
             ],
             [
              0.1111111111111111,
              "#46039f"
             ],
             [
              0.2222222222222222,
              "#7201a8"
             ],
             [
              0.3333333333333333,
              "#9c179e"
             ],
             [
              0.4444444444444444,
              "#bd3786"
             ],
             [
              0.5555555555555556,
              "#d8576b"
             ],
             [
              0.6666666666666666,
              "#ed7953"
             ],
             [
              0.7777777777777778,
              "#fb9f3a"
             ],
             [
              0.8888888888888888,
              "#fdca26"
             ],
             [
              1,
              "#f0f921"
             ]
            ],
            "type": "heatmapgl"
           }
          ],
          "histogram": [
           {
            "marker": {
             "pattern": {
              "fillmode": "overlay",
              "size": 10,
              "solidity": 0.2
             }
            },
            "type": "histogram"
           }
          ],
          "histogram2d": [
           {
            "colorbar": {
             "outlinewidth": 0,
             "ticks": ""
            },
            "colorscale": [
             [
              0,
              "#0d0887"
             ],
             [
              0.1111111111111111,
              "#46039f"
             ],
             [
              0.2222222222222222,
              "#7201a8"
             ],
             [
              0.3333333333333333,
              "#9c179e"
             ],
             [
              0.4444444444444444,
              "#bd3786"
             ],
             [
              0.5555555555555556,
              "#d8576b"
             ],
             [
              0.6666666666666666,
              "#ed7953"
             ],
             [
              0.7777777777777778,
              "#fb9f3a"
             ],
             [
              0.8888888888888888,
              "#fdca26"
             ],
             [
              1,
              "#f0f921"
             ]
            ],
            "type": "histogram2d"
           }
          ],
          "histogram2dcontour": [
           {
            "colorbar": {
             "outlinewidth": 0,
             "ticks": ""
            },
            "colorscale": [
             [
              0,
              "#0d0887"
             ],
             [
              0.1111111111111111,
              "#46039f"
             ],
             [
              0.2222222222222222,
              "#7201a8"
             ],
             [
              0.3333333333333333,
              "#9c179e"
             ],
             [
              0.4444444444444444,
              "#bd3786"
             ],
             [
              0.5555555555555556,
              "#d8576b"
             ],
             [
              0.6666666666666666,
              "#ed7953"
             ],
             [
              0.7777777777777778,
              "#fb9f3a"
             ],
             [
              0.8888888888888888,
              "#fdca26"
             ],
             [
              1,
              "#f0f921"
             ]
            ],
            "type": "histogram2dcontour"
           }
          ],
          "mesh3d": [
           {
            "colorbar": {
             "outlinewidth": 0,
             "ticks": ""
            },
            "type": "mesh3d"
           }
          ],
          "parcoords": [
           {
            "line": {
             "colorbar": {
              "outlinewidth": 0,
              "ticks": ""
             }
            },
            "type": "parcoords"
           }
          ],
          "pie": [
           {
            "automargin": true,
            "type": "pie"
           }
          ],
          "scatter": [
           {
            "marker": {
             "colorbar": {
              "outlinewidth": 0,
              "ticks": ""
             }
            },
            "type": "scatter"
           }
          ],
          "scatter3d": [
           {
            "line": {
             "colorbar": {
              "outlinewidth": 0,
              "ticks": ""
             }
            },
            "marker": {
             "colorbar": {
              "outlinewidth": 0,
              "ticks": ""
             }
            },
            "type": "scatter3d"
           }
          ],
          "scattercarpet": [
           {
            "marker": {
             "colorbar": {
              "outlinewidth": 0,
              "ticks": ""
             }
            },
            "type": "scattercarpet"
           }
          ],
          "scattergeo": [
           {
            "marker": {
             "colorbar": {
              "outlinewidth": 0,
              "ticks": ""
             }
            },
            "type": "scattergeo"
           }
          ],
          "scattergl": [
           {
            "marker": {
             "colorbar": {
              "outlinewidth": 0,
              "ticks": ""
             }
            },
            "type": "scattergl"
           }
          ],
          "scattermapbox": [
           {
            "marker": {
             "colorbar": {
              "outlinewidth": 0,
              "ticks": ""
             }
            },
            "type": "scattermapbox"
           }
          ],
          "scatterpolar": [
           {
            "marker": {
             "colorbar": {
              "outlinewidth": 0,
              "ticks": ""
             }
            },
            "type": "scatterpolar"
           }
          ],
          "scatterpolargl": [
           {
            "marker": {
             "colorbar": {
              "outlinewidth": 0,
              "ticks": ""
             }
            },
            "type": "scatterpolargl"
           }
          ],
          "scatterternary": [
           {
            "marker": {
             "colorbar": {
              "outlinewidth": 0,
              "ticks": ""
             }
            },
            "type": "scatterternary"
           }
          ],
          "surface": [
           {
            "colorbar": {
             "outlinewidth": 0,
             "ticks": ""
            },
            "colorscale": [
             [
              0,
              "#0d0887"
             ],
             [
              0.1111111111111111,
              "#46039f"
             ],
             [
              0.2222222222222222,
              "#7201a8"
             ],
             [
              0.3333333333333333,
              "#9c179e"
             ],
             [
              0.4444444444444444,
              "#bd3786"
             ],
             [
              0.5555555555555556,
              "#d8576b"
             ],
             [
              0.6666666666666666,
              "#ed7953"
             ],
             [
              0.7777777777777778,
              "#fb9f3a"
             ],
             [
              0.8888888888888888,
              "#fdca26"
             ],
             [
              1,
              "#f0f921"
             ]
            ],
            "type": "surface"
           }
          ],
          "table": [
           {
            "cells": {
             "fill": {
              "color": "#EBF0F8"
             },
             "line": {
              "color": "white"
             }
            },
            "header": {
             "fill": {
              "color": "#C8D4E3"
             },
             "line": {
              "color": "white"
             }
            },
            "type": "table"
           }
          ]
         },
         "layout": {
          "annotationdefaults": {
           "arrowcolor": "#2a3f5f",
           "arrowhead": 0,
           "arrowwidth": 1
          },
          "autotypenumbers": "strict",
          "coloraxis": {
           "colorbar": {
            "outlinewidth": 0,
            "ticks": ""
           }
          },
          "colorscale": {
           "diverging": [
            [
             0,
             "#8e0152"
            ],
            [
             0.1,
             "#c51b7d"
            ],
            [
             0.2,
             "#de77ae"
            ],
            [
             0.3,
             "#f1b6da"
            ],
            [
             0.4,
             "#fde0ef"
            ],
            [
             0.5,
             "#f7f7f7"
            ],
            [
             0.6,
             "#e6f5d0"
            ],
            [
             0.7,
             "#b8e186"
            ],
            [
             0.8,
             "#7fbc41"
            ],
            [
             0.9,
             "#4d9221"
            ],
            [
             1,
             "#276419"
            ]
           ],
           "sequential": [
            [
             0,
             "#0d0887"
            ],
            [
             0.1111111111111111,
             "#46039f"
            ],
            [
             0.2222222222222222,
             "#7201a8"
            ],
            [
             0.3333333333333333,
             "#9c179e"
            ],
            [
             0.4444444444444444,
             "#bd3786"
            ],
            [
             0.5555555555555556,
             "#d8576b"
            ],
            [
             0.6666666666666666,
             "#ed7953"
            ],
            [
             0.7777777777777778,
             "#fb9f3a"
            ],
            [
             0.8888888888888888,
             "#fdca26"
            ],
            [
             1,
             "#f0f921"
            ]
           ],
           "sequentialminus": [
            [
             0,
             "#0d0887"
            ],
            [
             0.1111111111111111,
             "#46039f"
            ],
            [
             0.2222222222222222,
             "#7201a8"
            ],
            [
             0.3333333333333333,
             "#9c179e"
            ],
            [
             0.4444444444444444,
             "#bd3786"
            ],
            [
             0.5555555555555556,
             "#d8576b"
            ],
            [
             0.6666666666666666,
             "#ed7953"
            ],
            [
             0.7777777777777778,
             "#fb9f3a"
            ],
            [
             0.8888888888888888,
             "#fdca26"
            ],
            [
             1,
             "#f0f921"
            ]
           ]
          },
          "colorway": [
           "#636efa",
           "#EF553B",
           "#00cc96",
           "#ab63fa",
           "#FFA15A",
           "#19d3f3",
           "#FF6692",
           "#B6E880",
           "#FF97FF",
           "#FECB52"
          ],
          "font": {
           "color": "#2a3f5f"
          },
          "geo": {
           "bgcolor": "white",
           "lakecolor": "white",
           "landcolor": "#E5ECF6",
           "showlakes": true,
           "showland": true,
           "subunitcolor": "white"
          },
          "hoverlabel": {
           "align": "left"
          },
          "hovermode": "closest",
          "mapbox": {
           "style": "light"
          },
          "paper_bgcolor": "white",
          "plot_bgcolor": "#E5ECF6",
          "polar": {
           "angularaxis": {
            "gridcolor": "white",
            "linecolor": "white",
            "ticks": ""
           },
           "bgcolor": "#E5ECF6",
           "radialaxis": {
            "gridcolor": "white",
            "linecolor": "white",
            "ticks": ""
           }
          },
          "scene": {
           "xaxis": {
            "backgroundcolor": "#E5ECF6",
            "gridcolor": "white",
            "gridwidth": 2,
            "linecolor": "white",
            "showbackground": true,
            "ticks": "",
            "zerolinecolor": "white"
           },
           "yaxis": {
            "backgroundcolor": "#E5ECF6",
            "gridcolor": "white",
            "gridwidth": 2,
            "linecolor": "white",
            "showbackground": true,
            "ticks": "",
            "zerolinecolor": "white"
           },
           "zaxis": {
            "backgroundcolor": "#E5ECF6",
            "gridcolor": "white",
            "gridwidth": 2,
            "linecolor": "white",
            "showbackground": true,
            "ticks": "",
            "zerolinecolor": "white"
           }
          },
          "shapedefaults": {
           "line": {
            "color": "#2a3f5f"
           }
          },
          "ternary": {
           "aaxis": {
            "gridcolor": "white",
            "linecolor": "white",
            "ticks": ""
           },
           "baxis": {
            "gridcolor": "white",
            "linecolor": "white",
            "ticks": ""
           },
           "bgcolor": "#E5ECF6",
           "caxis": {
            "gridcolor": "white",
            "linecolor": "white",
            "ticks": ""
           }
          },
          "title": {
           "x": 0.05
          },
          "xaxis": {
           "automargin": true,
           "gridcolor": "white",
           "linecolor": "white",
           "ticks": "",
           "title": {
            "standoff": 15
           },
           "zerolinecolor": "white",
           "zerolinewidth": 2
          },
          "yaxis": {
           "automargin": true,
           "gridcolor": "white",
           "linecolor": "white",
           "ticks": "",
           "title": {
            "standoff": 15
           },
           "zerolinecolor": "white",
           "zerolinewidth": 2
          }
         }
        },
        "width": 600
       }
      }
     },
     "metadata": {},
     "output_type": "display_data"
    }
   ],
   "source": [
    "import plotly.graph_objects as go\n",
    "import plotly.figure_factory as ff\n",
    "\n",
    "xx, yy = np.meshgrid(range(-2, 3), range(-2, 3))\n",
    "zz = xx - yy\n",
    "\n",
    "fig = go.Figure()\n",
    "\n",
    "fig.add_trace(go.Surface(x=xx, y=yy, z=zz, opacity=0.5, showscale=False, name=\"Subespaço U\"))\n",
    "fig.add_trace(go.Cone(x=[1], y=[0], z=[1], u=[1], v=[0], w=[1], showscale=False, name=\"u1\"))\n",
    "fig.add_trace(go.Cone(x=[0], y=[1], z=[-1], u=[0], v=[1], w=[-1], showscale=False, name=\"u2\"))\n",
    "\n",
    "fig.add_trace(go.Scatter3d(x = [0, 0], y = [0, 0], z = [-4, 4], name=\"Subespaço W\", mode=\"lines\", line=dict(color=\"black\", width=5)))\n",
    "fig.add_trace(go.Cone(x=[0], y=[0], z=[1], u=[0], v=[0], w=[1], showscale=False, name=\"w1\"))\n",
    "\n",
    "fig.update_layout(\n",
    "    scene_aspectmode='cube',\n",
    "    autosize=False,\n",
    "    width=600,\n",
    "    height=600,\n",
    ")\n",
    "\n",
    "fig.show()\n"
   ]
  },
  {
   "cell_type": "markdown",
   "metadata": {
    "id": "k0K7hEBmV199"
   },
   "source": [
    "---"
   ]
  },
  {
   "cell_type": "markdown",
   "metadata": {
    "id": "GhQWpcAnKNGG"
   },
   "source": [
    "#### Exercício 03\n",
    "Considere o espaço vetorial $P_2(\\mathbb{R})$ e as bases ordenadas $C = \\{1, x, x^2\\}$ e $B = \\{2, 1-x, 1-x^2\\}$. \n",
    "\n",
    "- Implemente um código para encontrar a matriz mudança de base $P$, da base $B$ para a base $C$.\n",
    "- Que relação há entre a matriz $P$ e a matriz $Q$, matriz mudança de base da base $C$ para a base $B$ ? Obtenha a matriz Q usando uma função pronta do python. \n",
    "- O que a matriz Q nos diz? Que relações entre os vetores da base $C$ e $B$ ela nos dá ?\n",
    "- Utilize os códigos implementados e obtenha as coordenadas do polinômio $p(x) = 2 + 2x + 2x^2$ na base $B$."
   ]
  },
  {
   "cell_type": "code",
   "execution_count": null,
   "metadata": {
    "id": "T8bYc5HxQLD3"
   },
   "outputs": [],
   "source": [
    "# Solução\n"
   ]
  },
  {
   "cell_type": "markdown",
   "metadata": {
    "id": "SLjZVZpWV4ev"
   },
   "source": [
    "---"
   ]
  },
  {
   "cell_type": "markdown",
   "metadata": {
    "id": "Ljj5-Qv-C4Xj"
   },
   "source": [
    "#### Exercício 04\n",
    "Verifique se cada uma das afirmações abaixo é verdadeira ou falsa. Justifique a sua resposta exibindo uma tal transformação ou justificando através de algum resultado visto em aula.\n",
    "\n",
    "( ) Existe uma transformação linear $T: \\mathbb{R}^4 \\to \\mathbb{R}^3$ que é injetora.\n",
    "\n",
    "( ) Existe uma transformação linear $T: \\mathbb{R}^4 \\to P_2(\\mathbb{R})$ que é sobrejetora."
   ]
  },
  {
   "cell_type": "markdown",
   "metadata": {
    "id": "D9vaH-VJWDeU"
   },
   "source": [
    "---"
   ]
  },
  {
   "cell_type": "markdown",
   "metadata": {
    "id": "AzkstYILPjaZ"
   },
   "source": [
    "#### Exercício 05\n",
    "Determine uma transformação linear $T:\\mathbb{R}^5 \\to \\mathbb{R}^3$ tal que $Im(T) = [(1,0,0),(0,1,0),(1,,1,1)]$ e $Ker(T) = [(1,1,1,1,1),(1,1,1,1,0)]$."
   ]
  },
  {
   "cell_type": "code",
   "execution_count": null,
   "metadata": {
    "id": "-6jEhqDVPoY_"
   },
   "outputs": [],
   "source": [
    "# Solução\n"
   ]
  },
  {
   "cell_type": "markdown",
   "metadata": {
    "id": "vwOCItUTWEq-"
   },
   "source": [
    "---"
   ]
  },
  {
   "cell_type": "markdown",
   "metadata": {},
   "source": [
    "#### Exercício 06\n",
    "Seja a transformação linear $T:\\mathbb{R}^2 \\to \\mathbb{R}^2$ associada a matriz \n",
    "$$ A = \n",
    "\\begin{bmatrix}\n",
    "2 & 1 \\\\\n",
    "1 & 2 \n",
    "\\end{bmatrix}\n",
    ".$$\n",
    "Considere a circunferência $C=\\{(x,y)\\in\\mathbb{R}^2;\\; x^2+y^2=1\\}$. Implemente uma visualização da imagem da circunferência $C$ pela transformação linear $T$.\n",
    "- Dica: Discretize um conjunto de pontos de $C$ através da parametrização $(x, y) = (cos(t), sen(t))$ e aplique a transformação nesses pontos."
   ]
  },
  {
   "cell_type": "code",
   "execution_count": 24,
   "metadata": {
    "id": "ONQKgPjWwrC-"
   },
   "outputs": [
    {
     "data": {
      "application/vnd.plotly.v1+json": {
       "config": {
        "plotlyServerURL": "https://plot.ly"
       },
       "data": [
        {
         "name": "C",
         "type": "scatter",
         "x": [
          1,
          0.9979866764718844,
          0.9919548128307953,
          0.9819286972627067,
          0.9679487013963562,
          0.9500711177409454,
          0.9283679330160726,
          0.9029265382866212,
          0.8738493770697849,
          0.8412535328311812,
          0.8052702575310586,
          0.766044443118978,
          0.7237340381050701,
          0.6785094115571322,
          0.6305526670845225,
          0.5800569095711982,
          0.5272254676105024,
          0.4722710747726827,
          0.41541501300188644,
          0.3568862215918719,
          0.2969203753282749,
          0.23575893550942728,
          0.17364817766693041,
          0.1108381999010111,
          0.04758191582374218,
          -0.01586596383480803,
          -0.07924995685678854,
          -0.14231483827328523,
          -0.20480666806519074,
          -0.26647381369003503,
          -0.32706796331742166,
          -0.3863451256931287,
          -0.4440666126057741,
          -0.5000000000000002,
          -0.5539200638661103,
          -0.6056096871376668,
          -0.654860733945285,
          -0.7014748877063214,
          -0.7452644496757547,
          -0.7860530947427875,
          -0.8236765814298327,
          -0.8579834132349771,
          -0.8888354486549234,
          -0.9161084574320696,
          -0.9396926207859083,
          -0.9594929736144974,
          -0.975429786885407,
          -0.9874388886763943,
          -0.9954719225730846,
          -0.9994965423831851,
          -0.9994965423831851,
          -0.9954719225730846,
          -0.9874388886763943,
          -0.975429786885407,
          -0.9594929736144974,
          -0.9396926207859084,
          -0.9161084574320696,
          -0.8888354486549235,
          -0.857983413234977,
          -0.8236765814298328,
          -0.7860530947427874,
          -0.7452644496757548,
          -0.7014748877063213,
          -0.6548607339452852,
          -0.6056096871376666,
          -0.5539200638661105,
          -0.4999999999999996,
          -0.44406661260577396,
          -0.3863451256931287,
          -0.3270679633174219,
          -0.26647381369003464,
          -0.20480666806519054,
          -0.14231483827328523,
          -0.07924995685678879,
          -0.01586596383480761,
          0.04758191582374238,
          0.11083819990101086,
          0.17364817766692997,
          0.23575893550942748,
          0.2969203753282749,
          0.35688622159187167,
          0.4154150130018868,
          0.4722710747726829,
          0.5272254676105024,
          0.5800569095711979,
          0.6305526670845228,
          0.6785094115571323,
          0.7237340381050701,
          0.7660444431189778,
          0.8052702575310587,
          0.8412535328311812,
          0.8738493770697849,
          0.9029265382866211,
          0.9283679330160727,
          0.9500711177409454,
          0.9679487013963562,
          0.9819286972627068,
          0.9919548128307953,
          0.9979866764718844,
          1
         ],
         "xaxis": "x",
         "y": [
          0,
          0.0634239196565645,
          0.12659245357374926,
          0.18925124436041021,
          0.2511479871810792,
          0.3120334456984871,
          0.3716624556603276,
          0.42979491208917164,
          0.4861967361004687,
          0.5406408174555976,
          0.5929079290546404,
          0.6427876096865393,
          0.690079011482112,
          0.7345917086575333,
          0.7761464642917568,
          0.8145759520503357,
          0.8497254299495144,
          0.8814533634475821,
          0.9096319953545183,
          0.9341478602651067,
          0.9549022414440739,
          0.9718115683235417,
          0.984807753012208,
          0.9938384644612541,
          0.998867339183008,
          0.9998741276738751,
          0.9968547759519424,
          0.9898214418809327,
          0.9788024462147787,
          0.963842158559942,
          0.9450008187146685,
          0.9223542941045814,
          0.8959937742913359,
          0.8660254037844385,
          0.8325698546347714,
          0.795761840530832,
          0.7557495743542583,
          0.7126941713788627,
          0.6667690005162917,
          0.6181589862206051,
          0.5670598638627709,
          0.5136773915734063,
          0.4582265217274105,
          0.4009305354066136,
          0.3420201433256689,
          0.28173255684142967,
          0.2203105327865408,
          0.1580013959733499,
          0.09505604330418244,
          0.031727933498067656,
          -0.03172793349806786,
          -0.09505604330418263,
          -0.15800139597335008,
          -0.22031053278654056,
          -0.28173255684142984,
          -0.34202014332566866,
          -0.4009305354066138,
          -0.4582265217274103,
          -0.5136773915734064,
          -0.5670598638627706,
          -0.6181589862206053,
          -0.6667690005162915,
          -0.7126941713788629,
          -0.7557495743542582,
          -0.7957618405308321,
          -0.8325698546347713,
          -0.8660254037844388,
          -0.895993774291336,
          -0.9223542941045814,
          -0.9450008187146683,
          -0.9638421585599422,
          -0.9788024462147787,
          -0.9898214418809327,
          -0.9968547759519423,
          -0.9998741276738751,
          -0.998867339183008,
          -0.9938384644612541,
          -0.9848077530122081,
          -0.9718115683235417,
          -0.9549022414440739,
          -0.9341478602651068,
          -0.9096319953545182,
          -0.881453363447582,
          -0.8497254299495144,
          -0.8145759520503358,
          -0.7761464642917566,
          -0.7345917086575332,
          -0.690079011482112,
          -0.6427876096865396,
          -0.5929079290546402,
          -0.5406408174555974,
          -0.4861967361004688,
          -0.4297949120891719,
          -0.37166245566032724,
          -0.31203344569848707,
          -0.2511479871810794,
          -0.18925124436040974,
          -0.12659245357374904,
          -0.06342391965656452,
          -2.4492935982947064e-16
         ],
         "yaxis": "y"
        },
        {
         "name": "T",
         "type": "scatter",
         "x": [
          2,
          2.0593972726003336,
          2.11050207923534,
          2.153108638885824,
          2.187045389973792,
          2.212175681180378,
          2.2283983216924725,
          2.235647988662414,
          2.2338954902400388,
          2.22314788311796,
          2.2034484441167574,
          2.1748764959244955,
          2.137547087692252,
          2.0916105317717975,
          2.037251798460802,
          1.974689771192732,
          1.9041763651705192,
          1.8259955129929475,
          1.740462021358291,
          1.6479203034488505,
          1.5487429921006237,
          1.443329439342396,
          1.3321041083460687,
          1.2155148642632763,
          1.0940311708304924,
          0.968142200004259,
          0.8383548622383653,
          0.7051917653343622,
          0.5691891100843973,
          0.430894531179872,
          0.29086489207982513,
          0.149664042718324,
          0.007860549079787615,
          -0.13397459621556196,
          -0.2752702730974491,
          -0.4154575337445017,
          -0.5539718935363117,
          -0.6902556040337801,
          -0.8237598988352176,
          -0.95394720326497,
          -1.0802932989968945,
          -1.2022894348965478,
          -1.319444375582436,
          -1.4312863794575255,
          -1.5373650982461478,
          -1.637253390387565,
          -1.7305490409842732,
          -1.8168763813794386,
          -1.8958878018419867,
          -1.9672651512683026,
          -2.030721018264438,
          -2.0859998884503517,
          -2.1328791733261387,
          -2.1711701065573545,
          -2.2007185040704247,
          -2.2214053848974853,
          -2.233147450270753,
          -2.2358974190372574,
          -2.22964421804336,
          -2.2144130267224362,
          -2.19026517570618,
          -2.157297899867801,
          -2.1156439467915056,
          -2.0654710422448286,
          -2.0069812148061654,
          -1.9404099823669922,
          -1.866025403784438,
          -1.784126999502884,
          -1.6950445454908387,
          -1.599136745349512,
          -1.4967897859400114,
          -1.38841578234516,
          -1.2744511184275031,
          -1.1553546896655198,
          -1.0316060553434903,
          -0.9037035075355232,
          -0.7721620646592324,
          -0.6375113976783482,
          -0.5002936973046868,
          -0.36106149078752403,
          -0.22037541708136343,
          -0.07880196935074457,
          0.06308878609778379,
          0.20472550527149036,
          0.34553786709206,
          0.4849588698772891,
          0.6224271144567314,
          0.7573890647280281,
          0.889301276551416,
          1.0176325860074773,
          1.141866248206765,
          1.261502018039101,
          1.3760581644840701,
          1.4850734103718182,
          1.5881087897834039,
          1.6847494156116332,
          1.774606150165004,
          1.8573171720878416,
          1.9325494332872044,
          1.9999999999999998
         ],
         "xaxis": "x2",
         "y": [
          1,
          1.1248345157850135,
          1.2451397199782939,
          1.3604311859835272,
          1.4702446757585146,
          1.5741380091379198,
          1.6716928443367278,
          1.7625163624649645,
          1.8462428492707224,
          1.9225351677423763,
          1.9910861156403394,
          2.0516196624920564,
          2.103892061069294,
          2.1476928288721986,
          2.182845595668036,
          2.2092088136718697,
          2.226676327509531,
          2.235177801667847,
          2.234679003710923,
          2.2251819421220853,
          2.2067248582164227,
          2.1793820721565105,
          2.1432636836913463,
          2.0985151288235193,
          2.045316594189758,
          1.9838822915129422,
          1.9144595950470962,
          1.83732804548858,
          1.7527982243643667,
          1.661210503429849,
          1.5629336741119153,
          1.458363462516034,
          1.3479209359768975,
          1.2320508075688767,
          1.1112196454034327,
          0.9859139939239971,
          0.8566384147632315,
          0.723913455051404,
          0.5882735513568288,
          0.4502648776984226,
          0.310443146295709,
          0.16937136991183555,
          0.02761759479989767,
          -0.11424738661884237,
          -0.25565233413457056,
          -0.396027859931638,
          -0.5348087213123254,
          -0.6714360967296945,
          -0.8053598359647197,
          -0.9360406753870498,
          -1.0629524093793208,
          -1.1855840091814498,
          -1.3034416806230944,
          -1.416050852458488,
          -1.522958087297357,
          -1.6237329074372457,
          -1.7179695282452971,
          -1.805288492109744,
          -1.88533819638179,
          -1.957796309155374,
          -2.022371067183998,
          -2.078802450708338,
          -2.126863230464047,
          -2.1663598826538015,
          -2.1971333681993306,
          -2.219059773135653,
          -2.232050807568877,
          -2.236054161188446,
          -2.2310537139022912,
          -2.2170696007467585,
          -2.194158130809919,
          -2.162411560494748,
          -2.1219577220351504,
          -2.072959508760673,
          -2.0156142191825577,
          -1.9501527625422734,
          -1.8768387290214974,
          -1.7959673283574862,
          -1.707864201137656,
          -1.6128841075598728,
          -1.5114094989383418,
          -1.4038489777071497,
          -1.290635652122481,
          -1.1722253922885264,
          -1.0490949945294736,
          -0.9217402614989904,
          -0.7906740057579341,
          -0.656423984859154,
          -0.5195307762541014,
          -0.3805456005782216,
          -0.24002810208001368,
          -0.0985440951311527,
          0.04333671410827722,
          0.1850430216954182,
          0.3260042263439713,
          0.46565272703419747,
          0.6034262085418873,
          0.7387699056832973,
          0.8711388371587554,
          0.9999999999999996
         ],
         "yaxis": "y2"
        }
       ],
       "layout": {
        "template": {
         "data": {
          "bar": [
           {
            "error_x": {
             "color": "#2a3f5f"
            },
            "error_y": {
             "color": "#2a3f5f"
            },
            "marker": {
             "line": {
              "color": "#E5ECF6",
              "width": 0.5
             },
             "pattern": {
              "fillmode": "overlay",
              "size": 10,
              "solidity": 0.2
             }
            },
            "type": "bar"
           }
          ],
          "barpolar": [
           {
            "marker": {
             "line": {
              "color": "#E5ECF6",
              "width": 0.5
             },
             "pattern": {
              "fillmode": "overlay",
              "size": 10,
              "solidity": 0.2
             }
            },
            "type": "barpolar"
           }
          ],
          "carpet": [
           {
            "aaxis": {
             "endlinecolor": "#2a3f5f",
             "gridcolor": "white",
             "linecolor": "white",
             "minorgridcolor": "white",
             "startlinecolor": "#2a3f5f"
            },
            "baxis": {
             "endlinecolor": "#2a3f5f",
             "gridcolor": "white",
             "linecolor": "white",
             "minorgridcolor": "white",
             "startlinecolor": "#2a3f5f"
            },
            "type": "carpet"
           }
          ],
          "choropleth": [
           {
            "colorbar": {
             "outlinewidth": 0,
             "ticks": ""
            },
            "type": "choropleth"
           }
          ],
          "contour": [
           {
            "colorbar": {
             "outlinewidth": 0,
             "ticks": ""
            },
            "colorscale": [
             [
              0,
              "#0d0887"
             ],
             [
              0.1111111111111111,
              "#46039f"
             ],
             [
              0.2222222222222222,
              "#7201a8"
             ],
             [
              0.3333333333333333,
              "#9c179e"
             ],
             [
              0.4444444444444444,
              "#bd3786"
             ],
             [
              0.5555555555555556,
              "#d8576b"
             ],
             [
              0.6666666666666666,
              "#ed7953"
             ],
             [
              0.7777777777777778,
              "#fb9f3a"
             ],
             [
              0.8888888888888888,
              "#fdca26"
             ],
             [
              1,
              "#f0f921"
             ]
            ],
            "type": "contour"
           }
          ],
          "contourcarpet": [
           {
            "colorbar": {
             "outlinewidth": 0,
             "ticks": ""
            },
            "type": "contourcarpet"
           }
          ],
          "heatmap": [
           {
            "colorbar": {
             "outlinewidth": 0,
             "ticks": ""
            },
            "colorscale": [
             [
              0,
              "#0d0887"
             ],
             [
              0.1111111111111111,
              "#46039f"
             ],
             [
              0.2222222222222222,
              "#7201a8"
             ],
             [
              0.3333333333333333,
              "#9c179e"
             ],
             [
              0.4444444444444444,
              "#bd3786"
             ],
             [
              0.5555555555555556,
              "#d8576b"
             ],
             [
              0.6666666666666666,
              "#ed7953"
             ],
             [
              0.7777777777777778,
              "#fb9f3a"
             ],
             [
              0.8888888888888888,
              "#fdca26"
             ],
             [
              1,
              "#f0f921"
             ]
            ],
            "type": "heatmap"
           }
          ],
          "heatmapgl": [
           {
            "colorbar": {
             "outlinewidth": 0,
             "ticks": ""
            },
            "colorscale": [
             [
              0,
              "#0d0887"
             ],
             [
              0.1111111111111111,
              "#46039f"
             ],
             [
              0.2222222222222222,
              "#7201a8"
             ],
             [
              0.3333333333333333,
              "#9c179e"
             ],
             [
              0.4444444444444444,
              "#bd3786"
             ],
             [
              0.5555555555555556,
              "#d8576b"
             ],
             [
              0.6666666666666666,
              "#ed7953"
             ],
             [
              0.7777777777777778,
              "#fb9f3a"
             ],
             [
              0.8888888888888888,
              "#fdca26"
             ],
             [
              1,
              "#f0f921"
             ]
            ],
            "type": "heatmapgl"
           }
          ],
          "histogram": [
           {
            "marker": {
             "pattern": {
              "fillmode": "overlay",
              "size": 10,
              "solidity": 0.2
             }
            },
            "type": "histogram"
           }
          ],
          "histogram2d": [
           {
            "colorbar": {
             "outlinewidth": 0,
             "ticks": ""
            },
            "colorscale": [
             [
              0,
              "#0d0887"
             ],
             [
              0.1111111111111111,
              "#46039f"
             ],
             [
              0.2222222222222222,
              "#7201a8"
             ],
             [
              0.3333333333333333,
              "#9c179e"
             ],
             [
              0.4444444444444444,
              "#bd3786"
             ],
             [
              0.5555555555555556,
              "#d8576b"
             ],
             [
              0.6666666666666666,
              "#ed7953"
             ],
             [
              0.7777777777777778,
              "#fb9f3a"
             ],
             [
              0.8888888888888888,
              "#fdca26"
             ],
             [
              1,
              "#f0f921"
             ]
            ],
            "type": "histogram2d"
           }
          ],
          "histogram2dcontour": [
           {
            "colorbar": {
             "outlinewidth": 0,
             "ticks": ""
            },
            "colorscale": [
             [
              0,
              "#0d0887"
             ],
             [
              0.1111111111111111,
              "#46039f"
             ],
             [
              0.2222222222222222,
              "#7201a8"
             ],
             [
              0.3333333333333333,
              "#9c179e"
             ],
             [
              0.4444444444444444,
              "#bd3786"
             ],
             [
              0.5555555555555556,
              "#d8576b"
             ],
             [
              0.6666666666666666,
              "#ed7953"
             ],
             [
              0.7777777777777778,
              "#fb9f3a"
             ],
             [
              0.8888888888888888,
              "#fdca26"
             ],
             [
              1,
              "#f0f921"
             ]
            ],
            "type": "histogram2dcontour"
           }
          ],
          "mesh3d": [
           {
            "colorbar": {
             "outlinewidth": 0,
             "ticks": ""
            },
            "type": "mesh3d"
           }
          ],
          "parcoords": [
           {
            "line": {
             "colorbar": {
              "outlinewidth": 0,
              "ticks": ""
             }
            },
            "type": "parcoords"
           }
          ],
          "pie": [
           {
            "automargin": true,
            "type": "pie"
           }
          ],
          "scatter": [
           {
            "marker": {
             "colorbar": {
              "outlinewidth": 0,
              "ticks": ""
             }
            },
            "type": "scatter"
           }
          ],
          "scatter3d": [
           {
            "line": {
             "colorbar": {
              "outlinewidth": 0,
              "ticks": ""
             }
            },
            "marker": {
             "colorbar": {
              "outlinewidth": 0,
              "ticks": ""
             }
            },
            "type": "scatter3d"
           }
          ],
          "scattercarpet": [
           {
            "marker": {
             "colorbar": {
              "outlinewidth": 0,
              "ticks": ""
             }
            },
            "type": "scattercarpet"
           }
          ],
          "scattergeo": [
           {
            "marker": {
             "colorbar": {
              "outlinewidth": 0,
              "ticks": ""
             }
            },
            "type": "scattergeo"
           }
          ],
          "scattergl": [
           {
            "marker": {
             "colorbar": {
              "outlinewidth": 0,
              "ticks": ""
             }
            },
            "type": "scattergl"
           }
          ],
          "scattermapbox": [
           {
            "marker": {
             "colorbar": {
              "outlinewidth": 0,
              "ticks": ""
             }
            },
            "type": "scattermapbox"
           }
          ],
          "scatterpolar": [
           {
            "marker": {
             "colorbar": {
              "outlinewidth": 0,
              "ticks": ""
             }
            },
            "type": "scatterpolar"
           }
          ],
          "scatterpolargl": [
           {
            "marker": {
             "colorbar": {
              "outlinewidth": 0,
              "ticks": ""
             }
            },
            "type": "scatterpolargl"
           }
          ],
          "scatterternary": [
           {
            "marker": {
             "colorbar": {
              "outlinewidth": 0,
              "ticks": ""
             }
            },
            "type": "scatterternary"
           }
          ],
          "surface": [
           {
            "colorbar": {
             "outlinewidth": 0,
             "ticks": ""
            },
            "colorscale": [
             [
              0,
              "#0d0887"
             ],
             [
              0.1111111111111111,
              "#46039f"
             ],
             [
              0.2222222222222222,
              "#7201a8"
             ],
             [
              0.3333333333333333,
              "#9c179e"
             ],
             [
              0.4444444444444444,
              "#bd3786"
             ],
             [
              0.5555555555555556,
              "#d8576b"
             ],
             [
              0.6666666666666666,
              "#ed7953"
             ],
             [
              0.7777777777777778,
              "#fb9f3a"
             ],
             [
              0.8888888888888888,
              "#fdca26"
             ],
             [
              1,
              "#f0f921"
             ]
            ],
            "type": "surface"
           }
          ],
          "table": [
           {
            "cells": {
             "fill": {
              "color": "#EBF0F8"
             },
             "line": {
              "color": "white"
             }
            },
            "header": {
             "fill": {
              "color": "#C8D4E3"
             },
             "line": {
              "color": "white"
             }
            },
            "type": "table"
           }
          ]
         },
         "layout": {
          "annotationdefaults": {
           "arrowcolor": "#2a3f5f",
           "arrowhead": 0,
           "arrowwidth": 1
          },
          "autotypenumbers": "strict",
          "coloraxis": {
           "colorbar": {
            "outlinewidth": 0,
            "ticks": ""
           }
          },
          "colorscale": {
           "diverging": [
            [
             0,
             "#8e0152"
            ],
            [
             0.1,
             "#c51b7d"
            ],
            [
             0.2,
             "#de77ae"
            ],
            [
             0.3,
             "#f1b6da"
            ],
            [
             0.4,
             "#fde0ef"
            ],
            [
             0.5,
             "#f7f7f7"
            ],
            [
             0.6,
             "#e6f5d0"
            ],
            [
             0.7,
             "#b8e186"
            ],
            [
             0.8,
             "#7fbc41"
            ],
            [
             0.9,
             "#4d9221"
            ],
            [
             1,
             "#276419"
            ]
           ],
           "sequential": [
            [
             0,
             "#0d0887"
            ],
            [
             0.1111111111111111,
             "#46039f"
            ],
            [
             0.2222222222222222,
             "#7201a8"
            ],
            [
             0.3333333333333333,
             "#9c179e"
            ],
            [
             0.4444444444444444,
             "#bd3786"
            ],
            [
             0.5555555555555556,
             "#d8576b"
            ],
            [
             0.6666666666666666,
             "#ed7953"
            ],
            [
             0.7777777777777778,
             "#fb9f3a"
            ],
            [
             0.8888888888888888,
             "#fdca26"
            ],
            [
             1,
             "#f0f921"
            ]
           ],
           "sequentialminus": [
            [
             0,
             "#0d0887"
            ],
            [
             0.1111111111111111,
             "#46039f"
            ],
            [
             0.2222222222222222,
             "#7201a8"
            ],
            [
             0.3333333333333333,
             "#9c179e"
            ],
            [
             0.4444444444444444,
             "#bd3786"
            ],
            [
             0.5555555555555556,
             "#d8576b"
            ],
            [
             0.6666666666666666,
             "#ed7953"
            ],
            [
             0.7777777777777778,
             "#fb9f3a"
            ],
            [
             0.8888888888888888,
             "#fdca26"
            ],
            [
             1,
             "#f0f921"
            ]
           ]
          },
          "colorway": [
           "#636efa",
           "#EF553B",
           "#00cc96",
           "#ab63fa",
           "#FFA15A",
           "#19d3f3",
           "#FF6692",
           "#B6E880",
           "#FF97FF",
           "#FECB52"
          ],
          "font": {
           "color": "#2a3f5f"
          },
          "geo": {
           "bgcolor": "white",
           "lakecolor": "white",
           "landcolor": "#E5ECF6",
           "showlakes": true,
           "showland": true,
           "subunitcolor": "white"
          },
          "hoverlabel": {
           "align": "left"
          },
          "hovermode": "closest",
          "mapbox": {
           "style": "light"
          },
          "paper_bgcolor": "white",
          "plot_bgcolor": "#E5ECF6",
          "polar": {
           "angularaxis": {
            "gridcolor": "white",
            "linecolor": "white",
            "ticks": ""
           },
           "bgcolor": "#E5ECF6",
           "radialaxis": {
            "gridcolor": "white",
            "linecolor": "white",
            "ticks": ""
           }
          },
          "scene": {
           "xaxis": {
            "backgroundcolor": "#E5ECF6",
            "gridcolor": "white",
            "gridwidth": 2,
            "linecolor": "white",
            "showbackground": true,
            "ticks": "",
            "zerolinecolor": "white"
           },
           "yaxis": {
            "backgroundcolor": "#E5ECF6",
            "gridcolor": "white",
            "gridwidth": 2,
            "linecolor": "white",
            "showbackground": true,
            "ticks": "",
            "zerolinecolor": "white"
           },
           "zaxis": {
            "backgroundcolor": "#E5ECF6",
            "gridcolor": "white",
            "gridwidth": 2,
            "linecolor": "white",
            "showbackground": true,
            "ticks": "",
            "zerolinecolor": "white"
           }
          },
          "shapedefaults": {
           "line": {
            "color": "#2a3f5f"
           }
          },
          "ternary": {
           "aaxis": {
            "gridcolor": "white",
            "linecolor": "white",
            "ticks": ""
           },
           "baxis": {
            "gridcolor": "white",
            "linecolor": "white",
            "ticks": ""
           },
           "bgcolor": "#E5ECF6",
           "caxis": {
            "gridcolor": "white",
            "linecolor": "white",
            "ticks": ""
           }
          },
          "title": {
           "x": 0.05
          },
          "xaxis": {
           "automargin": true,
           "gridcolor": "white",
           "linecolor": "white",
           "ticks": "",
           "title": {
            "standoff": 15
           },
           "zerolinecolor": "white",
           "zerolinewidth": 2
          },
          "yaxis": {
           "automargin": true,
           "gridcolor": "white",
           "linecolor": "white",
           "ticks": "",
           "title": {
            "standoff": 15
           },
           "zerolinecolor": "white",
           "zerolinewidth": 2
          }
         }
        },
        "xaxis": {
         "anchor": "y",
         "domain": [
          0,
          0.45
         ],
         "range": [
          -3,
          3
         ]
        },
        "xaxis2": {
         "anchor": "y2",
         "domain": [
          0.55,
          1
         ],
         "range": [
          -3,
          3
         ]
        },
        "yaxis": {
         "anchor": "x",
         "domain": [
          0,
          1
         ],
         "scaleanchor": "x",
         "scaleratio": 1
        },
        "yaxis2": {
         "anchor": "x2",
         "domain": [
          0,
          1
         ],
         "scaleanchor": "x",
         "scaleratio": 1
        }
       }
      }
     },
     "metadata": {},
     "output_type": "display_data"
    }
   ],
   "source": [
    "from plotly.subplots import make_subplots\n",
    "import plotly.graph_objects as go\n",
    "\n",
    "# Discretização do parâmetro t\n",
    "t = np.linspace(0, 2*np.pi, 100)\n",
    "\n",
    "Cx = np.cos(t)\n",
    "Cy = np.sin(t)\n",
    "\n",
    "fig = make_subplots(rows=1, cols=2)\n",
    "\n",
    "fig.add_trace(go.Scatter(x=Cx, y=Cy, name=\"C\"), row=1, col=1)\n",
    "\n",
    "A = np.array([[2, 1],\n",
    "              [1, 2]])\n",
    "\n",
    "Tx = Cx * A[0][0] + Cy * A[0][1]\n",
    "Ty = Cx * A[1][0] + Cy * A[1][1]\n",
    "\n",
    "fig.add_trace(go.Scatter(x=Tx, y=Ty, name=\"T\"), row=1, col=2)\n",
    "\n",
    "fig.update_xaxes(range=[-3, 3])\n",
    "fig.update_yaxes(scaleanchor=\"x\", scaleratio=1)\n",
    "\n",
    "fig.show()"
   ]
  },
  {
   "cell_type": "markdown",
   "metadata": {
    "id": "nZmt2n1JWGXs"
   },
   "source": [
    "---"
   ]
  },
  {
   "cell_type": "markdown",
   "metadata": {
    "id": "kw8NEu3gJZd3"
   },
   "source": [
    "#### Exercício 07\n",
    "Seja $T:\\mathbb{R}^2 \\to \\mathbb{R}^2$ a transformação linear que rotaciona cada ponto do $\\mathbb{R}^2$, em torno da origem, de um ângulo $\\theta$ em relação ao eixo $ox$, no sentido anti-horário para valores positivos do ângulo.\n",
    "- Verifique que $T(1,0) = (cos\\;\\theta,\\;sen\\;\\theta)$ e $T(0,1) = (-sen\\;\\theta,\\;cos\\;\\theta)$.\n",
    "- Determine a transformação $T$ e sua matriz na base canônica.\n",
    "- Implemente uma função que recebe como parâmetro um ângulo $\\theta$ e retorna a matriz de rotação.\n",
    "- Aplique essa matriz de rotação no triângulo de vértices $(-1,1)$, $(1,1)$ e $(0,1)$ com $\\theta=\\pi / 4$ e visualize o resultado."
   ]
  },
  {
   "cell_type": "code",
   "execution_count": 52,
   "metadata": {
    "colab": {
     "base_uri": "https://localhost:8080/",
     "height": 378
    },
    "executionInfo": {
     "elapsed": 648,
     "status": "ok",
     "timestamp": 1632917111790,
     "user": {
      "displayName": "Luiz Otávio Toratti",
      "photoUrl": "https://lh3.googleusercontent.com/a-/AOh14GiJ2lu8bHxmHs09q5vtu3fcsIxB6URKBsrhkai9=s64",
      "userId": "09984317548107739267"
     },
     "user_tz": 180
    },
    "id": "Bsc3-NqTYHM4",
    "outputId": "f240ec08-c521-4ba3-99ea-49ad8398c02b"
   },
   "outputs": [
    {
     "data": {
      "image/png": "[encoded data removed]",
      "text/plain": [
       "<Figure size 432x432 with 1 Axes>"
      ]
     },
     "metadata": {
      "needs_background": "light"
     },
     "output_type": "display_data"
    },
    {
     "data": {
      "image/png": "[encoded data removed]",
      "text/plain": [
       "<Figure size 432x432 with 1 Axes>"
      ]
     },
     "metadata": {
      "needs_background": "light"
     },
     "output_type": "display_data"
    }
   ],
   "source": [
    "# Solução\n",
    "\n",
    "# Vértices do triângulo\n",
    "vertices = np.array([[-1,-1], [1,-1], [0,1]])\n",
    "\n",
    "# Impemente a função abaixo que recebe o ângulo theta\n",
    "# e retorna a matriz de rotação.\n",
    "def matrizRotacao(theta):\n",
    "  return np.array([[np.cos(theta), -np.sin(theta)],[np.sin(theta), np.cos(theta)]])\n",
    "\n",
    "\n",
    "# Aplique a transformação nos vértices do triângulo\n",
    "# Você pode criar um novo conjunto de vértces ou \n",
    "# modificar os originais.\n",
    "\n",
    "\n",
    "# Um simples plot para o triângulo\n",
    "def plotSimples(vx, vy):\n",
    "  plt.figure(figsize=(6,6))\n",
    "  plt.axis([-2, 2, -2, 2])\n",
    "  plt.plot([-2,2], [0,0], 'k--', alpha=0.75)\n",
    "  plt.plot([0,0], [-2,2],'k--', alpha=0.75)\n",
    "  plt.plot(vx, vy, 'k')\n",
    "  plt.plot([vx[0], vx[-1]], [vy[0], vy[-1]], 'k')\n",
    "  plt.plot(vx, vy, 'bo')\n",
    "  plt.grid('True')\n",
    "\n",
    "# Plot\n",
    "plotSimples(vertices[:,0], vertices[:,1])\n",
    "\n",
    "new_vertices = np.array([matrizRotacao(np.pi/2) @ v for v in vertices])\n",
    "plotSimples(new_vertices[:,0], new_vertices[:,1])"
   ]
  },
  {
   "cell_type": "markdown",
   "metadata": {
    "id": "Sjdtt8GrWInE"
   },
   "source": [
    "---"
   ]
  },
  {
   "cell_type": "markdown",
   "metadata": {
    "id": "Wp9oH_KT76Nl"
   },
   "source": [
    "#### Exercício 08\n",
    "Considere o espaço vetorial real $\\mathbb{R}^2$. Sejam as transformações\n",
    "- $T_1:\\mathbb{R}^2 \\to \\mathbb{R}^2$ tal que $T_1(x,y)=(-x,y)$ - **reflexão em torno do eixo $oy$**;\n",
    "- $T_2:\\mathbb{R}^2 \\to \\mathbb{R}^2$ tal que a matriz da transformação é dada por\n",
    "$$[T_2] = \\begin{bmatrix} 1 & k \\\\ 0 & 1 \\end{bmatrix},$$\n",
    "com $k\\in\\mathbb{R}$ - **cisalhamento horizontal**.\n",
    "\n",
    "1. Aplique as transformações $T_1$ e $T_2$ no quadrado de vértices $(0,0)$, $(1,0)$, $(1,1)$ e $(0,1)$ variando o parâmetro k e visualize os resultados;\n",
    "2. Determine a transformação que primeiro faz um cisalhamento horizontal com $k=-0.5$ mapeando $e_2$ em $e_2 - 0.5e_1$ ($e_1$ se mantém inalterado) e então reflete o resultado em torno do eixo $oy$. **Dica:** Determine a posição final das imagens de $e_1$ e $e_2$.\n",
    "3. Qual a relação entre as matrizes $[T_1]$, $[T_2]$ e a matriz da transformação obtida no item anterior?\n",
    "4. Determine a transformação de reflexão em torno do eixo $oy$ e a transformação de cisalhamento vertical."
   ]
  },
  {
   "cell_type": "code",
   "execution_count": 56,
   "metadata": {
    "executionInfo": {
     "elapsed": 229,
     "status": "ok",
     "timestamp": 1632917427179,
     "user": {
      "displayName": "Luiz Otávio Toratti",
      "photoUrl": "https://lh3.googleusercontent.com/a-/AOh14GiJ2lu8bHxmHs09q5vtu3fcsIxB6URKBsrhkai9=s64",
      "userId": "09984317548107739267"
     },
     "user_tz": 180
    },
    "id": "3vyKN25aEwq3"
   },
   "outputs": [
    {
     "data": {
      "image/png": "[encoded data removed]",
      "text/plain": [
       "<Figure size 432x432 with 1 Axes>"
      ]
     },
     "metadata": {
      "needs_background": "light"
     },
     "output_type": "display_data"
    },
    {
     "data": {
      "image/png": "[encoded data removed]",
      "text/plain": [
       "<Figure size 432x432 with 1 Axes>"
      ]
     },
     "metadata": {
      "needs_background": "light"
     },
     "output_type": "display_data"
    },
    {
     "data": {
      "image/png": "[encoded data removed]",
      "text/plain": [
       "<Figure size 432x432 with 1 Axes>"
      ]
     },
     "metadata": {
      "needs_background": "light"
     },
     "output_type": "display_data"
    }
   ],
   "source": [
    "# Solução\n",
    "T1 = np.array([[-1, 0], \n",
    "               [0, 1]])\n",
    "\n",
    "k = -0.5\n",
    "T2 = np.array([[1, k], \n",
    "               [0, 1]])\n",
    "\n",
    "vertices = np.array([[0, 0], [1, 0], [1, 1], [0, 1]])\n",
    "plotSimples(vertices[:,0], vertices[:,1])\n",
    "\n",
    "A = np.array([T2 @ v for v in vertices])\n",
    "plotSimples(A[:,0], A[:,1])\n",
    "\n",
    "B = np.array([T1 @ a for a in A])\n",
    "plotSimples(B[:,0], B[:,1])\n",
    "\n"
   ]
  }
 ],
 "metadata": {
  "colab": {
   "authorship_tag": "ABX9TyNVu4Uu9I2MyV5zp/kr0+ns",
   "name": "Álgebra Linear e Aplicações - Lista 01.ipynb",
   "provenance": []
  },
  "interpreter": {
   "hash": "916dbcbb3f70747c44a77c7bcd40155683ae19c65e1c03b4aa3499c5328201f1"
  },
  "kernelspec": {
   "display_name": "Python 3.8.10 64-bit",
   "name": "python3"
  },
  "language_info": {
   "codemirror_mode": {
    "name": "ipython",
    "version": 3
   },
   "file_extension": ".py",
   "mimetype": "text/x-python",
   "name": "python",
   "nbconvert_exporter": "python",
   "pygments_lexer": "ipython3",
   "version": "3.8.10"
  }
 },
 "nbformat": 4,
 "nbformat_minor": 2
}
