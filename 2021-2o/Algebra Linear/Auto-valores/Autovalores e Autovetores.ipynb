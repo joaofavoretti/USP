{
 "cells": [
  {
   "cell_type": "markdown",
   "metadata": {
    "id": "87VP5i9mJpSW"
   },
   "source": [
    "# SME0142 - Álgebra Linear e Aplicações\n",
    "## Autovalores e Autovetores\n",
    "#### Docente: Cynthia de Oliveira Lage Ferreira\n",
    "#### PAE - Luiz Otávio Toratti\n",
    "ICMC - USP São Carlos"
   ]
  },
  {
   "cell_type": "markdown",
   "metadata": {
    "id": "rlh2lGPHroBe"
   },
   "source": [
    "---"
   ]
  },
  {
   "cell_type": "code",
   "execution_count": 2,
   "metadata": {
    "executionInfo": {
     "elapsed": 258,
     "status": "ok",
     "timestamp": 1635335837474,
     "user": {
      "displayName": "Luiz Otávio Toratti",
      "photoUrl": "https://lh3.googleusercontent.com/a-/AOh14GiJ2lu8bHxmHs09q5vtu3fcsIxB6URKBsrhkai9=s64",
      "userId": "09984317548107739267"
     },
     "user_tz": 180
    },
    "id": "wpRoFXyCSU4R"
   },
   "outputs": [],
   "source": [
    "import numpy as np\n",
    "import matplotlib.pyplot as plt"
   ]
  },
  {
   "cell_type": "markdown",
   "metadata": {
    "id": "HDwBCuiqQevt"
   },
   "source": [
    "#### **Exemplo 01**\n",
    "Seja $A = \\begin{bmatrix}3&-2\\\\1&0\\end{bmatrix}$ a matriz de um operador linear $T:\\mathbb{R}^2 \\to \\mathbb{R}^2$ em relação a base canônica. \n",
    "1. Encontre os autovalores e autovetores (espaços próprios) de $T$.\n",
    "2. Verifique se T é diagonalizável."
   ]
  },
  {
   "cell_type": "markdown",
   "metadata": {
    "id": "92yqWk5N2Po2"
   },
   "source": [
    "**Solução:**\n",
    "\n",
    "Queremos que $det(A-\\lambda I) = 0$, assim, temos que\n",
    "$$\n",
    "det\\left(\\begin{bmatrix}\n",
    "3 - \\lambda & -2\\\\\n",
    "1 & -\\lambda\n",
    "\\end{bmatrix}\\right)=0 \\\\ \\Rightarrow\n",
    "\\lambda^2 - 3\\lambda + 2 = 0 \\\\ \\Rightarrow \\lambda_1 = 1 \\; \\text{ou} \\; \\lambda_2 = 2 \\\\ (m_1 = 1 \\; \\text{e} \\; m_2 = 1) \n",
    "$$\n",
    "\n",
    "- Autovalor $\\lambda_1 = 1$: \\\\\n",
    "$$\n",
    "v=(x,y) \\in V(1) \\Leftrightarrow\n",
    "(A-1I)v = 0\n",
    "$$\n",
    "\n",
    "ou seja\n",
    "\n",
    "\\begin{eqnarray*}\n",
    "\\begin{bmatrix} 2 & -2 \\\\ 1 & -1 \\end{bmatrix}\n",
    "\\begin{bmatrix} x \\\\ y \\end{bmatrix} &=&\n",
    "\\begin{bmatrix} 2x-2y \\\\ x-y \\end{bmatrix} \\\\ &=&\n",
    "\\begin{bmatrix} 0 \\\\ 0 \\end{bmatrix} \\Rightarrow x = y \\\\\n",
    "\\Rightarrow (x,y) = (x,x) = x(1,1)\n",
    "\\end{eqnarray*}\n",
    "\n",
    "Logo, $V(1) = [(1,1)]$ e $r_1 = 1$.\n",
    "\n",
    "- Autovalor $\\lambda_2 = 2$: \\\\\n",
    "$$\n",
    "v=(x,y) \\in V(2) \\Leftrightarrow\n",
    "(A-2I)v = 0\n",
    "$$\n",
    "\n",
    "ou seja\n",
    "\n",
    "\\begin{eqnarray*}\n",
    "\\begin{bmatrix} 1 & -2 \\\\ 1 & -2 \\end{bmatrix}\n",
    "\\begin{bmatrix} x \\\\ y \\end{bmatrix} &=&\n",
    "\\begin{bmatrix} x-2y \\\\ x-2y \\end{bmatrix} \\\\ &=&\n",
    "\\begin{bmatrix} 0 \\\\ 0 \\end{bmatrix} \\Rightarrow x = 2y \\\\\n",
    "\\Rightarrow (x,y) = (2y,y) = y(2,1)\n",
    "\\end{eqnarray*}\n",
    "\n",
    "Logo, $V(2) = [(2,1)]$ e $r_2 = 1$.\n",
    "\n",
    "- Como as multiplicidades algébrica e geométrica de cada um dos autovalores coincidem e a soma das multiplicidades geométricas coincide com a dimensão de $\\mathbb{R}^2$, portanto, $T$ é diagonalizável.\n"
   ]
  },
  {
   "cell_type": "code",
   "execution_count": 14,
   "metadata": {
    "colab": {
     "base_uri": "https://localhost:8080/",
     "height": 378
    },
    "executionInfo": {
     "elapsed": 850,
     "status": "ok",
     "timestamp": 1635178854425,
     "user": {
      "displayName": "Luiz Otávio Toratti",
      "photoUrl": "https://lh3.googleusercontent.com/a-/AOh14GiJ2lu8bHxmHs09q5vtu3fcsIxB6URKBsrhkai9=s64",
      "userId": "09984317548107739267"
     },
     "user_tz": 180
    },
    "id": "_Yj4QbuyZuq0",
    "outputId": "c10b1725-4f91-43bb-e56e-1d87ba54b529"
   },
   "outputs": [
    {
     "data": {
      "image/png": "[encoded data removed]",
      "text/plain": [
       "<Figure size 576x432 with 1 Axes>"
      ]
     },
     "metadata": {
      "needs_background": "light"
     },
     "output_type": "display_data"
    }
   ],
   "source": [
    "A = np.array([[3,-2],[1,0]])\n",
    "\n",
    "u = np.array([-1,1])\n",
    "v = np.array([2,1])\n",
    "w = np.array([1,1])\n",
    "\n",
    "Au = A @ u\n",
    "Av = A @ v\n",
    "Aw = A @ w\n",
    "\n",
    "plt.figure(figsize=(8,6))\n",
    "plt.axis([-6,5,-1,2])\n",
    "plt.plot([-6,5], [0,0], 'k--') # Eixo x\n",
    "plt.plot([0,0], [-1,2], 'k--') # Eixo y\n",
    "\n",
    "plt.quiver(0, 0, u[0], u[1], units='xy', scale=1, color='blue')\n",
    "plt.quiver(0, 0, Au[0], Au[1], units='xy', scale=1, color='blue')\n",
    "plt.text(u[0] - 0.2, u[1] - 0.5, r'${\\bf u}$', size=20)\n",
    "plt.text(Au[0] - 0.8, Au[1] + 0.35, r'$A{\\bf u}$', size=20);\n",
    "\n",
    "plt.quiver(0, 0, v[0], v[1], units='xy', scale=1, color='red')\n",
    "plt.quiver(0, 0, Av[0], Av[1], units='xy', scale=1, color='red')\n",
    "plt.text(v[0], v[1] - 0.8, r'${\\bf v}$', size=20)\n",
    "plt.text(Av[0], Av[1] - 1.0, r'$A{\\bf v}$', size=20);\n",
    "\n",
    "plt.quiver(0, 0, w[0], w[1], units='xy', scale=1, color='green')\n",
    "plt.quiver(0, 0, Aw[0], Aw[1], units='xy', scale=1, color='green')\n",
    "_ = plt.text(w[0] - 0.8, w[1] - 0.5, r'${\\bf w}=A{\\bf w}$', size=20)"
   ]
  },
  {
   "cell_type": "markdown",
   "metadata": {
    "id": "q6m9fgMVRc8F"
   },
   "source": [
    "####**Exemplo 02**\n",
    "Seja $A = \\begin{bmatrix} 4 & -1 & 6 \\\\ 2 & 1 & 6 \\\\ -2 & -1 & 8 \\end{bmatrix}$ a matriz de um operador linear $T:\\mathbb{R}^3 \\to \\mathbb{R}^3$ em relação a base canônica. \n",
    "1. Encontre os autovalores e autovetores (espaços próprios) de $T$.\n",
    "2. Verifique se T é diagonalizável."
   ]
  },
  {
   "cell_type": "markdown",
   "metadata": {
    "id": "P90sAkUmwmcm"
   },
   "source": [
    "**Solução:**\n",
    "\n",
    "Queremos que $det(A-\\lambda I) = 0$, assim, temos que\n",
    "$$\n",
    "det\\left(\\begin{bmatrix}\n",
    "4 - \\lambda & -1 & 6 \\\\\n",
    "2 & 1 - \\lambda & 6 \\\\\n",
    "2 & -1 & 8-\\lambda\n",
    "\\end{bmatrix}\\right)=0 \\\\ \\Rightarrow\n",
    "-\\lambda^3 + 13\\lambda^2 - 40\\lambda + 36 = 0 \\\\ \\Rightarrow (\\lambda-2)^2(\\lambda-9) = 0 \\\\ \\Rightarrow \\lambda_1 = 2 \\; \\text{ou} \\; \\lambda_2 = 9 \\\\ (m_1 = 2 \\; \\text{e} \\; m_2 = 1) \n",
    "$$\n",
    "\n",
    "- Autovalor $\\lambda_1 = 2$: \\\\\n",
    "$$\n",
    "v=(x,y) \\in V(2) \\Leftrightarrow\n",
    "(A-2I)v = 0\n",
    "$$\n",
    "\n",
    "ou seja\n",
    "\n",
    "\\begin{eqnarray*}\n",
    "\\begin{bmatrix} 2 & -1 & 6 \\\\ 2 & -1 & 6 \\\\ 2 & -1 & 6 \\end{bmatrix}\n",
    "\\begin{bmatrix} x \\\\ y \\\\ z \\end{bmatrix} &=&\n",
    "\\begin{bmatrix} 2x-y+6z \\\\ 2x-y+6z \\\\ 2x-y+6z \\end{bmatrix} \\\\ &=&\n",
    "\\begin{bmatrix} 0 \\\\ 0 \\\\ 0 \\end{bmatrix} \\Rightarrow y = 2x+6z \\\\\n",
    "\\Rightarrow (x,y,z) = (x,2x+6z,z) = x(1,2,0) + z(0,6,1)\n",
    "\\end{eqnarray*}\n",
    "\n",
    "Logo, $V(2) = [(1,2,0),(0,6,1)]$ e $r_1 = 2$.\n",
    "\n",
    "- Autovalor $\\lambda_2 = 9$: \\\\\n",
    "$$\n",
    "v=(x,y,z) \\in V(9) \\Leftrightarrow\n",
    "(A-9I)v = 0\n",
    "$$\n",
    "\n",
    "ou seja\n",
    "\n",
    "\\begin{eqnarray*}\n",
    "\\begin{bmatrix} -5 & -1 & 6 \\\\ 2 & -8 & 6 \\\\ 2 & -1 & -1 \\end{bmatrix}\n",
    "\\begin{bmatrix} x \\\\ y \\\\ z \\end{bmatrix} &=&\n",
    "\\begin{bmatrix} 0 \\\\ 0 \\\\ 0 \\end{bmatrix} \\\\ \\\\\n",
    "\\Rightarrow\n",
    "\\begin{cases}\n",
    "-5x-y+6z &=& 0 \\\\\n",
    "2x-8y+6z &=& 0 \\\\\n",
    "2x-y-z &=& 0\n",
    "\\end{cases} \\\\ \\\\\n",
    "\\Rightarrow\n",
    "\\begin{cases}\n",
    "x &=& z \\\\\n",
    "y &=& z\n",
    "\\end{cases} \\\\ \\\\\n",
    "\\Rightarrow (x,y,z) = (z,z,z) = z(1,1,1)\n",
    "\\end{eqnarray*}\n",
    "\n",
    "Logo, $V(9) = [(1,1,1)]$ e $r_2 = 1$.\n",
    "\n",
    "- Como as multiplicidades algébrica e geométrica de cada um dos autovalores coincidem e a soma das multiplicidades geométricas coincide com a dimensão de $\\mathbb{R}^3$, portanto, $T$ é diagonalizável."
   ]
  },
  {
   "cell_type": "code",
   "execution_count": 20,
   "metadata": {
    "colab": {
     "base_uri": "https://localhost:8080/",
     "height": 281
    },
    "executionInfo": {
     "elapsed": 334,
     "status": "ok",
     "timestamp": 1635336432823,
     "user": {
      "displayName": "Luiz Otávio Toratti",
      "photoUrl": "https://lh3.googleusercontent.com/a-/AOh14GiJ2lu8bHxmHs09q5vtu3fcsIxB6URKBsrhkai9=s64",
      "userId": "09984317548107739267"
     },
     "user_tz": 180
    },
    "id": "Zzz7oIt1OonQ",
    "outputId": "7b7265ef-a837-42f0-c1d2-e35cc963417a"
   },
   "outputs": [
    {
     "name": "stdout",
     "output_type": "stream",
     "text": [
      "Raízes aproximadas:  [9.+0.00000000e+00j 2.+3.01632729e-08j 2.-3.01632729e-08j]\n"
     ]
    },
    {
     "data": {
      "image/png": "[encoded data removed]",
      "text/plain": [
       "<Figure size 432x288 with 1 Axes>"
      ]
     },
     "metadata": {
      "needs_background": "light"
     },
     "output_type": "display_data"
    }
   ],
   "source": [
    "# Plot do polinômio caracteristico\n",
    "xx = np.linspace(0,10,100)\n",
    "yy = -xx**3 + 13*xx**2 - 40*xx + 36\n",
    "plt.plot([0,10],[0,0], 'k--') # eixo x\n",
    "plt.plot([0,0], [-60, 50], 'k--') # eixo y\n",
    "plt.plot(xx,yy)\n",
    "\n",
    "# Aproximação das raízes\n",
    "print('Raízes aproximadas: ', np.roots([-1,13,-40,36]))"
   ]
  },
  {
   "cell_type": "code",
   "execution_count": 5,
   "metadata": {
    "colab": {
     "base_uri": "https://localhost:8080/"
    },
    "executionInfo": {
     "elapsed": 398,
     "status": "ok",
     "timestamp": 1635251446634,
     "user": {
      "displayName": "Luiz Otávio Toratti",
      "photoUrl": "https://lh3.googleusercontent.com/a-/AOh14GiJ2lu8bHxmHs09q5vtu3fcsIxB6URKBsrhkai9=s64",
      "userId": "09984317548107739267"
     },
     "user_tz": 180
    },
    "id": "-KzHaNsnkjNt",
    "outputId": "2e5de376-ba1b-450a-c269-bf768d4d16d1"
   },
   "outputs": [
    {
     "name": "stdout",
     "output_type": "stream",
     "text": [
      "[[ 4. -1.  6.]\n",
      " [ 2.  1.  6.]\n",
      " [ 2. -1.  8.]]\n"
     ]
    }
   ],
   "source": [
    "# Construção das matrizes da diagonalização\n",
    "S = np.array([[1, 0, 1], \n",
    "              [2, 6, 1], \n",
    "              [0, 1, 1]])\n",
    "\n",
    "D = np.array([[2, 0, 0], \n",
    "              [0, 2, 0], \n",
    "              [0, 0, 9]])\n",
    "\n",
    "Sinv = np.linalg.inv(S)\n",
    "\n",
    "# Verificando se A = S*D*S^{-1}\n",
    "print(S @ D @ Sinv)"
   ]
  },
  {
   "cell_type": "code",
   "execution_count": 36,
   "metadata": {
    "colab": {
     "base_uri": "https://localhost:8080/",
     "height": 517
    },
    "executionInfo": {
     "elapsed": 679,
     "status": "ok",
     "timestamp": 1635184333345,
     "user": {
      "displayName": "Luiz Otávio Toratti",
      "photoUrl": "https://lh3.googleusercontent.com/a-/AOh14GiJ2lu8bHxmHs09q5vtu3fcsIxB6URKBsrhkai9=s64",
      "userId": "09984317548107739267"
     },
     "user_tz": 180
    },
    "id": "uey3WecYqwTV",
    "outputId": "2526f78d-76af-49ef-fc61-122d4b871e62"
   },
   "outputs": [
    {
     "name": "stdout",
     "output_type": "stream",
     "text": [
      "u: [  0 -12  -2]\n",
      "normal vector(generate plane): [ 2 -1  6]\n"
     ]
    },
    {
     "data": {
      "application/vnd.plotly.v1+json": {
       "config": {
        "plotlyServerURL": "https://plot.ly"
       },
       "data": [
        {
         "name": "Autoespaço",
         "opacity": 0.5,
         "showscale": false,
         "type": "surface",
         "x": [
          [
           -4,
           -3,
           -2,
           -1,
           0,
           1,
           2,
           3,
           4
          ],
          [
           -4,
           -3,
           -2,
           -1,
           0,
           1,
           2,
           3,
           4
          ],
          [
           -4,
           -3,
           -2,
           -1,
           0,
           1,
           2,
           3,
           4
          ],
          [
           -4,
           -3,
           -2,
           -1,
           0,
           1,
           2,
           3,
           4
          ],
          [
           -4,
           -3,
           -2,
           -1,
           0,
           1,
           2,
           3,
           4
          ],
          [
           -4,
           -3,
           -2,
           -1,
           0,
           1,
           2,
           3,
           4
          ],
          [
           -4,
           -3,
           -2,
           -1,
           0,
           1,
           2,
           3,
           4
          ],
          [
           -4,
           -3,
           -2,
           -1,
           0,
           1,
           2,
           3,
           4
          ],
          [
           -4,
           -3,
           -2,
           -1,
           0,
           1,
           2,
           3,
           4
          ]
         ],
         "y": [
          [
           -4,
           -4,
           -4,
           -4,
           -4,
           -4,
           -4,
           -4,
           -4
          ],
          [
           -3,
           -3,
           -3,
           -3,
           -3,
           -3,
           -3,
           -3,
           -3
          ],
          [
           -2,
           -2,
           -2,
           -2,
           -2,
           -2,
           -2,
           -2,
           -2
          ],
          [
           -1,
           -1,
           -1,
           -1,
           -1,
           -1,
           -1,
           -1,
           -1
          ],
          [
           0,
           0,
           0,
           0,
           0,
           0,
           0,
           0,
           0
          ],
          [
           1,
           1,
           1,
           1,
           1,
           1,
           1,
           1,
           1
          ],
          [
           2,
           2,
           2,
           2,
           2,
           2,
           2,
           2,
           2
          ],
          [
           3,
           3,
           3,
           3,
           3,
           3,
           3,
           3,
           3
          ],
          [
           4,
           4,
           4,
           4,
           4,
           4,
           4,
           4,
           4
          ]
         ],
         "z": [
          [
           0.6666666666666666,
           0.3333333333333333,
           0,
           -0.3333333333333333,
           -0.6666666666666666,
           -1,
           -1.3333333333333333,
           -1.6666666666666667,
           -2
          ],
          [
           0.8333333333333334,
           0.5,
           0.16666666666666666,
           -0.16666666666666666,
           -0.5,
           -0.8333333333333334,
           -1.1666666666666667,
           -1.5,
           -1.8333333333333333
          ],
          [
           1,
           0.6666666666666666,
           0.3333333333333333,
           0,
           -0.3333333333333333,
           -0.6666666666666666,
           -1,
           -1.3333333333333333,
           -1.6666666666666667
          ],
          [
           1.1666666666666667,
           0.8333333333333334,
           0.5,
           0.16666666666666666,
           -0.16666666666666666,
           -0.5,
           -0.8333333333333334,
           -1.1666666666666667,
           -1.5
          ],
          [
           1.3333333333333333,
           1,
           0.6666666666666666,
           0.3333333333333333,
           0,
           -0.3333333333333333,
           -0.6666666666666666,
           -1,
           -1.3333333333333333
          ],
          [
           1.5,
           1.1666666666666667,
           0.8333333333333334,
           0.5,
           0.16666666666666666,
           -0.16666666666666666,
           -0.5,
           -0.8333333333333334,
           -1.1666666666666667
          ],
          [
           1.6666666666666667,
           1.3333333333333333,
           1,
           0.6666666666666666,
           0.3333333333333333,
           0,
           -0.3333333333333333,
           -0.6666666666666666,
           -1
          ],
          [
           1.8333333333333333,
           1.5,
           1.1666666666666667,
           0.8333333333333334,
           0.5,
           0.16666666666666666,
           -0.16666666666666666,
           -0.5,
           -0.8333333333333334
          ],
          [
           2,
           1.6666666666666667,
           1.3333333333333333,
           1,
           0.6666666666666666,
           0.3333333333333333,
           0,
           -0.3333333333333333,
           -0.6666666666666666
          ]
         ]
        },
        {
         "line": {
          "color": "black",
          "width": 4
         },
         "mode": "lines",
         "name": "Au",
         "type": "scatter3d",
         "x": [
          0,
          0
         ],
         "y": [
          0,
          -24
         ],
         "z": [
          0,
          -4
         ]
        },
        {
         "line": {
          "color": "green",
          "width": 4
         },
         "mode": "lines",
         "name": "u",
         "type": "scatter3d",
         "x": [
          0,
          0
         ],
         "y": [
          0,
          -12
         ],
         "z": [
          0,
          -2
         ]
        },
        {
         "line": {
          "color": "red",
          "width": 4
         },
         "mode": "lines",
         "name": "v1",
         "type": "scatter3d",
         "x": [
          0,
          1
         ],
         "y": [
          0,
          2
         ],
         "z": [
          0,
          0
         ]
        },
        {
         "line": {
          "color": "blue",
          "width": 4
         },
         "mode": "lines",
         "name": "v2",
         "type": "scatter3d",
         "x": [
          0,
          0
         ],
         "y": [
          0,
          6
         ],
         "z": [
          0,
          1
         ]
        }
       ],
       "layout": {
        "autosize": false,
        "height": 500,
        "margin": {
         "b": 20,
         "l": 20,
         "pad": 4,
         "r": 20,
         "t": 20
        },
        "paper_bgcolor": "LightSteelBlue",
        "scene": {
         "aspectmode": "cube"
        },
        "template": {
         "data": {
          "bar": [
           {
            "error_x": {
             "color": "#2a3f5f"
            },
            "error_y": {
             "color": "#2a3f5f"
            },
            "marker": {
             "line": {
              "color": "#E5ECF6",
              "width": 0.5
             },
             "pattern": {
              "fillmode": "overlay",
              "size": 10,
              "solidity": 0.2
             }
            },
            "type": "bar"
           }
          ],
          "barpolar": [
           {
            "marker": {
             "line": {
              "color": "#E5ECF6",
              "width": 0.5
             },
             "pattern": {
              "fillmode": "overlay",
              "size": 10,
              "solidity": 0.2
             }
            },
            "type": "barpolar"
           }
          ],
          "carpet": [
           {
            "aaxis": {
             "endlinecolor": "#2a3f5f",
             "gridcolor": "white",
             "linecolor": "white",
             "minorgridcolor": "white",
             "startlinecolor": "#2a3f5f"
            },
            "baxis": {
             "endlinecolor": "#2a3f5f",
             "gridcolor": "white",
             "linecolor": "white",
             "minorgridcolor": "white",
             "startlinecolor": "#2a3f5f"
            },
            "type": "carpet"
           }
          ],
          "choropleth": [
           {
            "colorbar": {
             "outlinewidth": 0,
             "ticks": ""
            },
            "type": "choropleth"
           }
          ],
          "contour": [
           {
            "colorbar": {
             "outlinewidth": 0,
             "ticks": ""
            },
            "colorscale": [
             [
              0,
              "#0d0887"
             ],
             [
              0.1111111111111111,
              "#46039f"
             ],
             [
              0.2222222222222222,
              "#7201a8"
             ],
             [
              0.3333333333333333,
              "#9c179e"
             ],
             [
              0.4444444444444444,
              "#bd3786"
             ],
             [
              0.5555555555555556,
              "#d8576b"
             ],
             [
              0.6666666666666666,
              "#ed7953"
             ],
             [
              0.7777777777777778,
              "#fb9f3a"
             ],
             [
              0.8888888888888888,
              "#fdca26"
             ],
             [
              1,
              "#f0f921"
             ]
            ],
            "type": "contour"
           }
          ],
          "contourcarpet": [
           {
            "colorbar": {
             "outlinewidth": 0,
             "ticks": ""
            },
            "type": "contourcarpet"
           }
          ],
          "heatmap": [
           {
            "colorbar": {
             "outlinewidth": 0,
             "ticks": ""
            },
            "colorscale": [
             [
              0,
              "#0d0887"
             ],
             [
              0.1111111111111111,
              "#46039f"
             ],
             [
              0.2222222222222222,
              "#7201a8"
             ],
             [
              0.3333333333333333,
              "#9c179e"
             ],
             [
              0.4444444444444444,
              "#bd3786"
             ],
             [
              0.5555555555555556,
              "#d8576b"
             ],
             [
              0.6666666666666666,
              "#ed7953"
             ],
             [
              0.7777777777777778,
              "#fb9f3a"
             ],
             [
              0.8888888888888888,
              "#fdca26"
             ],
             [
              1,
              "#f0f921"
             ]
            ],
            "type": "heatmap"
           }
          ],
          "heatmapgl": [
           {
            "colorbar": {
             "outlinewidth": 0,
             "ticks": ""
            },
            "colorscale": [
             [
              0,
              "#0d0887"
             ],
             [
              0.1111111111111111,
              "#46039f"
             ],
             [
              0.2222222222222222,
              "#7201a8"
             ],
             [
              0.3333333333333333,
              "#9c179e"
             ],
             [
              0.4444444444444444,
              "#bd3786"
             ],
             [
              0.5555555555555556,
              "#d8576b"
             ],
             [
              0.6666666666666666,
              "#ed7953"
             ],
             [
              0.7777777777777778,
              "#fb9f3a"
             ],
             [
              0.8888888888888888,
              "#fdca26"
             ],
             [
              1,
              "#f0f921"
             ]
            ],
            "type": "heatmapgl"
           }
          ],
          "histogram": [
           {
            "marker": {
             "pattern": {
              "fillmode": "overlay",
              "size": 10,
              "solidity": 0.2
             }
            },
            "type": "histogram"
           }
          ],
          "histogram2d": [
           {
            "colorbar": {
             "outlinewidth": 0,
             "ticks": ""
            },
            "colorscale": [
             [
              0,
              "#0d0887"
             ],
             [
              0.1111111111111111,
              "#46039f"
             ],
             [
              0.2222222222222222,
              "#7201a8"
             ],
             [
              0.3333333333333333,
              "#9c179e"
             ],
             [
              0.4444444444444444,
              "#bd3786"
             ],
             [
              0.5555555555555556,
              "#d8576b"
             ],
             [
              0.6666666666666666,
              "#ed7953"
             ],
             [
              0.7777777777777778,
              "#fb9f3a"
             ],
             [
              0.8888888888888888,
              "#fdca26"
             ],
             [
              1,
              "#f0f921"
             ]
            ],
            "type": "histogram2d"
           }
          ],
          "histogram2dcontour": [
           {
            "colorbar": {
             "outlinewidth": 0,
             "ticks": ""
            },
            "colorscale": [
             [
              0,
              "#0d0887"
             ],
             [
              0.1111111111111111,
              "#46039f"
             ],
             [
              0.2222222222222222,
              "#7201a8"
             ],
             [
              0.3333333333333333,
              "#9c179e"
             ],
             [
              0.4444444444444444,
              "#bd3786"
             ],
             [
              0.5555555555555556,
              "#d8576b"
             ],
             [
              0.6666666666666666,
              "#ed7953"
             ],
             [
              0.7777777777777778,
              "#fb9f3a"
             ],
             [
              0.8888888888888888,
              "#fdca26"
             ],
             [
              1,
              "#f0f921"
             ]
            ],
            "type": "histogram2dcontour"
           }
          ],
          "mesh3d": [
           {
            "colorbar": {
             "outlinewidth": 0,
             "ticks": ""
            },
            "type": "mesh3d"
           }
          ],
          "parcoords": [
           {
            "line": {
             "colorbar": {
              "outlinewidth": 0,
              "ticks": ""
             }
            },
            "type": "parcoords"
           }
          ],
          "pie": [
           {
            "automargin": true,
            "type": "pie"
           }
          ],
          "scatter": [
           {
            "marker": {
             "colorbar": {
              "outlinewidth": 0,
              "ticks": ""
             }
            },
            "type": "scatter"
           }
          ],
          "scatter3d": [
           {
            "line": {
             "colorbar": {
              "outlinewidth": 0,
              "ticks": ""
             }
            },
            "marker": {
             "colorbar": {
              "outlinewidth": 0,
              "ticks": ""
             }
            },
            "type": "scatter3d"
           }
          ],
          "scattercarpet": [
           {
            "marker": {
             "colorbar": {
              "outlinewidth": 0,
              "ticks": ""
             }
            },
            "type": "scattercarpet"
           }
          ],
          "scattergeo": [
           {
            "marker": {
             "colorbar": {
              "outlinewidth": 0,
              "ticks": ""
             }
            },
            "type": "scattergeo"
           }
          ],
          "scattergl": [
           {
            "marker": {
             "colorbar": {
              "outlinewidth": 0,
              "ticks": ""
             }
            },
            "type": "scattergl"
           }
          ],
          "scattermapbox": [
           {
            "marker": {
             "colorbar": {
              "outlinewidth": 0,
              "ticks": ""
             }
            },
            "type": "scattermapbox"
           }
          ],
          "scatterpolar": [
           {
            "marker": {
             "colorbar": {
              "outlinewidth": 0,
              "ticks": ""
             }
            },
            "type": "scatterpolar"
           }
          ],
          "scatterpolargl": [
           {
            "marker": {
             "colorbar": {
              "outlinewidth": 0,
              "ticks": ""
             }
            },
            "type": "scatterpolargl"
           }
          ],
          "scatterternary": [
           {
            "marker": {
             "colorbar": {
              "outlinewidth": 0,
              "ticks": ""
             }
            },
            "type": "scatterternary"
           }
          ],
          "surface": [
           {
            "colorbar": {
             "outlinewidth": 0,
             "ticks": ""
            },
            "colorscale": [
             [
              0,
              "#0d0887"
             ],
             [
              0.1111111111111111,
              "#46039f"
             ],
             [
              0.2222222222222222,
              "#7201a8"
             ],
             [
              0.3333333333333333,
              "#9c179e"
             ],
             [
              0.4444444444444444,
              "#bd3786"
             ],
             [
              0.5555555555555556,
              "#d8576b"
             ],
             [
              0.6666666666666666,
              "#ed7953"
             ],
             [
              0.7777777777777778,
              "#fb9f3a"
             ],
             [
              0.8888888888888888,
              "#fdca26"
             ],
             [
              1,
              "#f0f921"
             ]
            ],
            "type": "surface"
           }
          ],
          "table": [
           {
            "cells": {
             "fill": {
              "color": "#EBF0F8"
             },
             "line": {
              "color": "white"
             }
            },
            "header": {
             "fill": {
              "color": "#C8D4E3"
             },
             "line": {
              "color": "white"
             }
            },
            "type": "table"
           }
          ]
         },
         "layout": {
          "annotationdefaults": {
           "arrowcolor": "#2a3f5f",
           "arrowhead": 0,
           "arrowwidth": 1
          },
          "autotypenumbers": "strict",
          "coloraxis": {
           "colorbar": {
            "outlinewidth": 0,
            "ticks": ""
           }
          },
          "colorscale": {
           "diverging": [
            [
             0,
             "#8e0152"
            ],
            [
             0.1,
             "#c51b7d"
            ],
            [
             0.2,
             "#de77ae"
            ],
            [
             0.3,
             "#f1b6da"
            ],
            [
             0.4,
             "#fde0ef"
            ],
            [
             0.5,
             "#f7f7f7"
            ],
            [
             0.6,
             "#e6f5d0"
            ],
            [
             0.7,
             "#b8e186"
            ],
            [
             0.8,
             "#7fbc41"
            ],
            [
             0.9,
             "#4d9221"
            ],
            [
             1,
             "#276419"
            ]
           ],
           "sequential": [
            [
             0,
             "#0d0887"
            ],
            [
             0.1111111111111111,
             "#46039f"
            ],
            [
             0.2222222222222222,
             "#7201a8"
            ],
            [
             0.3333333333333333,
             "#9c179e"
            ],
            [
             0.4444444444444444,
             "#bd3786"
            ],
            [
             0.5555555555555556,
             "#d8576b"
            ],
            [
             0.6666666666666666,
             "#ed7953"
            ],
            [
             0.7777777777777778,
             "#fb9f3a"
            ],
            [
             0.8888888888888888,
             "#fdca26"
            ],
            [
             1,
             "#f0f921"
            ]
           ],
           "sequentialminus": [
            [
             0,
             "#0d0887"
            ],
            [
             0.1111111111111111,
             "#46039f"
            ],
            [
             0.2222222222222222,
             "#7201a8"
            ],
            [
             0.3333333333333333,
             "#9c179e"
            ],
            [
             0.4444444444444444,
             "#bd3786"
            ],
            [
             0.5555555555555556,
             "#d8576b"
            ],
            [
             0.6666666666666666,
             "#ed7953"
            ],
            [
             0.7777777777777778,
             "#fb9f3a"
            ],
            [
             0.8888888888888888,
             "#fdca26"
            ],
            [
             1,
             "#f0f921"
            ]
           ]
          },
          "colorway": [
           "#636efa",
           "#EF553B",
           "#00cc96",
           "#ab63fa",
           "#FFA15A",
           "#19d3f3",
           "#FF6692",
           "#B6E880",
           "#FF97FF",
           "#FECB52"
          ],
          "font": {
           "color": "#2a3f5f"
          },
          "geo": {
           "bgcolor": "white",
           "lakecolor": "white",
           "landcolor": "#E5ECF6",
           "showlakes": true,
           "showland": true,
           "subunitcolor": "white"
          },
          "hoverlabel": {
           "align": "left"
          },
          "hovermode": "closest",
          "mapbox": {
           "style": "light"
          },
          "paper_bgcolor": "white",
          "plot_bgcolor": "#E5ECF6",
          "polar": {
           "angularaxis": {
            "gridcolor": "white",
            "linecolor": "white",
            "ticks": ""
           },
           "bgcolor": "#E5ECF6",
           "radialaxis": {
            "gridcolor": "white",
            "linecolor": "white",
            "ticks": ""
           }
          },
          "scene": {
           "xaxis": {
            "backgroundcolor": "#E5ECF6",
            "gridcolor": "white",
            "gridwidth": 2,
            "linecolor": "white",
            "showbackground": true,
            "ticks": "",
            "zerolinecolor": "white"
           },
           "yaxis": {
            "backgroundcolor": "#E5ECF6",
            "gridcolor": "white",
            "gridwidth": 2,
            "linecolor": "white",
            "showbackground": true,
            "ticks": "",
            "zerolinecolor": "white"
           },
           "zaxis": {
            "backgroundcolor": "#E5ECF6",
            "gridcolor": "white",
            "gridwidth": 2,
            "linecolor": "white",
            "showbackground": true,
            "ticks": "",
            "zerolinecolor": "white"
           }
          },
          "shapedefaults": {
           "line": {
            "color": "#2a3f5f"
           }
          },
          "ternary": {
           "aaxis": {
            "gridcolor": "white",
            "linecolor": "white",
            "ticks": ""
           },
           "baxis": {
            "gridcolor": "white",
            "linecolor": "white",
            "ticks": ""
           },
           "bgcolor": "#E5ECF6",
           "caxis": {
            "gridcolor": "white",
            "linecolor": "white",
            "ticks": ""
           }
          },
          "title": {
           "x": 0.05
          },
          "xaxis": {
           "automargin": true,
           "gridcolor": "white",
           "linecolor": "white",
           "ticks": "",
           "title": {
            "standoff": 15
           },
           "zerolinecolor": "white",
           "zerolinewidth": 2
          },
          "yaxis": {
           "automargin": true,
           "gridcolor": "white",
           "linecolor": "white",
           "ticks": "",
           "title": {
            "standoff": 15
           },
           "zerolinecolor": "white",
           "zerolinewidth": 2
          }
         }
        },
        "width": 500
       }
      },
      "text/html": [
       "<div>                            <div id=\"222038fc-c437-4e94-add2-989122616777\" class=\"plotly-graph-div\" style=\"height:500px; width:500px;\"></div>            <script type=\"text/javascript\">                require([\"plotly\"], function(Plotly) {                    window.PLOTLYENV=window.PLOTLYENV || {};                                    if (document.getElementById(\"222038fc-c437-4e94-add2-989122616777\")) {                    Plotly.newPlot(                        \"222038fc-c437-4e94-add2-989122616777\",                        [{\"name\":\"Autoespa\\u00e7o\",\"opacity\":0.5,\"showscale\":false,\"type\":\"surface\",\"x\":[[-4,-3,-2,-1,0,1,2,3,4],[-4,-3,-2,-1,0,1,2,3,4],[-4,-3,-2,-1,0,1,2,3,4],[-4,-3,-2,-1,0,1,2,3,4],[-4,-3,-2,-1,0,1,2,3,4],[-4,-3,-2,-1,0,1,2,3,4],[-4,-3,-2,-1,0,1,2,3,4],[-4,-3,-2,-1,0,1,2,3,4],[-4,-3,-2,-1,0,1,2,3,4]],\"y\":[[-4,-4,-4,-4,-4,-4,-4,-4,-4],[-3,-3,-3,-3,-3,-3,-3,-3,-3],[-2,-2,-2,-2,-2,-2,-2,-2,-2],[-1,-1,-1,-1,-1,-1,-1,-1,-1],[0,0,0,0,0,0,0,0,0],[1,1,1,1,1,1,1,1,1],[2,2,2,2,2,2,2,2,2],[3,3,3,3,3,3,3,3,3],[4,4,4,4,4,4,4,4,4]],\"z\":[[0.6666666666666666,0.3333333333333333,0.0,-0.3333333333333333,-0.6666666666666666,-1.0,-1.3333333333333333,-1.6666666666666667,-2.0],[0.8333333333333334,0.5,0.16666666666666666,-0.16666666666666666,-0.5,-0.8333333333333334,-1.1666666666666667,-1.5,-1.8333333333333333],[1.0,0.6666666666666666,0.3333333333333333,0.0,-0.3333333333333333,-0.6666666666666666,-1.0,-1.3333333333333333,-1.6666666666666667],[1.1666666666666667,0.8333333333333334,0.5,0.16666666666666666,-0.16666666666666666,-0.5,-0.8333333333333334,-1.1666666666666667,-1.5],[1.3333333333333333,1.0,0.6666666666666666,0.3333333333333333,0.0,-0.3333333333333333,-0.6666666666666666,-1.0,-1.3333333333333333],[1.5,1.1666666666666667,0.8333333333333334,0.5,0.16666666666666666,-0.16666666666666666,-0.5,-0.8333333333333334,-1.1666666666666667],[1.6666666666666667,1.3333333333333333,1.0,0.6666666666666666,0.3333333333333333,0.0,-0.3333333333333333,-0.6666666666666666,-1.0],[1.8333333333333333,1.5,1.1666666666666667,0.8333333333333334,0.5,0.16666666666666666,-0.16666666666666666,-0.5,-0.8333333333333334],[2.0,1.6666666666666667,1.3333333333333333,1.0,0.6666666666666666,0.3333333333333333,0.0,-0.3333333333333333,-0.6666666666666666]]},{\"line\":{\"color\":\"black\",\"width\":4},\"mode\":\"lines\",\"name\":\"Au\",\"type\":\"scatter3d\",\"x\":[0,0],\"y\":[0,-24],\"z\":[0,-4]},{\"line\":{\"color\":\"green\",\"width\":4},\"mode\":\"lines\",\"name\":\"u\",\"type\":\"scatter3d\",\"x\":[0,0],\"y\":[0,-12],\"z\":[0,-2]},{\"line\":{\"color\":\"red\",\"width\":4},\"mode\":\"lines\",\"name\":\"v1\",\"type\":\"scatter3d\",\"x\":[0,1],\"y\":[0,2],\"z\":[0,0]},{\"line\":{\"color\":\"blue\",\"width\":4},\"mode\":\"lines\",\"name\":\"v2\",\"type\":\"scatter3d\",\"x\":[0,0],\"y\":[0,6],\"z\":[0,1]}],                        {\"autosize\":false,\"height\":500,\"margin\":{\"b\":20,\"l\":20,\"pad\":4,\"r\":20,\"t\":20},\"paper_bgcolor\":\"LightSteelBlue\",\"scene\":{\"aspectmode\":\"cube\"},\"template\":{\"data\":{\"bar\":[{\"error_x\":{\"color\":\"#2a3f5f\"},\"error_y\":{\"color\":\"#2a3f5f\"},\"marker\":{\"line\":{\"color\":\"#E5ECF6\",\"width\":0.5},\"pattern\":{\"fillmode\":\"overlay\",\"size\":10,\"solidity\":0.2}},\"type\":\"bar\"}],\"barpolar\":[{\"marker\":{\"line\":{\"color\":\"#E5ECF6\",\"width\":0.5},\"pattern\":{\"fillmode\":\"overlay\",\"size\":10,\"solidity\":0.2}},\"type\":\"barpolar\"}],\"carpet\":[{\"aaxis\":{\"endlinecolor\":\"#2a3f5f\",\"gridcolor\":\"white\",\"linecolor\":\"white\",\"minorgridcolor\":\"white\",\"startlinecolor\":\"#2a3f5f\"},\"baxis\":{\"endlinecolor\":\"#2a3f5f\",\"gridcolor\":\"white\",\"linecolor\":\"white\",\"minorgridcolor\":\"white\",\"startlinecolor\":\"#2a3f5f\"},\"type\":\"carpet\"}],\"choropleth\":[{\"colorbar\":{\"outlinewidth\":0,\"ticks\":\"\"},\"type\":\"choropleth\"}],\"contour\":[{\"colorbar\":{\"outlinewidth\":0,\"ticks\":\"\"},\"colorscale\":[[0.0,\"#0d0887\"],[0.1111111111111111,\"#46039f\"],[0.2222222222222222,\"#7201a8\"],[0.3333333333333333,\"#9c179e\"],[0.4444444444444444,\"#bd3786\"],[0.5555555555555556,\"#d8576b\"],[0.6666666666666666,\"#ed7953\"],[0.7777777777777778,\"#fb9f3a\"],[0.8888888888888888,\"#fdca26\"],[1.0,\"#f0f921\"]],\"type\":\"contour\"}],\"contourcarpet\":[{\"colorbar\":{\"outlinewidth\":0,\"ticks\":\"\"},\"type\":\"contourcarpet\"}],\"heatmap\":[{\"colorbar\":{\"outlinewidth\":0,\"ticks\":\"\"},\"colorscale\":[[0.0,\"#0d0887\"],[0.1111111111111111,\"#46039f\"],[0.2222222222222222,\"#7201a8\"],[0.3333333333333333,\"#9c179e\"],[0.4444444444444444,\"#bd3786\"],[0.5555555555555556,\"#d8576b\"],[0.6666666666666666,\"#ed7953\"],[0.7777777777777778,\"#fb9f3a\"],[0.8888888888888888,\"#fdca26\"],[1.0,\"#f0f921\"]],\"type\":\"heatmap\"}],\"heatmapgl\":[{\"colorbar\":{\"outlinewidth\":0,\"ticks\":\"\"},\"colorscale\":[[0.0,\"#0d0887\"],[0.1111111111111111,\"#46039f\"],[0.2222222222222222,\"#7201a8\"],[0.3333333333333333,\"#9c179e\"],[0.4444444444444444,\"#bd3786\"],[0.5555555555555556,\"#d8576b\"],[0.6666666666666666,\"#ed7953\"],[0.7777777777777778,\"#fb9f3a\"],[0.8888888888888888,\"#fdca26\"],[1.0,\"#f0f921\"]],\"type\":\"heatmapgl\"}],\"histogram\":[{\"marker\":{\"pattern\":{\"fillmode\":\"overlay\",\"size\":10,\"solidity\":0.2}},\"type\":\"histogram\"}],\"histogram2d\":[{\"colorbar\":{\"outlinewidth\":0,\"ticks\":\"\"},\"colorscale\":[[0.0,\"#0d0887\"],[0.1111111111111111,\"#46039f\"],[0.2222222222222222,\"#7201a8\"],[0.3333333333333333,\"#9c179e\"],[0.4444444444444444,\"#bd3786\"],[0.5555555555555556,\"#d8576b\"],[0.6666666666666666,\"#ed7953\"],[0.7777777777777778,\"#fb9f3a\"],[0.8888888888888888,\"#fdca26\"],[1.0,\"#f0f921\"]],\"type\":\"histogram2d\"}],\"histogram2dcontour\":[{\"colorbar\":{\"outlinewidth\":0,\"ticks\":\"\"},\"colorscale\":[[0.0,\"#0d0887\"],[0.1111111111111111,\"#46039f\"],[0.2222222222222222,\"#7201a8\"],[0.3333333333333333,\"#9c179e\"],[0.4444444444444444,\"#bd3786\"],[0.5555555555555556,\"#d8576b\"],[0.6666666666666666,\"#ed7953\"],[0.7777777777777778,\"#fb9f3a\"],[0.8888888888888888,\"#fdca26\"],[1.0,\"#f0f921\"]],\"type\":\"histogram2dcontour\"}],\"mesh3d\":[{\"colorbar\":{\"outlinewidth\":0,\"ticks\":\"\"},\"type\":\"mesh3d\"}],\"parcoords\":[{\"line\":{\"colorbar\":{\"outlinewidth\":0,\"ticks\":\"\"}},\"type\":\"parcoords\"}],\"pie\":[{\"automargin\":true,\"type\":\"pie\"}],\"scatter\":[{\"marker\":{\"colorbar\":{\"outlinewidth\":0,\"ticks\":\"\"}},\"type\":\"scatter\"}],\"scatter3d\":[{\"line\":{\"colorbar\":{\"outlinewidth\":0,\"ticks\":\"\"}},\"marker\":{\"colorbar\":{\"outlinewidth\":0,\"ticks\":\"\"}},\"type\":\"scatter3d\"}],\"scattercarpet\":[{\"marker\":{\"colorbar\":{\"outlinewidth\":0,\"ticks\":\"\"}},\"type\":\"scattercarpet\"}],\"scattergeo\":[{\"marker\":{\"colorbar\":{\"outlinewidth\":0,\"ticks\":\"\"}},\"type\":\"scattergeo\"}],\"scattergl\":[{\"marker\":{\"colorbar\":{\"outlinewidth\":0,\"ticks\":\"\"}},\"type\":\"scattergl\"}],\"scattermapbox\":[{\"marker\":{\"colorbar\":{\"outlinewidth\":0,\"ticks\":\"\"}},\"type\":\"scattermapbox\"}],\"scatterpolar\":[{\"marker\":{\"colorbar\":{\"outlinewidth\":0,\"ticks\":\"\"}},\"type\":\"scatterpolar\"}],\"scatterpolargl\":[{\"marker\":{\"colorbar\":{\"outlinewidth\":0,\"ticks\":\"\"}},\"type\":\"scatterpolargl\"}],\"scatterternary\":[{\"marker\":{\"colorbar\":{\"outlinewidth\":0,\"ticks\":\"\"}},\"type\":\"scatterternary\"}],\"surface\":[{\"colorbar\":{\"outlinewidth\":0,\"ticks\":\"\"},\"colorscale\":[[0.0,\"#0d0887\"],[0.1111111111111111,\"#46039f\"],[0.2222222222222222,\"#7201a8\"],[0.3333333333333333,\"#9c179e\"],[0.4444444444444444,\"#bd3786\"],[0.5555555555555556,\"#d8576b\"],[0.6666666666666666,\"#ed7953\"],[0.7777777777777778,\"#fb9f3a\"],[0.8888888888888888,\"#fdca26\"],[1.0,\"#f0f921\"]],\"type\":\"surface\"}],\"table\":[{\"cells\":{\"fill\":{\"color\":\"#EBF0F8\"},\"line\":{\"color\":\"white\"}},\"header\":{\"fill\":{\"color\":\"#C8D4E3\"},\"line\":{\"color\":\"white\"}},\"type\":\"table\"}]},\"layout\":{\"annotationdefaults\":{\"arrowcolor\":\"#2a3f5f\",\"arrowhead\":0,\"arrowwidth\":1},\"autotypenumbers\":\"strict\",\"coloraxis\":{\"colorbar\":{\"outlinewidth\":0,\"ticks\":\"\"}},\"colorscale\":{\"diverging\":[[0,\"#8e0152\"],[0.1,\"#c51b7d\"],[0.2,\"#de77ae\"],[0.3,\"#f1b6da\"],[0.4,\"#fde0ef\"],[0.5,\"#f7f7f7\"],[0.6,\"#e6f5d0\"],[0.7,\"#b8e186\"],[0.8,\"#7fbc41\"],[0.9,\"#4d9221\"],[1,\"#276419\"]],\"sequential\":[[0.0,\"#0d0887\"],[0.1111111111111111,\"#46039f\"],[0.2222222222222222,\"#7201a8\"],[0.3333333333333333,\"#9c179e\"],[0.4444444444444444,\"#bd3786\"],[0.5555555555555556,\"#d8576b\"],[0.6666666666666666,\"#ed7953\"],[0.7777777777777778,\"#fb9f3a\"],[0.8888888888888888,\"#fdca26\"],[1.0,\"#f0f921\"]],\"sequentialminus\":[[0.0,\"#0d0887\"],[0.1111111111111111,\"#46039f\"],[0.2222222222222222,\"#7201a8\"],[0.3333333333333333,\"#9c179e\"],[0.4444444444444444,\"#bd3786\"],[0.5555555555555556,\"#d8576b\"],[0.6666666666666666,\"#ed7953\"],[0.7777777777777778,\"#fb9f3a\"],[0.8888888888888888,\"#fdca26\"],[1.0,\"#f0f921\"]]},\"colorway\":[\"#636efa\",\"#EF553B\",\"#00cc96\",\"#ab63fa\",\"#FFA15A\",\"#19d3f3\",\"#FF6692\",\"#B6E880\",\"#FF97FF\",\"#FECB52\"],\"font\":{\"color\":\"#2a3f5f\"},\"geo\":{\"bgcolor\":\"white\",\"lakecolor\":\"white\",\"landcolor\":\"#E5ECF6\",\"showlakes\":true,\"showland\":true,\"subunitcolor\":\"white\"},\"hoverlabel\":{\"align\":\"left\"},\"hovermode\":\"closest\",\"mapbox\":{\"style\":\"light\"},\"paper_bgcolor\":\"white\",\"plot_bgcolor\":\"#E5ECF6\",\"polar\":{\"angularaxis\":{\"gridcolor\":\"white\",\"linecolor\":\"white\",\"ticks\":\"\"},\"bgcolor\":\"#E5ECF6\",\"radialaxis\":{\"gridcolor\":\"white\",\"linecolor\":\"white\",\"ticks\":\"\"}},\"scene\":{\"xaxis\":{\"backgroundcolor\":\"#E5ECF6\",\"gridcolor\":\"white\",\"gridwidth\":2,\"linecolor\":\"white\",\"showbackground\":true,\"ticks\":\"\",\"zerolinecolor\":\"white\"},\"yaxis\":{\"backgroundcolor\":\"#E5ECF6\",\"gridcolor\":\"white\",\"gridwidth\":2,\"linecolor\":\"white\",\"showbackground\":true,\"ticks\":\"\",\"zerolinecolor\":\"white\"},\"zaxis\":{\"backgroundcolor\":\"#E5ECF6\",\"gridcolor\":\"white\",\"gridwidth\":2,\"linecolor\":\"white\",\"showbackground\":true,\"ticks\":\"\",\"zerolinecolor\":\"white\"}},\"shapedefaults\":{\"line\":{\"color\":\"#2a3f5f\"}},\"ternary\":{\"aaxis\":{\"gridcolor\":\"white\",\"linecolor\":\"white\",\"ticks\":\"\"},\"baxis\":{\"gridcolor\":\"white\",\"linecolor\":\"white\",\"ticks\":\"\"},\"bgcolor\":\"#E5ECF6\",\"caxis\":{\"gridcolor\":\"white\",\"linecolor\":\"white\",\"ticks\":\"\"}},\"title\":{\"x\":0.05},\"xaxis\":{\"automargin\":true,\"gridcolor\":\"white\",\"linecolor\":\"white\",\"ticks\":\"\",\"title\":{\"standoff\":15},\"zerolinecolor\":\"white\",\"zerolinewidth\":2},\"yaxis\":{\"automargin\":true,\"gridcolor\":\"white\",\"linecolor\":\"white\",\"ticks\":\"\",\"title\":{\"standoff\":15},\"zerolinecolor\":\"white\",\"zerolinewidth\":2}}},\"width\":500},                        {\"responsive\": true}                    ).then(function(){\n",
       "                            \n",
       "var gd = document.getElementById('222038fc-c437-4e94-add2-989122616777');\n",
       "var x = new MutationObserver(function (mutations, observer) {{\n",
       "        var display = window.getComputedStyle(gd).display;\n",
       "        if (!display || display === 'none') {{\n",
       "            console.log([gd, 'removed!']);\n",
       "            Plotly.purge(gd);\n",
       "            observer.disconnect();\n",
       "        }}\n",
       "}});\n",
       "\n",
       "// Listen for the removal of the full notebook cells\n",
       "var notebookContainer = gd.closest('#notebook-container');\n",
       "if (notebookContainer) {{\n",
       "    x.observe(notebookContainer, {childList: true});\n",
       "}}\n",
       "\n",
       "// Listen for the clearing of the current output cell\n",
       "var outputEl = gd.closest('.output');\n",
       "if (outputEl) {{\n",
       "    x.observe(outputEl, {childList: true});\n",
       "}}\n",
       "\n",
       "                        })                };                });            </script>        </div>"
      ]
     },
     "metadata": {},
     "output_type": "display_data"
    }
   ],
   "source": [
    "A = np.array([[4, -1, 6],\n",
    "              [2, 1, 6],\n",
    "              [2, -1, 8]])\n",
    "\n",
    "v1 = np.array([1, 2, 0])\n",
    "v2 = np.array([0, 6, 1])\n",
    "\n",
    "u = -0*v1 - 2*v2\n",
    "print('u:', u)\n",
    "Au = A @ u\n",
    "\n",
    "import plotly.graph_objects as go\n",
    "\n",
    "xx, yy = np.meshgrid(range(-4,5), range(-4,5))\n",
    "normal = np.cross(v1, v2)\n",
    "print('normal vector(generate plane):', normal)\n",
    "zz = -(normal[0] * xx + normal[1]*yy) / normal[2] \n",
    "\n",
    "fig = go.Figure()\n",
    "fig.add_trace(go.Surface(x=xx, y=yy, z=zz, opacity=0.5, showscale=False, name='Autoespaço'))\n",
    "\n",
    "fig.add_trace(go.Scatter3d(x=[0, Au[0]], y=[0, Au[1]], z=[0, Au[2]], \n",
    "                           mode='lines', line=dict(width=4, color='black'), \n",
    "                           name='Au'))\n",
    "\n",
    "fig.add_trace(go.Scatter3d(x=[0, u[0]], y=[0, u[1]], z=[0, u[2]], \n",
    "                           mode='lines', line=dict(width=4, color='green'), \n",
    "                           name='u'))\n",
    "\n",
    "fig.add_trace(go.Scatter3d(x=[0, v1[0]], y=[0, v1[1]], z=[0, v1[2]], \n",
    "                           mode='lines', line=dict(width=4, color='red'), \n",
    "                           name='v1'))\n",
    "\n",
    "fig.add_trace(go.Scatter3d(x=[0, v2[0]], y=[0, v2[1]], z=[0, v2[2]], \n",
    "                           mode='lines', line=dict(width=4, color='blue'), \n",
    "                           name='v2'))\n",
    "\n",
    "fig.update_layout(scene_aspectmode='cube', autosize=False, width=500, height=500, \n",
    "                  margin=dict(l=20, r=20, b=20, t=20, pad=4 ), \n",
    "                  paper_bgcolor=\"LightSteelBlue\")\n",
    "\n",
    "fig.show()"
   ]
  },
  {
   "cell_type": "markdown",
   "metadata": {
    "id": "Heb8NWQ-MllV"
   },
   "source": [
    "####**Exemplo 03**\n",
    "\n",
    "Construa uma transformação linear que mapeia o vetor $\\mathbf{v}=[1,1,1,1,1]\\in\\mathbb{R}^5$ nele mesmo, ou seja, a transformação deve satisfazer $\\mathbf{A}\\mathbf{v}=\\mathbf{v}$."
   ]
  },
  {
   "cell_type": "code",
   "execution_count": 70,
   "metadata": {
    "colab": {
     "base_uri": "https://localhost:8080/"
    },
    "executionInfo": {
     "elapsed": 256,
     "status": "ok",
     "timestamp": 1635337293578,
     "user": {
      "displayName": "Luiz Otávio Toratti",
      "photoUrl": "https://lh3.googleusercontent.com/a-/AOh14GiJ2lu8bHxmHs09q5vtu3fcsIxB6URKBsrhkai9=s64",
      "userId": "09984317548107739267"
     },
     "user_tz": 180
    },
    "id": "HejeQ6-CNd7O",
    "outputId": "c4a7c0f9-f73a-48ab-f085-38238da948fd"
   },
   "outputs": [
    {
     "name": "stdout",
     "output_type": "stream",
     "text": [
      "Construção bem sucedida\n",
      "A matriz de transformação é:\n",
      " [[ -9.23842709  -7.32323255   0.86893428  -1.0535062   17.74623157]\n",
      " [ -8.49558007  -5.66413674   0.64453182  -1.26877835  15.78396334]\n",
      " [-10.08569093  -7.72117599   1.22468262  -0.49734534  18.07952965]\n",
      " [ -8.96624144  -6.66613209   0.83775918  -0.77277741  16.56739176]\n",
      " [ -9.02047349  -6.67659214   0.77921969  -1.1519943   17.06984024]]\n",
      "\n",
      " A imagem de [1,1,1,1,1] é: [1. 1. 1. 1. 1.]\n"
     ]
    }
   ],
   "source": [
    "# O vetor v=[1,1,1,1,1] deve ser um autovetor da transformação \n",
    "# com autovalor associado igual a 1.\n",
    "# Para isso, construimos uma matriz com colunas LI sendo v uma das colunas\n",
    "\n",
    "v = np.array([1,1,1,1,1])\n",
    "\n",
    "# construindo a matriz com colunas LI garantindo v como a primeira coluna\n",
    "S = np.random.randint(0,100,size=(5,5))\n",
    "S[:,0] = v\n",
    "\n",
    "det = np.linalg.det(S)\n",
    "if det == 0:\n",
    "    print('Gerar novos colunas randomicas para S, demos azar')\n",
    "else:\n",
    "    print('Construção bem sucedida')\n",
    "    S_1 = np.linalg.inv(S)\n",
    "    \n",
    "    # Construindo a matriz de autovalores sendo o autovalor 1 na primeira posição\n",
    "    d = np.random.uniform(0,1,5)\n",
    "    d[0] = 1\n",
    "    L = np.diag(d)\n",
    "    \n",
    "    # Constuindo a transformação\n",
    "    A = np.linalg.multi_dot([S,L,S_1])\n",
    "\n",
    "    # Garantindo que v é um autovetor\n",
    "    print('A matriz de transformação é:\\n',A)\n",
    "    print('\\n A imagem de [1,1,1,1,1] é:',np.dot(A,v))"
   ]
  }
 ],
 "metadata": {
  "colab": {
   "authorship_tag": "ABX9TyPvDvQexVHkyxJ+hcqGEopU",
   "name": "Autovalores e Autovetores.ipynb",
   "provenance": []
  },
  "kernelspec": {
   "display_name": "Python 3",
   "language": "python",
   "name": "python3"
  },
  "language_info": {
   "codemirror_mode": {
    "name": "ipython",
    "version": 3
   },
   "file_extension": ".py",
   "mimetype": "text/x-python",
   "name": "python",
   "nbconvert_exporter": "python",
   "pygments_lexer": "ipython3",
   "version": "3.8.10"
  }
 },
 "nbformat": 4,
 "nbformat_minor": 1
}
