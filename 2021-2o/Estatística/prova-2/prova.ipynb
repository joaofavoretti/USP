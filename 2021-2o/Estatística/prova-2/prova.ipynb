{
 "cells": [
  {
   "cell_type": "code",
   "execution_count": 3,
   "metadata": {},
   "outputs": [],
   "source": [
    "import math\n",
    "import numpy as np\n",
    "from scipy import stats"
   ]
  },
  {
   "cell_type": "code",
   "execution_count": 5,
   "metadata": {},
   "outputs": [
    {
     "data": {
      "text/plain": [
       "0.04996979887851561"
      ]
     },
     "execution_count": 5,
     "metadata": {},
     "output_type": "execute_result"
    }
   ],
   "source": [
    "# 1\n",
    "sum([math.comb(10, i) * (0.15) ** i * (0.85) ** (10 - i) for i in range(4, 11)])"
   ]
  },
  {
   "cell_type": "code",
   "execution_count": 12,
   "metadata": {},
   "outputs": [
    {
     "data": {
      "text/plain": [
       "1.6607354685646507"
      ]
     },
     "execution_count": 12,
     "metadata": {},
     "output_type": "execute_result"
    }
   ],
   "source": [
    "# 2.\n",
    "a = [5.99, 5.33, 5.29, 5.49, 5.46, 6.68, 5.53, 5.65, 6.17, 5.36, 5.71, 5.15, 5.6, 5.02]\n",
    "n = len(a)\n",
    "\n",
    "1 / (np.mean(a) - 5)"
   ]
  },
  {
   "cell_type": "code",
   "execution_count": 29,
   "metadata": {},
   "outputs": [
    {
     "data": {
      "text/plain": [
       "1.2060453783110545"
      ]
     },
     "execution_count": 29,
     "metadata": {},
     "output_type": "execute_result"
    }
   ],
   "source": [
    "# 3.\n",
    "math.sqrt(16 / 11)"
   ]
  },
  {
   "cell_type": "code",
   "execution_count": 16,
   "metadata": {},
   "outputs": [
    {
     "name": "stdout",
     "output_type": "stream",
     "text": [
      "-1.6624760021014884\n",
      "0.0964\n"
     ]
    }
   ],
   "source": [
    "# 5.\n",
    "a = [118, 100, 102, 101, 117, 113, 122, 107, 111, 103, 130, 104, 110, 126]\n",
    "\n",
    "b = [128, 113, 114, 115, 129, 103, 123, 109, 107, 121, 124, 108, 122, 125]\n",
    "\n",
    "na = len(a)\n",
    "nb = len(b)\n",
    "ma = np.mean(a)\n",
    "mb = np.mean(b)\n",
    "va = np.var(a)\n",
    "vb = np.var(b)\n",
    "\n",
    "vp = ((na - 1) * va + (nb - 1) * vb) / (na + nb - 2)\n",
    "\n",
    "estat = (ma - mb) / math.sqrt(vp * (1/na + 1/nb))\n",
    "print(estat)\n",
    "\n",
    "print(0.0482 * 2)\n"
   ]
  },
  {
   "cell_type": "code",
   "execution_count": 18,
   "metadata": {},
   "outputs": [
    {
     "data": {
      "text/plain": [
       "0.9666666666666667"
      ]
     },
     "execution_count": 18,
     "metadata": {},
     "output_type": "execute_result"
    }
   ],
   "source": [
    "# 6.\n",
    "\n",
    "# A\n",
    "tot = 1000\n",
    "cur = 900"
   ]
  },
  {
   "cell_type": "code",
   "execution_count": 27,
   "metadata": {},
   "outputs": [
    {
     "name": "stdout",
     "output_type": "stream",
     "text": [
      "0.007997867519620918\n",
      "0.007552516913392441\n",
      "0.013329779199368195\n",
      "\n",
      "0.08813077469793888\n"
     ]
    }
   ],
   "source": [
    "# 7.\n",
    "print(math.sqrt(0.1 * 0.9 / 1407))\n",
    "print(math.sqrt(0.088 * 0.912 / 1407))\n",
    "print(math.sqrt(1 / (4 * 1407)))\n",
    "print()\n",
    "print(124 / 1407)"
   ]
  },
  {
   "cell_type": "code",
   "execution_count": 64,
   "metadata": {},
   "outputs": [
    {
     "name": "stdout",
     "output_type": "stream",
     "text": [
      "100\n",
      "[0, 1, 1, 1, 1, 1, 1, 1, 1, 1, 1, 1, 1, 1, 2, 2, 2, 2, 2, 3, 3, 3, 3, 3, 3, 3, 3, 3, 3, 3, 3, 3, 3, 3, 3, 3, 4, 4, 4, 4, 4, 4, 4, 4, 4, 4, 4, 4, 4, 4, 5, 5, 5, 5, 5, 5, 5, 5, 5, 5, 5, 5, 5, 5, 5, 5, 5, 5, 6, 6, 6, 6, 6, 6, 6, 6, 6, 6, 6, 6, 6, 6, 6, 6, 7, 7, 7, 7, 7, 7, 8, 8, 8, 8, 8, 8, 9, 9, 9, 10]\n",
      "100\n"
     ]
    }
   ],
   "source": [
    "# 8.\n",
    "n_carros = [0, 1, 2, 3, 4, 5, 6, 7, 8, 9, 10]\n",
    "freq = [1, 13, 5, 17, 14, 18, 16, 6, 6, 3, 1]\n",
    "\n",
    "n = sum(freq)\n",
    "\n",
    "print(n)\n",
    "\n",
    "a = []\n",
    "for i in range(11):\n",
    "    for j in range(freq[i]):\n",
    "        a.append(i)\n",
    "\n",
    "print(a)\n",
    "\n",
    "print(len(a))\n",
    "\n",
    "lamb = np.mean(a)"
   ]
  },
  {
   "cell_type": "code",
   "execution_count": 62,
   "metadata": {},
   "outputs": [],
   "source": [
    "def poisson(k):\n",
    "    return (lamb ** k) * math.exp(-lamb) / math.factorial(k)\n"
   ]
  },
  {
   "cell_type": "code",
   "execution_count": 65,
   "metadata": {},
   "outputs": [
    {
     "name": "stdout",
     "output_type": "stream",
     "text": [
      "[1.1914489672789648, 5.278118925045813, 11.691033418976476, 17.26375934868859, 19.11961347867262, 16.939977542103936, 12.507350085253407, 7.915365839667513, 4.383133833715886, 2.157475875929041, 0.955761813036565]\n",
      "[1, 13, 5, 17, 14, 18, 16, 6, 6, 3, 1]\n"
     ]
    },
    {
     "data": {
      "text/plain": [
       "Power_divergenceResult(statistic=18.964813701021118, pvalue=0.04071188449456103)"
      ]
     },
     "execution_count": 65,
     "metadata": {},
     "output_type": "execute_result"
    }
   ],
   "source": [
    "freq_esperada = [poisson(i) * n for i in n_carros]\n",
    "\n",
    "print(freq_esperada)\n",
    "print(freq)\n",
    "\n",
    "stats.chisquare(f_obs=freq, f_exp=freq_esperada)"
   ]
  },
  {
   "cell_type": "code",
   "execution_count": 70,
   "metadata": {},
   "outputs": [
    {
     "data": {
      "text/plain": [
       "(0.11968208331830968, 0.21705261055924133)"
      ]
     },
     "execution_count": 70,
     "metadata": {},
     "output_type": "execute_result"
    }
   ],
   "source": [
    "# 9.\n",
    "n = 392\n",
    "p = 66 / n\n",
    "\n",
    "dp = math.sqrt(p * (1 - p))\n",
    "\n",
    "z = 2.576\n",
    "\n",
    "e = z * dp / math.sqrt(n)\n",
    "\n",
    "(p - e, p + e)"
   ]
  }
 ],
 "metadata": {
  "interpreter": {
   "hash": "916dbcbb3f70747c44a77c7bcd40155683ae19c65e1c03b4aa3499c5328201f1"
  },
  "kernelspec": {
   "display_name": "Python 3.8.10 64-bit",
   "language": "python",
   "name": "python3"
  },
  "language_info": {
   "codemirror_mode": {
    "name": "ipython",
    "version": 3
   },
   "file_extension": ".py",
   "mimetype": "text/x-python",
   "name": "python",
   "nbconvert_exporter": "python",
   "pygments_lexer": "ipython3",
   "version": "3.8.10"
  },
  "orig_nbformat": 4
 },
 "nbformat": 4,
 "nbformat_minor": 2
}
