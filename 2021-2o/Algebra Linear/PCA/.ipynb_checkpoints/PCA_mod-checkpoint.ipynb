{
 "cells": [
  {
   "cell_type": "markdown",
   "metadata": {
    "id": "9kdygJxF-KGC"
   },
   "source": [
    "# <font color='blue'> Análise de Componentes Principais</font>\n",
    "\n",
    "### Material produzido por Luis Gustavo Nonato\n",
    "\n",
    "---\n",
    "ICMC-USP"
   ]
  },
  {
   "cell_type": "markdown",
   "metadata": {
    "id": "VUTnR8cS-KGG"
   },
   "source": [
    "## Conteúdo\n",
    "- Mudança de Base\n",
    "- Conceitos Fundamentais \n",
    "  - Covariância\n",
    "  - Matriz de Covariância\n",
    "- Componentes Principais\n",
    "  - Propriedades\n",
    "- Cálculo das Componentes Principais\n",
    "\n",
    "----\n",
    "\n",
    "Bibliograpia:\n",
    "- [A Tutorial on Principal Components Analysis,  Jonathon Shlens](https://arxiv.org/pdf/1404.1100.pdf)\n",
    "- [Principal Component Analysis,\n",
    "H. Abdi, L.J. Williams](https://wwwpub.utdallas.edu/~herve/abdi-wireCS-PCA2010-inpress.pdf)"
   ]
  },
  {
   "cell_type": "markdown",
   "metadata": {
    "id": "x3HZEhVhftrs"
   },
   "source": [
    "## <font color='blue'> Mudança de base </font>"
   ]
  },
  {
   "cell_type": "markdown",
   "metadata": {
    "id": "8e9knsjZftrs"
   },
   "source": [
    "Suponha $\\mathbf{x}=a_1\\mathbf{v}_1+\\ldots+a_k\\mathbf{v}_k$, onde $V=\\{\\mathbf{v}_1,\\ldots,\\mathbf{v}_k\\}$ é uma base para o espaço $\\mathbb{R}^k$ e $a_1,\\ldots,a_k$ as coordenadas de $\\mathbf{x}$ na base $V$, que denotamos como:\n",
    "\n",
    "$$\n",
    "[\\mathbf{x}]_V=\\begin{bmatrix} a_1 \\\\ \\vdots \\\\ a_k \\end{bmatrix}\n",
    "$$\n",
    "\n",
    "Considere uma outra base $W=\\{\\mathbf{w}_1,\\ldots,\\mathbf{w}_k\\}$ para $\\mathbb{R}^k$ tal que $\\mathbf{x}=c_1\\mathbf{w}_1+\\ldots+c_k\\mathbf{w}_k$, ou seja,\n",
    "\n",
    "$$\n",
    "[\\mathbf{x}]_W=\\begin{bmatrix} c_1 \\\\ \\vdots \\\\ c_k \\end{bmatrix}\n",
    "$$\n",
    "\n",
    "Temos que os vetores $\\mathbf{w}_i$ podem ser escritos na base $V$, ou seja,\n",
    "\n",
    "$$\n",
    "\\mathbf{w}_i = b_{1i}\\mathbf{v}_1+\\cdots+b_{ki}\\mathbf{v}_k\\\\\n",
    "\\Downarrow\\\\\n",
    "\\begin{bmatrix}\n",
    "| & & | \\\\\n",
    "\\mathbf{w}_1 & \\cdots & \\mathbf{w}_k\\\\\n",
    "| & & | \n",
    "\\end{bmatrix}=\n",
    "\\begin{bmatrix}\n",
    "| & & | \\\\\n",
    "\\mathbf{v}_1 & \\cdots & \\mathbf{v}_k\\\\\n",
    "| & & | \n",
    "\\end{bmatrix}\n",
    "\\begin{bmatrix}\n",
    "b_{11} & \\cdots & b_{ik} \\\\\n",
    " & \\vdots & \\\\\n",
    "b_{k1} & \\cdots & b_{kk} \n",
    "\\end{bmatrix}\n",
    "$$\n",
    "\n",
    "Portanto:\n",
    "\n",
    "$$\n",
    "\\mathbf{x} = \n",
    "\\begin{bmatrix}\n",
    "| & & | \\\\\n",
    "\\mathbf{w}_1 & \\cdots & \\mathbf{w}_k\\\\\n",
    "| & & | \n",
    "\\end{bmatrix}\n",
    "[\\mathbf{x}]_W=\n",
    "\\begin{bmatrix}\n",
    "| & & | \\\\\n",
    "\\mathbf{w}_1 & \\cdots & \\mathbf{w}_k\\\\\n",
    "| & & | \n",
    "\\end{bmatrix}\n",
    "\\begin{bmatrix}\n",
    "c_1 \\\\ \\vdots \\\\ c_k\n",
    "\\end{bmatrix}=\n",
    "\\begin{bmatrix}\n",
    "| & & | \\\\\n",
    "\\mathbf{v}_1 & \\cdots & \\mathbf{v}_k\\\\\n",
    "| & & | \n",
    "\\end{bmatrix}\n",
    "\\begin{bmatrix}\n",
    "b_{11} & \\cdots & b_{ik} \\\\\n",
    " & \\vdots & \\\\\n",
    "b_{k1} & \\cdots & b_{kk} \n",
    "\\end{bmatrix}\n",
    "\\begin{bmatrix}\n",
    "c_1 \\\\ \\vdots \\\\ c_k\n",
    "\\end{bmatrix}\n",
    "$$\n",
    "\n",
    "Sabemos que a representação de um vetor em uma dada base é única, logo temos que:\n",
    "\n",
    "$$\n",
    "\\underbrace{\\begin{bmatrix}\n",
    "b_{11} & \\cdots & b_{ik} \\\\\n",
    " & \\vdots & \\\\\n",
    "b_{k1} & \\cdots & b_{kk} \n",
    "\\end{bmatrix}}_{\\mathbf{B}}\n",
    "\\begin{bmatrix}\n",
    "c_1 \\\\ \\vdots \\\\ c_k\n",
    "\\end{bmatrix}=\n",
    "\\begin{bmatrix}\n",
    "a_1 \\\\ \\vdots \\\\ a_k\n",
    "\\end{bmatrix}\n",
    "$$\n",
    "\n",
    "Em outras palavras, \n",
    "\n",
    "$$\n",
    "[\\mathbf{x}]_V = \\mathbf{B}[\\mathbf{x}]_W\n",
    "$$\n",
    "\n",
    "A matriz $\\mathbf{B}$ é chamada de matriz de mudança de base (da  base $W$ para base $V$)."
   ]
  },
  {
   "cell_type": "markdown",
   "metadata": {
    "id": "9hNTu7WWftrs"
   },
   "source": [
    "## <font color='blue'> Conceitos Fundamentais </font>"
   ]
  },
  {
   "cell_type": "markdown",
   "metadata": {
    "id": "vhW3jQ46-KGc"
   },
   "source": [
    "### Covariância\n",
    "Considere duas sequências de valores $\\mathbf{x}=\\{x_1,x_2,\\ldots,x_k\\}$ e $\\mathbf{y}=\\{y_1,y_2,\\ldots,y_k\\}$. \n",
    "\n",
    "A covariância entre $\\mathbf{x}$ e $\\mathbf{y}$ é definida como:\n",
    "$$\n",
    "cov(\\mathbf{x},\\mathbf{y}) = \\frac{1}{n-1}\\sum_i (x_i-\\mu_x)(y_i-\\mu_y)\n",
    "$$\n",
    "onde $\\mu_x=\\frac{1}{n}\\sum_i x_i$ e $\\mu_y=\\frac{1}{n}\\sum_i y_i$ são a média dos valores de $\\mathbf{x}$ e $\\mathbf{y}$, respectivamente.\n",
    "\n",
    "Os valores $cov(\\mathbf{x},\\mathbf{x}) = \\frac{1}{n-1}\\sum_i (x_i-\\mu_x)^2$ é a variância de $\\mathbf{x}$."
   ]
  },
  {
   "cell_type": "code",
   "execution_count": 28,
   "metadata": {
    "colab": {
     "base_uri": "https://localhost:8080/",
     "height": 335
    },
    "executionInfo": {
     "elapsed": 438,
     "status": "ok",
     "timestamp": 1638277904640,
     "user": {
      "displayName": "Luiz Otávio Toratti",
      "photoUrl": "https://lh3.googleusercontent.com/a-/AOh14GiJ2lu8bHxmHs09q5vtu3fcsIxB6URKBsrhkai9=s64",
      "userId": "09984317548107739267"
     },
     "user_tz": 180
    },
    "id": "XhM9Mmro7P-B",
    "outputId": "723208ba-ea99-4324-a494-9b478bbff75b"
   },
   "outputs": [
    {
     "data": {
      "image/png": "[encoded data removed]",
      "text/plain": [
       "<Figure size 864x432 with 2 Axes>"
      ]
     },
     "metadata": {
      "needs_background": "light"
     },
     "output_type": "display_data"
    }
   ],
   "source": [
    "import matplotlib.pyplot as plt\n",
    "import numpy as np\n",
    "\n",
    "n = 100\n",
    "X = np.zeros((2,n))\n",
    "X[0,:] = np.random.uniform(-1, 1, size=(1,n))\n",
    "X[1,:] = 4*X[0,:] + np.random.uniform(-0.15, 0.15, size=(1,n))\n",
    "# y = 4x + ruido\n",
    "\n",
    "plt.rcParams['figure.figsize'] = [12, 6]\n",
    "f, (ax1, ax2)  = plt.subplots(1,2)\n",
    "\n",
    "ax1.set_aspect('equal')\n",
    "ax1.axis('off')\n",
    "ax1.scatter(X[0,:], X[1,:], marker='o', color='red', edgecolor='black', linewidth='1');\n",
    "ax1.plot([0,0], [-5,5], color='black');\n",
    "ax1.plot([-5,5], [0,0], color='black');\n",
    "ax1.plot([0,0], [-4,4], color='blue',linewidth=5);\n",
    "ax1.plot([0,1],[4,4],':k');\n",
    "ax1.plot([0,-1],[-4,-4],':k');\n",
    "ax1.annotate('variancia da coordenada y', xy=(-0.05, 3), xytext=(-6, 3),\n",
    "             arrowprops=dict(facecolor='black', shrink=0.05),\n",
    "             );\n",
    "\n",
    "ax2.set_aspect('equal')\n",
    "ax2.axis('off')\n",
    "ax2.scatter(X[0,:],X[1,:],marker='o',color='red',edgecolor='black', linewidth='1');\n",
    "ax2.plot([0,0],[-5,5],color='black');\n",
    "ax2.plot([-5,5],[0,0],color='black');\n",
    "ax2.plot([-1,1],[0,0],color='blue',linewidth=5);\n",
    "ax2.plot([1,1],[4,0],':k');\n",
    "ax2.plot([-1,-1],[-4,0],':k');\n",
    "ax2.annotate('variancia da coordenada x', xy=(-0.5, 0), xytext=(-6, 2),\n",
    "             arrowprops=dict(facecolor='black', shrink=0.05),\n",
    "             );"
   ]
  },
  {
   "cell_type": "code",
   "execution_count": null,
   "metadata": {
    "colab": {
     "base_uri": "https://localhost:8080/",
     "height": 373
    },
    "executionInfo": {
     "elapsed": 987,
     "status": "ok",
     "timestamp": 1638228482677,
     "user": {
      "displayName": "Luiz Otávio Toratti",
      "photoUrl": "https://lh3.googleusercontent.com/a-/AOh14GiJ2lu8bHxmHs09q5vtu3fcsIxB6URKBsrhkai9=s64",
      "userId": "09984317548107739267"
     },
     "user_tz": 180
    },
    "id": "G1r6w8o-Gxh7",
    "outputId": "bd4472c8-0b84-420a-e7e2-2ca78a84f3e7"
   },
   "outputs": [
    {
     "data": {
      "image/png": "[encoded data removed]",
      "text/plain": [
       "<Figure size 864x432 with 2 Axes>"
      ]
     },
     "metadata": {
      "needs_background": "light"
     },
     "output_type": "display_data"
    }
   ],
   "source": [
    "import matplotlib.pyplot as plt\n",
    "import numpy as np\n",
    "\n",
    "plt.rcParams['figure.figsize'] = [12, 6]\n",
    "f, (ax1, ax2)  = plt.subplots(1,2)\n",
    "\n",
    "n = 100\n",
    "\n",
    "#### figura da esquerda\n",
    "Xc = np.zeros((2,n))\n",
    "Xc[0,:] = np.random.uniform(-1,1,size=(1,n))\n",
    "Xc[1,:] = Xc[0,:]+np.random.uniform(-0.15,0.15,size=(1,n))\n",
    "Xc[0,0] = 0.95\n",
    "Xc[1,0] = 0.8\n",
    "Xc[0,1] = -0.1\n",
    "Xc[1,1] = 0.1\n",
    "\n",
    "ax1.axis('off')\n",
    "ax1.scatter(Xc[0,:],Xc[1,:],marker='o',color='red',edgecolor='black', linewidth='1');\n",
    "ax1.plot([0,0],[-1,1],color='black');\n",
    "ax1.plot([-1,1],[0,0],color='black');\n",
    "ax1.set_title('alta covariancia');\n",
    "ax1.text(Xc[0,0]+0.1, Xc[1,0], r'$(x\\uparrow,y\\uparrow)$');\n",
    "ax1.plot([Xc[0,0],Xc[0,0],0],[0,Xc[1,0],Xc[1,0]],'--k');\n",
    "ax1.text(Xc[0,1]-0.4, Xc[1,1], r'$(x\\downarrow,y\\downarrow)$');\n",
    "ax1.plot([Xc[0,1],Xc[0,1],0],[0,Xc[1,1],Xc[1,1]],'--k');\n",
    "\n",
    "#### figura da direita\n",
    "Xnc = np.zeros((2,n))\n",
    "Xnc[0,:] = np.random.uniform(-1,1,size=(1,n))\n",
    "Xnc[1,:] = np.random.uniform(-1,1,size=(1,n))\n",
    "Xnc[0,0] = 0.95\n",
    "Xnc[1,0] = 0.1\n",
    "\n",
    "ax2.axis('off')\n",
    "ax2.scatter(Xnc[0,:],Xnc[1,:],marker='o',color='red',edgecolor='black', linewidth='1');\n",
    "ax2.plot([0,0],[-1,1],color='black');\n",
    "ax2.plot([-1,1],[0,0],color='black');\n",
    "ax2.set_title('covariancia zero');\n",
    "ax2.text(Xnc[0,0]+0.1, Xnc[1,0], r'$(x\\uparrow,y\\downarrow)$');\n",
    "ax2.plot([Xnc[0,0],Xnc[0,0],0],[0,Xnc[1,0],Xnc[1,0]],'--k');"
   ]
  },
  {
   "cell_type": "markdown",
   "metadata": {
    "id": "ce8No9PBftru"
   },
   "source": [
    "### Matriz de Covariância\n",
    "\n",
    "Considere $\\mathbf{X}=\\{\\mathbf{x}_1,\\ldots,\\mathbf{x}_n\\} $ um conjunto de pontos em  $\\mathbb{R}^d$. \n",
    "\n",
    "Pode-se organizar os pontos como colunas de uma matriz $\\mathbf{X}$ (matriz de dados) com dimensões $d\\times n$:\n",
    "\n",
    "$$\n",
    "   \\mathbf{X}=\n",
    "    \\begin{bmatrix}\n",
    "      |&|&&|\\\\\n",
    "      \\mathbf{x}_1&\\mathbf{x}_2&\\dots&\\mathbf{x}_n\\\\\n",
    "      |&|&&|\n",
    "    \\end{bmatrix}=\n",
    "    \\begin{bmatrix}\n",
    "      x_{11}                & {x_{12}} &\\dots  & x_{1n}\\\\\n",
    "      {x_{21}} & x_{22}               &\\dots  & {x_{2n}}\\\\\n",
    "      \\vdots               &\\vdots               &\\ddots &\\vdots\\\\\n",
    "      x_{d1}                & {x_{d2}}&\\dots  & x_{dn}\n",
    "    \\end{bmatrix}\n",
    "$$\n",
    "\n",
    "Denotando as linhas da matriz $\\mathbf{X}$ por ${x}_{1:},\\ldots,{x}_{d:}$ define-se\n",
    "a matriz de covariância de $\\mathbf{X}$ por:\n",
    "\n",
    "$$\n",
    "cov(\\mathbf{X})=\n",
    "\\begin{bmatrix}\n",
    "      {cov(x_{1:},x_{1:})} & cov(x_{1:},x_{2:})          & \\dots  &cov(x_{1:},x_{d:})\\\\\n",
    "      cov(x_{2:},x_{1:})          & {cov(x_{2:},x_{2:})} & \\dots  &cov(x_{2:},x_{d:})\\\\\n",
    "      \\vdots                      &      \\vdots                 &\\ddots  &\\vdots\\\\\n",
    "      cov(x_{d:},x_{1:})          &cov(x_{d:},x_{2:})           &\\dots   &{cov(x_{d:},x_{d:})}\n",
    "\\end{bmatrix}\n",
    "$$\n",
    "\n",
    "**Importante**: Os elementos na diagonal da matriz correspondem à variância de cada coordenada dos vetores coluna de $\\mathbf{X}$."
   ]
  },
  {
   "cell_type": "markdown",
   "metadata": {
    "id": "_HoZ4TpvQUE1"
   },
   "source": [
    "**Propriedades**:\n",
    "1. Cada entrada da matrix $cov(\\mathbf{X})$ corresponde a covariância entre duas coordenadas dos vetores coluna \n",
    "2. $cov(\\mathbf{X})$ é uma matriz simétrica\n",
    "3. $cov(\\mathbf{X})$ é semi-definida positiva \n",
    "\n",
    "---\n",
    "**Prova da propriedade 3**: $cov(\\mathbf{X})$ é semi definida positiva\n",
    "\n",
    "O segredo da prova é enxergar que:\n",
    "$$\n",
    "cov(\\mathbf{X})=\\frac{1}{n}\\sum_i (\\mathbf{x}_{i}-\\mu)(\\mathbf{x}_{i}-\\mu)^\\top\n",
    "$$\n",
    "onde $\\mu=\\frac{1}{n}\\sum_i \\mathbf{x}_{i}$\n",
    "\n",
    "Assim,\n",
    "$$\n",
    "\\mathbf{u}^\\top cov(\\mathbf{X})\\mathbf{u}\\\\\n",
    "=\\mathbf{u}^\\top\\left( \\frac{1}{n}\\sum_i (\\mathbf{x}_{i}-\\mu)(\\mathbf{x}_{i}-\\mu)^\\top \\right)\\mathbf{u}\\\\\n",
    "=  \\frac{1}{n}\\sum_i \\mathbf{u}^\\top(\\mathbf{x}_{i}-\\mu)(\\mathbf{x}_{i}-\\mu)^\\top \\mathbf{u}\\\\\n",
    "=\\frac{1}{n}\\sum_i \\left((\\mathbf{x}_{i}-\\mu)^\\top \\mathbf{u}\\right)^2\\geq 0\n",
    "$$\n",
    "\n",
    "---"
   ]
  },
  {
   "cell_type": "markdown",
   "metadata": {
    "id": "QXF9HW-HG0Y9"
   },
   "source": [
    "Assumindo que os dados estão centralizados, isto é, $\\mu=0$, a matriz de covariância pode ser calculada como:\n",
    "\n",
    "$$\n",
    "cov(\\mathbf{X})=\\frac{1}{n}\\mathbf{X}\\mathbf{X}^\\top\n",
    "$$"
   ]
  },
  {
   "cell_type": "code",
   "execution_count": 2,
   "metadata": {
    "colab": {
     "base_uri": "https://localhost:8080/"
    },
    "executionInfo": {
     "elapsed": 537,
     "status": "ok",
     "timestamp": 1638272334512,
     "user": {
      "displayName": "Luiz Otávio Toratti",
      "photoUrl": "https://lh3.googleusercontent.com/a-/AOh14GiJ2lu8bHxmHs09q5vtu3fcsIxB6URKBsrhkai9=s64",
      "userId": "09984317548107739267"
     },
     "user_tz": 180
    },
    "id": "A_hptHJUoqjz",
    "outputId": "19bf1f9d-f826-43f0-a56a-9a98c654e037"
   },
   "outputs": [
    {
     "name": "stdout",
     "output_type": "stream",
     "text": [
      "[[1 2]\n",
      " [3 4]]\n",
      "[2. 3.]\n",
      "[1.5 3.5]\n"
     ]
    }
   ],
   "source": [
    "import numpy as np\n",
    "\n",
    "A = np.array([[1,2],\n",
    "              [3,4]])\n",
    "print(A)\n",
    "\n",
    "print(np.mean(A, axis=0))\n",
    "\n",
    "print(np.mean(A, axis=1))"
   ]
  },
  {
   "cell_type": "code",
   "execution_count": null,
   "metadata": {
    "colab": {
     "base_uri": "https://localhost:8080/",
     "height": 391
    },
    "executionInfo": {
     "elapsed": 910,
     "status": "ok",
     "timestamp": 1638229756412,
     "user": {
      "displayName": "Luiz Otávio Toratti",
      "photoUrl": "https://lh3.googleusercontent.com/a-/AOh14GiJ2lu8bHxmHs09q5vtu3fcsIxB6URKBsrhkai9=s64",
      "userId": "09984317548107739267"
     },
     "user_tz": 180
    },
    "id": "nHQyEad6ftrv",
    "outputId": "3fd8cd16-5420-4d48-83c1-95c43621669d"
   },
   "outputs": [
    {
     "data": {
      "text/plain": [
       "<matplotlib.collections.PathCollection at 0x7f09c27b6790>"
      ]
     },
     "execution_count": 39,
     "metadata": {},
     "output_type": "execute_result"
    },
    {
     "data": {
      "image/png": "[encoded data removed]",
      "text/plain": [
       "<Figure size 864x432 with 2 Axes>"
      ]
     },
     "metadata": {
      "needs_background": "light"
     },
     "output_type": "display_data"
    }
   ],
   "source": [
    "#np.set_printoptions(precision=2)\n",
    "X = np.random.uniform(0, 2, size=(10,10))\n",
    "\n",
    "#print(X)\n",
    "#print(np.mean(X,axis=1))\n",
    "\n",
    "Xcentralizado = X - np.mean(X, axis=1).reshape(-1,1)\n",
    "\n",
    "#print(Xcentralizado)\n",
    "#print(np.mean(Xcentralizado,axis=1))\n",
    "\n",
    "fig,(ax1,ax2)=plt.subplots(1,2)\n",
    "ax1.scatter(X[0,:],X[1,:])\n",
    "ax2.scatter(Xcentralizado[0,:],Xcentralizado[1,:])"
   ]
  },
  {
   "cell_type": "markdown",
   "metadata": {
    "id": "t28kzLJZ-KGi"
   },
   "source": [
    "## <font color='blue'>Análise de Componentes Principais (Principal Component Analysis - PCA) </font>\n",
    "\n",
    "A idéia do método de _Análise de Componentes Principais_ é encontrar uma nova base para representar os dados de modo que a covariância entre coordenadas distintas nesta nova base seja zero.\n"
   ]
  },
  {
   "cell_type": "code",
   "execution_count": null,
   "metadata": {
    "colab": {
     "base_uri": "https://localhost:8080/",
     "height": 362
    },
    "executionInfo": {
     "elapsed": 451,
     "status": "ok",
     "timestamp": 1638228532693,
     "user": {
      "displayName": "Luiz Otávio Toratti",
      "photoUrl": "https://lh3.googleusercontent.com/a-/AOh14GiJ2lu8bHxmHs09q5vtu3fcsIxB6URKBsrhkai9=s64",
      "userId": "09984317548107739267"
     },
     "user_tz": 180
    },
    "id": "4D2GkVMdJZf7",
    "outputId": "0f824e67-859d-4163-8d65-82e153b2b216"
   },
   "outputs": [
    {
     "data": {
      "image/png": "[encoded data removed]",
      "text/plain": [
       "<Figure size 864x432 with 2 Axes>"
      ]
     },
     "metadata": {
      "needs_background": "light"
     },
     "output_type": "display_data"
    }
   ],
   "source": [
    "# import matplotlib.pyplot as plt\n",
    "import numpy as np\n",
    "\n",
    "\n",
    "plt.rcParams['figure.figsize'] = [12, 6]\n",
    "f, (ax1, ax2)  = plt.subplots(1,2)\n",
    "\n",
    "n = 100\n",
    "\n",
    "#### figura da esquerda\n",
    "Xc = np.zeros((2,n))\n",
    "Xc[0,:] = np.random.uniform(-1,1,size=(1,n))\n",
    "Xc[1,:] = Xc[0,:]+np.random.uniform(-0.15,0.15,size=(1,n))\n",
    "\n",
    "ax1.axis('off')\n",
    "ax1.scatter(Xc[0,:],Xc[1,:],marker='o',color='red',edgecolor='black', linewidth='1');\n",
    "ax1.plot([0,0],[-1.2,1.2],color='black');\n",
    "ax1.plot([0,0],[-1.0,1.0],color='blue',linewidth=5);\n",
    "ax1.plot([-1.2,1.2],[0,0],color='black');\n",
    "ax1.plot([-1,1],[0,0],color='blue',linewidth=5);\n",
    "\n",
    "#### figura da direita\n",
    "ax2.axis('off')\n",
    "ax2.set_aspect('equal')\n",
    "ax2.set_title('Novo sistema de coordenadas');\n",
    "ax2.scatter(Xc[0,:],Xc[1,:],marker='o',color='red',edgecolor='black', linewidth='1');\n",
    "ax2.plot([-1.2,1.2],[-1.2,1.2],color='black');\n",
    "ax2.plot([-1.0,1.0],[-1.0,1.0],color='blue',linewidth=5);\n",
    "ax2.plot([-0.5,0.5],[0.5,-0.5],color='black');\n",
    "ax2.plot([-0.1,0.1],[0.1,-0.1],color='blue',linewidth=5);"
   ]
  },
  {
   "cell_type": "code",
   "execution_count": null,
   "metadata": {
    "colab": {
     "base_uri": "https://localhost:8080/"
    },
    "executionInfo": {
     "elapsed": 349,
     "status": "ok",
     "timestamp": 1638228537586,
     "user": {
      "displayName": "Luiz Otávio Toratti",
      "photoUrl": "https://lh3.googleusercontent.com/a-/AOh14GiJ2lu8bHxmHs09q5vtu3fcsIxB6URKBsrhkai9=s64",
      "userId": "09984317548107739267"
     },
     "user_tz": 180
    },
    "id": "IDuMFzOzftrw",
    "outputId": "e67e1745-8c3a-40ec-c41c-b97c99659ccb"
   },
   "outputs": [
    {
     "name": "stdout",
     "output_type": "stream",
     "text": [
      "[[30.82 30.55]\n",
      " [30.55 31.04]]\n"
     ]
    }
   ],
   "source": [
    "import numpy as np\n",
    "\n",
    "Xc = np.zeros((2,n))\n",
    "Xc[0,:] = np.random.uniform(-1,1,size=(1,n))\n",
    "Xc[1,:] = Xc[0,:] + np.random.uniform(-0.15,0.15,size=(1,n))\n",
    "\n",
    "X=np.dot(Xc, Xc.T)\n",
    "print(X)"
   ]
  },
  {
   "cell_type": "markdown",
   "metadata": {
    "id": "i05Xq6k9-KGk"
   },
   "source": [
    "Em termos matemáticos, buscamos uma matriz de mudança de base $\\mathbf{P}$ tal que\n",
    "\n",
    "$$\n",
    "\\mathbf{Y}=\\mathbf{P}\\mathbf{X} \\Longrightarrow \\mathbf{Y}\\mathbf{Y}^\\top = \\mathbf{D}\n",
    "$$\n",
    "\n",
    "onde $\\mathbf{D}$ é uma matriz diagonal onde os elementos da diagonal correspondem às variâncias das coordenadas.\n",
    "\n",
    "Uma vez que $\\mathbf{P}$ tenha sido calculada as coordenadas dos pontos na nova base serão \"descorrelacionadas\".\n",
    "\n",
    "- algumas das coordenadas terão variância próximo de zero (coordenadas relacionada com ruído nos dados)\n",
    "- a dimensão dos dados poderá ser reduzida sem grandes perdas de informação"
   ]
  },
  {
   "cell_type": "markdown",
   "metadata": {
    "id": "D1qAHz12-KGl"
   },
   "source": [
    "**Calculando a mudança de base**\n",
    "\n",
    "$$\n",
    "\\mathbf{Y}=\\mathbf{P}\\mathbf{X} \n",
    "$$\n",
    "\n",
    "$$\n",
    "\\mathbf{Y}\\mathbf{Y}^\\top=(\\mathbf{PX})(\\mathbf{PX})^\\top=\\mathbf{P}\\mathbf{X}\\mathbf{X}^\\top\\mathbf{P}^\\top\n",
    "$$\n",
    "\n",
    "---\n",
    "**Teorema Espectral:** (relembrando)\n",
    "\n",
    "Se $\\mathbf{A}$ é uma matriz simétrica, então:\n",
    "$$\n",
    "\\mathbf{A}=\\mathbf{UDU}^\\top \\rightarrow \\mathbf{U}^\\top\\mathbf{AU}=\\mathbf{D}\n",
    "$$\n",
    "onde $\\mathbf{U}$ é matriz ortogonal contendo os autovetores de $\\mathbf{A}$ e $\\mathbf{D}$ é matriz diagonal contendo os autovalores reais de $\\mathbf{A}$</font>\n",
    "\n",
    "---\n",
    "\n",
    "$\\mathbf{XX}^\\top$ é uma matriz simétrica semi-definida positiva. Logo, os autovalores $\\lambda _i$ são reais e não negativos. Armazenando os autovetores de $\\mathbf{XX}^\\top$ em uma matriz  $\\mathbf{U}$ e fazendo:\n",
    "\n",
    "$$\\mathbf{P}=\\mathbf{U}^\\top$$\n",
    "\n",
    "$$\\mathbf{YY}^\\top=\\mathbf{U}^\\top\\mathbf{X}\\mathbf{X}^\\top\\mathbf{U} = \\mathbf{D}$$\n",
    "\n",
    "$$\n",
    "\\mathbf{D}=\n",
    "\\begin{bmatrix}\n",
    "cov(y_{1:},y_{1:}) & 0 & \\ldots & 0 \\\\\n",
    "0 & cov(y_{2:},y_{2:}) & \\ldots & 0 \\\\\n",
    "  &            & \\vdots & \\\\\n",
    "0 & 0 & \\ldots & cov(y_{d:},y_{d:}) \\\\\n",
    "\\end{bmatrix}\n",
    "$$\n",
    "\n",
    "**Importante**: $cov(y_{i:},y_{i:}) = \\lambda_i$, ou seja, os **autovalores** de $\\mathbf{XX}^\\top$ **correspondem às variâncias** das coordenadas na nova base. Os **autovetores** de $\\mathbf{XX}^\\top$ são os elementos da **nova base**, sendo que coordenadas distintas dos dados nesta nova base são \"descorrelacionadas\"."
   ]
  },
  {
   "cell_type": "code",
   "execution_count": null,
   "metadata": {
    "colab": {
     "base_uri": "https://localhost:8080/",
     "height": 335
    },
    "executionInfo": {
     "elapsed": 387,
     "status": "ok",
     "timestamp": 1638228545365,
     "user": {
      "displayName": "Luiz Otávio Toratti",
      "photoUrl": "https://lh3.googleusercontent.com/a-/AOh14GiJ2lu8bHxmHs09q5vtu3fcsIxB6URKBsrhkai9=s64",
      "userId": "09984317548107739267"
     },
     "user_tz": 180
    },
    "id": "I1Rrski92b2c",
    "outputId": "539a41cd-c93f-4e4e-cc56-faa03bef420c"
   },
   "outputs": [
    {
     "data": {
      "image/png": "[encoded data removed]",
      "text/plain": [
       "<Figure size 864x432 with 2 Axes>"
      ]
     },
     "metadata": {
      "needs_background": "light"
     },
     "output_type": "display_data"
    }
   ],
   "source": [
    "import matplotlib.pyplot as plt\n",
    "import numpy as np\n",
    "\n",
    "\n",
    "plt.rcParams['figure.figsize'] = [12, 6]\n",
    "f, (ax1, ax2)  = plt.subplots(1,2)\n",
    "\n",
    "n = 100\n",
    "\n",
    "#### figura da esquerda\n",
    "Xc = np.zeros((2,n))\n",
    "Xc[0,:] = np.random.uniform(-1,1,size=(1,n))\n",
    "Xc[1,:] = Xc[0,:]+np.random.uniform(-0.2,0.2,size=(1,n))\n",
    "\n",
    "#### figura da direita\n",
    "ax1.axis('off')\n",
    "ax1.set_aspect('equal')\n",
    "ax1.scatter(Xc[0,:],Xc[1,:],marker='o',color='red',edgecolor='black', linewidth='1');\n",
    "ax1.plot([-1.3,1.3],[-1.3,1.3],color='black');\n",
    "ax1.plot([-0.65,0.65],[0.65,-0.65],color='black');\n",
    "ax1.plot([-1,1],[-1,1],color='blue',linewidth=5);\n",
    "ax1.annotate(r'$cov(y_1,y_1)=\\lambda_1$', xy=(0.2, 0.2), xytext=(0.4, -0.1),\n",
    "              arrowprops=dict(facecolor='black', shrink=0.00,width=1),\n",
    "              );\n",
    "\n",
    "#### figura da direita\n",
    "ax2.axis('off')\n",
    "ax2.set_aspect('equal')\n",
    "ax2.scatter(Xc[0,:],Xc[1,:],marker='o',color='red',edgecolor='black', linewidth='1');\n",
    "ax2.plot([-1.3,1.3],[-1.3,1.3],color='black');\n",
    "ax2.plot([-0.65,0.65],[0.65,-0.65],color='black');\n",
    "ax2.plot([-0.17,0.17],[0.17,-0.17],color='blue',linewidth=5);\n",
    "ax2.annotate(r'$cov(y_2,y_2)=\\lambda_2$', xy=(0.15, -0.15), xytext=(0.5, 0),\n",
    "             arrowprops=dict(facecolor='black', shrink=0.05, width=1),\n",
    "             );"
   ]
  },
  {
   "cell_type": "markdown",
   "metadata": {
    "id": "i8VoyOOH7n8X"
   },
   "source": [
    "As coordenas dos pontos no novo sistema de coordenadas são dados por:\n",
    "$$\n",
    "\\mathbf{y_i}=\\mathbf{U}^\\top\\mathbf{x_i}\n",
    "$$\n",
    "\n",
    "Assumindo que os autovalores estão ordenados $\\lambda_1\\geq\\cdots\\geq\\lambda_d$, o _Quociente de Rayleigh_ garante que:\n",
    "\n",
    "$$\n",
    "\\mathbf{u}_1^\\top\\mathbf{XX}^\\top\\mathbf{u}_1=\\lambda_1 \\rightarrow \\mathbf{u}_1 \\mbox{ (direção de maior variância)}\\\\\n",
    "\\mathbf{u}_d^\\top\\mathbf{XX}^\\top\\mathbf{u}_d=\\lambda_d \\rightarrow \\mathbf{u}_d \\mbox{ (direção de menor variância)}\n",
    "$$"
   ]
  },
  {
   "cell_type": "markdown",
   "metadata": {
    "id": "wzN6-l2uftrw"
   },
   "source": [
    "Uma informação muito útil é calcular a porcentagem da informação que pode ser explicada por cada direção (razão de variância explicada). Tal porcentagem é dada por:\n",
    "\n",
    "$$\n",
    "\\tilde{\\lambda}_i = \\frac{\\lambda_i}{\\sum_j \\lambda_j}\n",
    "$$"
   ]
  },
  {
   "cell_type": "markdown",
   "metadata": {
    "id": "h-5Wpq4_-xg7"
   },
   "source": [
    "Em muitos casos, pode-se desprezar as direções (coordenadas) de menor variância, uma vez que estas tipicamente correspondem a ruído nos dados\n",
    "\n",
    "$$\n",
    "\\hat{\\mathbf{Y}}=\n",
    "\\begin{bmatrix}\n",
    "y_{11} & y_{21} & \\cdots & y_{n1} \\\\\n",
    "       &        & \\vdots & \\\\\n",
    "y_{1k} & y_{2k} & \\cdots & y_{nk} \\\\\n",
    "0 & 0 & \\cdots & 0 \\\\\n",
    "       &        & \\vdots & \\\\\n",
    "0 & 0 & \\cdots & 0 \\\\\n",
    "\\end{bmatrix}\n",
    "$$\n",
    "\n",
    "pode-se reconstuir os dados \"sem ruído\" na base original fazendo:\n",
    "\n",
    "$$\n",
    "\\hat{\\mathbf{X}}=\\mathbf{U}\\hat{\\mathbf{Y}}\n",
    "$$\n",
    "\n",
    "Consideranto apenas as $k$ primeiras coordenadas de cada ponto, temos uma representação dos dados em um espaço com $k<n$ dimensões. Ou seja, PCA pode ser utilizado como um método de **redução de dimensionalidade**. "
   ]
  },
  {
   "cell_type": "markdown",
   "metadata": {
    "id": "Y5Lkr0CA-KGo"
   },
   "source": [
    "______\n",
    "\n",
    "# <font color=blue>Calculando PCA </font>"
   ]
  },
  {
   "cell_type": "markdown",
   "metadata": {
    "id": "yYVnnbKxftrx"
   },
   "source": [
    "### Exemplo simples\n",
    "\n",
    "Considere os dados gerados de forma a garantir uma \"correlação\" entre as coordenadas."
   ]
  },
  {
   "cell_type": "code",
   "execution_count": 3,
   "metadata": {
    "executionInfo": {
     "elapsed": 1222,
     "status": "ok",
     "timestamp": 1638274632697,
     "user": {
      "displayName": "Luiz Otávio Toratti",
      "photoUrl": "https://lh3.googleusercontent.com/a-/AOh14GiJ2lu8bHxmHs09q5vtu3fcsIxB6URKBsrhkai9=s64",
      "userId": "09984317548107739267"
     },
     "user_tz": 180
    },
    "id": "QpwwwvaQftrx"
   },
   "outputs": [],
   "source": [
    "import numpy as np\n",
    "import matplotlib.pyplot as plt\n",
    "import pandas as pd\n",
    "from sklearn.decomposition import PCA"
   ]
  },
  {
   "cell_type": "code",
   "execution_count": null,
   "metadata": {
    "id": "GrB4H2ojftrx"
   },
   "outputs": [],
   "source": [
    "n = 200\n",
    "X = np.random.uniform(-1, 1,size=(2,n))  # os dados já estão centralizados\n",
    "X[1,:] = X[0,:] + np.random.uniform(-0.3,0.3,n)\n",
    "\n",
    "# Matriz de covariancia\n",
    "XXt = np.dot(X, X.T)\n",
    "C = (1/(n-1)) * XXt\n",
    "\n",
    "# linalg.eigh quando sabemos que a matriz C é simetrica.\n",
    "V, PC = np.linalg.eigh(C)\n",
    "\n",
    "# o método eigh retorna os autovalores (e autovetores correspondentes) em ordem crescente\n",
    "# portanto vamos inverter a ordem dos vetores\n",
    "V = np.flip(V)\n",
    "PC = np.flip(PC, axis=1)"
   ]
  },
  {
   "cell_type": "code",
   "execution_count": null,
   "metadata": {
    "colab": {
     "base_uri": "https://localhost:8080/",
     "height": 462
    },
    "executionInfo": {
     "elapsed": 461,
     "status": "ok",
     "timestamp": 1638228557478,
     "user": {
      "displayName": "Luiz Otávio Toratti",
      "photoUrl": "https://lh3.googleusercontent.com/a-/AOh14GiJ2lu8bHxmHs09q5vtu3fcsIxB6URKBsrhkai9=s64",
      "userId": "09984317548107739267"
     },
     "user_tz": 180
    },
    "id": "SmFB_4m6ftrx",
    "outputId": "b33cff89-1154-48fd-d52f-6dc2f67f9aa0"
   },
   "outputs": [
    {
     "name": "stdout",
     "output_type": "stream",
     "text": [
      "[0.98 0.02]\n"
     ]
    },
    {
     "data": {
      "text/plain": [
       "[<matplotlib.lines.Line2D at 0x7f09cdd80510>]"
      ]
     },
     "execution_count": 9,
     "metadata": {},
     "output_type": "execute_result"
    },
    {
     "data": {
      "image/png": "[encoded data removed]",
      "text/plain": [
       "<Figure size 504x504 with 1 Axes>"
      ]
     },
     "metadata": {
      "needs_background": "light"
     },
     "output_type": "display_data"
    }
   ],
   "source": [
    "fig, ax = plt.subplots(1, 1, figsize=(7,7))\n",
    "# gerando eixos de R^2\n",
    "ax.plot([-1,1], [0,0], color='k')\n",
    "ax.plot([0,0], [-1,1], color='k')\n",
    "ax.set_aspect('equal')\n",
    "\n",
    "# plotando os pontos\n",
    "ax.scatter(X[0,:], X[1,:], marker='o', color='red', edgecolor='black', linewidth='1')\n",
    "\n",
    "# plotando as direções principais\n",
    "ax.plot([-1.5 * PC[0,0], 1.5 * PC[0,0]], [-1.5 * PC[1,0], 1.5 * PC[1,0]], \n",
    "        color = 'blue', linewidth=3)\n",
    "ax.plot([-1 * PC[0,1], 1 * PC[0,1]], [-1 * PC[1,1], 1 * PC[1,1]], \n",
    "        color = 'blue', linewidth=3)\n",
    "\n",
    "# Variancia explicada\n",
    "V_ratio = V / np.sum(V)\n",
    "print(V_ratio)\n",
    "\n",
    "ax.plot([-V_ratio[0] * PC[0,0], V_ratio[0] * PC[0,0]], \n",
    "        [-V_ratio[0] * PC[1,0], V_ratio[0] * PC[1,0]], \n",
    "        color = 'cyan', linewidth=7)\n",
    "\n",
    "ax.plot([-V_ratio[1] * PC[0,1], V_ratio[1] * PC[0,1]], \n",
    "        [-V_ratio[1] * PC[1,1], V_ratio[1] * PC[1,1]], \n",
    "        color = 'cyan', linewidth=7)"
   ]
  },
  {
   "cell_type": "markdown",
   "metadata": {
    "id": "1QPMMdviftrx"
   },
   "source": [
    "Podemos encontrar as coordenadas dos pontos no novo sistema de coordenadas fazendo $Y=U^\\top X$"
   ]
  },
  {
   "cell_type": "code",
   "execution_count": null,
   "metadata": {
    "colab": {
     "base_uri": "https://localhost:8080/"
    },
    "executionInfo": {
     "elapsed": 320,
     "status": "ok",
     "timestamp": 1638228561861,
     "user": {
      "displayName": "Luiz Otávio Toratti",
      "photoUrl": "https://lh3.googleusercontent.com/a-/AOh14GiJ2lu8bHxmHs09q5vtu3fcsIxB6URKBsrhkai9=s64",
      "userId": "09984317548107739267"
     },
     "user_tz": 180
    },
    "id": "UDw_Fc70ftrx",
    "outputId": "3a49b2f9-631f-4ba9-8d92-479a7815ec2b"
   },
   "outputs": [
    {
     "name": "stdout",
     "output_type": "stream",
     "text": [
      "[[ 0.93 -1.46  0.58  0.23  1.15  0.79 -0.11 -1.17  1.45 -0.67]\n",
      " [ 0.14 -0.05 -0.14 -0.19  0.12 -0.15  0.14  0.21  0.15  0.04]]\n"
     ]
    }
   ],
   "source": [
    "Y = np.dot(PC.T, X)\n",
    "# Y = PC.T @ X\n",
    "\n",
    "np.set_printoptions(precision=2)\n",
    "print(Y[:,:10])"
   ]
  },
  {
   "cell_type": "code",
   "execution_count": null,
   "metadata": {
    "colab": {
     "base_uri": "https://localhost:8080/",
     "height": 377
    },
    "executionInfo": {
     "elapsed": 451,
     "status": "ok",
     "timestamp": 1638228565852,
     "user": {
      "displayName": "Luiz Otávio Toratti",
      "photoUrl": "https://lh3.googleusercontent.com/a-/AOh14GiJ2lu8bHxmHs09q5vtu3fcsIxB6URKBsrhkai9=s64",
      "userId": "09984317548107739267"
     },
     "user_tz": 180
    },
    "id": "1THUWYoSftry",
    "outputId": "7fb265dd-c8d6-4965-fe5d-5df8a02cd31a"
   },
   "outputs": [
    {
     "data": {
      "image/png": "[encoded data removed]",
      "text/plain": [
       "<Figure size 648x504 with 1 Axes>"
      ]
     },
     "metadata": {
      "needs_background": "light"
     },
     "output_type": "display_data"
    }
   ],
   "source": [
    "# plotanto os pontos no novo sistema de coordenadas\n",
    "\n",
    "fig, ax = plt.subplots(1, 1, figsize=(9,7))\n",
    "# gerando eixos de R^2\n",
    "ax.plot([-1,1], [0,0], color='k')\n",
    "ax.plot([0,0], [-1,1], color='k')\n",
    "ax.set_aspect('equal')\n",
    "\n",
    "# plotando os pontos\n",
    "ax.scatter(Y[0,:], Y[1,:], marker='o', color='red', edgecolor='black', linewidth='1');"
   ]
  },
  {
   "cell_type": "markdown",
   "metadata": {
    "id": "rCtPRyfbftry"
   },
   "source": [
    "Podemos remover o ruído dos dados e reconstruí-lo no espaço original fazendo $U\\hat{Y}=\\hat{X}$"
   ]
  },
  {
   "cell_type": "code",
   "execution_count": null,
   "metadata": {
    "colab": {
     "base_uri": "https://localhost:8080/",
     "height": 391
    },
    "executionInfo": {
     "elapsed": 379,
     "status": "ok",
     "timestamp": 1638228569927,
     "user": {
      "displayName": "Luiz Otávio Toratti",
      "photoUrl": "https://lh3.googleusercontent.com/a-/AOh14GiJ2lu8bHxmHs09q5vtu3fcsIxB6URKBsrhkai9=s64",
      "userId": "09984317548107739267"
     },
     "user_tz": 180
    },
    "id": "psKXzPq1ftry",
    "outputId": "8d6dbe4e-2205-4fd8-eea3-7ddb3aac249e"
   },
   "outputs": [
    {
     "data": {
      "text/plain": [
       "<matplotlib.collections.PathCollection at 0x7f09cdfc58d0>"
      ]
     },
     "execution_count": 12,
     "metadata": {},
     "output_type": "execute_result"
    },
    {
     "data": {
      "image/png": "[encoded data removed]",
      "text/plain": [
       "<Figure size 864x432 with 1 Axes>"
      ]
     },
     "metadata": {
      "needs_background": "light"
     },
     "output_type": "display_data"
    }
   ],
   "source": [
    "# Gerando Y_hat zerando a segunda coordenada associada à direção de menor variância.\n",
    "Yh = Y.copy()\n",
    "Yh[1,:] = 0\n",
    "\n",
    "Xh = np.dot(PC, Yh)\n",
    "# Xh = PC @ Yh\n",
    "\n",
    "fig, ax = plt.subplots(1,1)\n",
    "# gerando eixos de R^2\n",
    "ax.plot([-1,1], [0,0], color='k')\n",
    "ax.plot([0,0], [-1,1], color='k')\n",
    "ax.set_aspect('equal')\n",
    "\n",
    "# plotando os pontos\n",
    "ax.scatter(Xh[0,:], Xh[1,:], marker='o', color='red', edgecolor='black', linewidth='1')"
   ]
  },
  {
   "cell_type": "markdown",
   "metadata": {
    "id": "_uyu5vWaftry"
   },
   "source": [
    "### Exemplo com dados reais"
   ]
  },
  {
   "cell_type": "code",
   "execution_count": 29,
   "metadata": {
    "colab": {
     "base_uri": "https://localhost:8080/"
    },
    "executionInfo": {
     "elapsed": 1126,
     "status": "ok",
     "timestamp": 1638281879679,
     "user": {
      "displayName": "Luiz Otávio Toratti",
      "photoUrl": "https://lh3.googleusercontent.com/a-/AOh14GiJ2lu8bHxmHs09q5vtu3fcsIxB6URKBsrhkai9=s64",
      "userId": "09984317548107739267"
     },
     "user_tz": 180
    },
    "id": "xUMI42Mv-KGw",
    "outputId": "07a3590b-bc81-45e2-93c9-971294490385",
    "scrolled": true
   },
   "outputs": [
    {
     "name": "stdout",
     "output_type": "stream",
     "text": [
      "(6238, 618)\n"
     ]
    }
   ],
   "source": [
    "# reading data_frame\n",
    "df = pd.read_csv('isolet1234.csv')\n",
    "print(df.shape)"
   ]
  },
  {
   "cell_type": "code",
   "execution_count": 30,
   "metadata": {
    "colab": {
     "base_uri": "https://localhost:8080/",
     "height": 255
    },
    "executionInfo": {
     "elapsed": 11,
     "status": "ok",
     "timestamp": 1638281881843,
     "user": {
      "displayName": "Luiz Otávio Toratti",
      "photoUrl": "https://lh3.googleusercontent.com/a-/AOh14GiJ2lu8bHxmHs09q5vtu3fcsIxB6URKBsrhkai9=s64",
      "userId": "09984317548107739267"
     },
     "user_tz": 180
    },
    "id": "7qCv64Sm-KG3",
    "outputId": "a981a381-e410-4ccf-99f3-24eaca21cc4e"
   },
   "outputs": [
    {
     "data": {
      "text/html": [
       "<div>\n",
       "<style scoped>\n",
       "    .dataframe tbody tr th:only-of-type {\n",
       "        vertical-align: middle;\n",
       "    }\n",
       "\n",
       "    .dataframe tbody tr th {\n",
       "        vertical-align: top;\n",
       "    }\n",
       "\n",
       "    .dataframe thead th {\n",
       "        text-align: right;\n",
       "    }\n",
       "</style>\n",
       "<table border=\"1\" class=\"dataframe\">\n",
       "  <thead>\n",
       "    <tr style=\"text-align: right;\">\n",
       "      <th></th>\n",
       "      <th>c0</th>\n",
       "      <th>c1</th>\n",
       "      <th>c2</th>\n",
       "      <th>c3</th>\n",
       "      <th>c4</th>\n",
       "      <th>c5</th>\n",
       "      <th>c6</th>\n",
       "      <th>c7</th>\n",
       "      <th>c8</th>\n",
       "      <th>c9</th>\n",
       "      <th>c10</th>\n",
       "      <th>c11</th>\n",
       "      <th>c12</th>\n",
       "      <th>c13</th>\n",
       "      <th>c14</th>\n",
       "      <th>c15</th>\n",
       "      <th>c16</th>\n",
       "      <th>c17</th>\n",
       "      <th>c18</th>\n",
       "      <th>c19</th>\n",
       "      <th>c20</th>\n",
       "      <th>c21</th>\n",
       "      <th>c22</th>\n",
       "      <th>c23</th>\n",
       "      <th>c24</th>\n",
       "      <th>c25</th>\n",
       "      <th>c26</th>\n",
       "      <th>c27</th>\n",
       "      <th>c28</th>\n",
       "      <th>c29</th>\n",
       "      <th>c30</th>\n",
       "      <th>c31</th>\n",
       "      <th>c32</th>\n",
       "      <th>c33</th>\n",
       "      <th>c34</th>\n",
       "      <th>c35</th>\n",
       "      <th>c36</th>\n",
       "      <th>c37</th>\n",
       "      <th>c38</th>\n",
       "      <th>c39</th>\n",
       "      <th>...</th>\n",
       "      <th>c578</th>\n",
       "      <th>c579</th>\n",
       "      <th>c580</th>\n",
       "      <th>c581</th>\n",
       "      <th>c582</th>\n",
       "      <th>c583</th>\n",
       "      <th>c584</th>\n",
       "      <th>c585</th>\n",
       "      <th>c586</th>\n",
       "      <th>c587</th>\n",
       "      <th>c588</th>\n",
       "      <th>c589</th>\n",
       "      <th>c590</th>\n",
       "      <th>c591</th>\n",
       "      <th>c592</th>\n",
       "      <th>c593</th>\n",
       "      <th>c594</th>\n",
       "      <th>c595</th>\n",
       "      <th>c596</th>\n",
       "      <th>c597</th>\n",
       "      <th>c598</th>\n",
       "      <th>c599</th>\n",
       "      <th>c600</th>\n",
       "      <th>c601</th>\n",
       "      <th>c602</th>\n",
       "      <th>c603</th>\n",
       "      <th>c604</th>\n",
       "      <th>c605</th>\n",
       "      <th>c606</th>\n",
       "      <th>c607</th>\n",
       "      <th>c608</th>\n",
       "      <th>c609</th>\n",
       "      <th>c610</th>\n",
       "      <th>c611</th>\n",
       "      <th>c612</th>\n",
       "      <th>c613</th>\n",
       "      <th>c614</th>\n",
       "      <th>c615</th>\n",
       "      <th>c616</th>\n",
       "      <th>c617</th>\n",
       "    </tr>\n",
       "  </thead>\n",
       "  <tbody>\n",
       "    <tr>\n",
       "      <th>0</th>\n",
       "      <td>-0.4394</td>\n",
       "      <td>-0.0930</td>\n",
       "      <td>0.1718</td>\n",
       "      <td>0.4620</td>\n",
       "      <td>0.6226</td>\n",
       "      <td>0.4704</td>\n",
       "      <td>0.3578</td>\n",
       "      <td>0.0478</td>\n",
       "      <td>-0.1184</td>\n",
       "      <td>-0.2310</td>\n",
       "      <td>-0.2958</td>\n",
       "      <td>-0.2704</td>\n",
       "      <td>-0.2620</td>\n",
       "      <td>-0.2170</td>\n",
       "      <td>-0.0874</td>\n",
       "      <td>-0.0564</td>\n",
       "      <td>0.0254</td>\n",
       "      <td>0.0958</td>\n",
       "      <td>0.4226</td>\n",
       "      <td>0.6648</td>\n",
       "      <td>0.9184</td>\n",
       "      <td>0.9718</td>\n",
       "      <td>0.9324</td>\n",
       "      <td>0.7070</td>\n",
       "      <td>0.6986</td>\n",
       "      <td>0.7550</td>\n",
       "      <td>0.8816</td>\n",
       "      <td>1.0000</td>\n",
       "      <td>0.9380</td>\n",
       "      <td>0.8450</td>\n",
       "      <td>0.7268</td>\n",
       "      <td>0.5578</td>\n",
       "      <td>-0.4330</td>\n",
       "      <td>-0.1982</td>\n",
       "      <td>0.1270</td>\n",
       "      <td>0.3666</td>\n",
       "      <td>0.4496</td>\n",
       "      <td>0.4258</td>\n",
       "      <td>0.2646</td>\n",
       "      <td>-0.0368</td>\n",
       "      <td>...</td>\n",
       "      <td>1.0</td>\n",
       "      <td>-1.0</td>\n",
       "      <td>-1.0</td>\n",
       "      <td>-1.0</td>\n",
       "      <td>-1.0</td>\n",
       "      <td>0.1334</td>\n",
       "      <td>-1.0</td>\n",
       "      <td>-0.0770</td>\n",
       "      <td>0.0512</td>\n",
       "      <td>0.2564</td>\n",
       "      <td>0.5642</td>\n",
       "      <td>0.4872</td>\n",
       "      <td>0.0770</td>\n",
       "      <td>0.4358</td>\n",
       "      <td>0.7436</td>\n",
       "      <td>0.5128</td>\n",
       "      <td>0.6666</td>\n",
       "      <td>0.6410</td>\n",
       "      <td>0.6154</td>\n",
       "      <td>1.0000</td>\n",
       "      <td>0.8206</td>\n",
       "      <td>0.6410</td>\n",
       "      <td>0.3590</td>\n",
       "      <td>0.6924</td>\n",
       "      <td>0.4358</td>\n",
       "      <td>0.1538</td>\n",
       "      <td>0.4616</td>\n",
       "      <td>0.6154</td>\n",
       "      <td>0.3334</td>\n",
       "      <td>0.3334</td>\n",
       "      <td>0.4102</td>\n",
       "      <td>0.2052</td>\n",
       "      <td>0.3846</td>\n",
       "      <td>0.3590</td>\n",
       "      <td>0.5898</td>\n",
       "      <td>0.3334</td>\n",
       "      <td>0.6410</td>\n",
       "      <td>0.5898</td>\n",
       "      <td>-0.4872</td>\n",
       "      <td>1.0</td>\n",
       "    </tr>\n",
       "    <tr>\n",
       "      <th>1</th>\n",
       "      <td>-0.4348</td>\n",
       "      <td>-0.1198</td>\n",
       "      <td>0.2474</td>\n",
       "      <td>0.4036</td>\n",
       "      <td>0.5026</td>\n",
       "      <td>0.6328</td>\n",
       "      <td>0.4948</td>\n",
       "      <td>0.0338</td>\n",
       "      <td>-0.0520</td>\n",
       "      <td>-0.1302</td>\n",
       "      <td>-0.0964</td>\n",
       "      <td>-0.2084</td>\n",
       "      <td>-0.0494</td>\n",
       "      <td>-0.0494</td>\n",
       "      <td>-0.2942</td>\n",
       "      <td>0.0704</td>\n",
       "      <td>0.0546</td>\n",
       "      <td>0.1302</td>\n",
       "      <td>0.5652</td>\n",
       "      <td>0.6848</td>\n",
       "      <td>0.7760</td>\n",
       "      <td>0.9558</td>\n",
       "      <td>0.8542</td>\n",
       "      <td>0.7474</td>\n",
       "      <td>0.6094</td>\n",
       "      <td>0.7708</td>\n",
       "      <td>0.8282</td>\n",
       "      <td>1.0000</td>\n",
       "      <td>0.9974</td>\n",
       "      <td>0.9480</td>\n",
       "      <td>0.7422</td>\n",
       "      <td>0.5678</td>\n",
       "      <td>-0.2196</td>\n",
       "      <td>0.1090</td>\n",
       "      <td>0.5892</td>\n",
       "      <td>0.8768</td>\n",
       "      <td>1.0000</td>\n",
       "      <td>0.9936</td>\n",
       "      <td>0.7852</td>\n",
       "      <td>0.3712</td>\n",
       "      <td>...</td>\n",
       "      <td>-1.0</td>\n",
       "      <td>-1.0</td>\n",
       "      <td>-1.0</td>\n",
       "      <td>-1.0</td>\n",
       "      <td>-1.0</td>\n",
       "      <td>-1.0000</td>\n",
       "      <td>-1.0</td>\n",
       "      <td>0.0228</td>\n",
       "      <td>-0.0910</td>\n",
       "      <td>0.2728</td>\n",
       "      <td>0.8636</td>\n",
       "      <td>0.7500</td>\n",
       "      <td>0.4318</td>\n",
       "      <td>0.7272</td>\n",
       "      <td>0.6590</td>\n",
       "      <td>0.4090</td>\n",
       "      <td>0.7728</td>\n",
       "      <td>1.0000</td>\n",
       "      <td>0.7272</td>\n",
       "      <td>0.4772</td>\n",
       "      <td>0.4772</td>\n",
       "      <td>0.4772</td>\n",
       "      <td>0.6590</td>\n",
       "      <td>0.1818</td>\n",
       "      <td>0.4318</td>\n",
       "      <td>0.3864</td>\n",
       "      <td>0.8410</td>\n",
       "      <td>0.8864</td>\n",
       "      <td>0.2500</td>\n",
       "      <td>0.2272</td>\n",
       "      <td>0.0000</td>\n",
       "      <td>0.2954</td>\n",
       "      <td>0.2046</td>\n",
       "      <td>0.4772</td>\n",
       "      <td>0.0454</td>\n",
       "      <td>0.2046</td>\n",
       "      <td>0.4318</td>\n",
       "      <td>0.4546</td>\n",
       "      <td>-0.0910</td>\n",
       "      <td>1.0</td>\n",
       "    </tr>\n",
       "    <tr>\n",
       "      <th>2</th>\n",
       "      <td>-0.2330</td>\n",
       "      <td>0.2124</td>\n",
       "      <td>0.5014</td>\n",
       "      <td>0.5222</td>\n",
       "      <td>-0.3422</td>\n",
       "      <td>-0.5840</td>\n",
       "      <td>-0.7168</td>\n",
       "      <td>-0.6342</td>\n",
       "      <td>-0.8614</td>\n",
       "      <td>-0.8318</td>\n",
       "      <td>-0.7228</td>\n",
       "      <td>-0.6312</td>\n",
       "      <td>-0.4986</td>\n",
       "      <td>-0.7080</td>\n",
       "      <td>-0.6666</td>\n",
       "      <td>-0.5428</td>\n",
       "      <td>-0.4130</td>\n",
       "      <td>-0.3776</td>\n",
       "      <td>-0.0472</td>\n",
       "      <td>0.1356</td>\n",
       "      <td>0.6136</td>\n",
       "      <td>0.8024</td>\n",
       "      <td>1.0000</td>\n",
       "      <td>0.9794</td>\n",
       "      <td>0.9352</td>\n",
       "      <td>0.8732</td>\n",
       "      <td>0.9440</td>\n",
       "      <td>0.9588</td>\n",
       "      <td>0.6962</td>\n",
       "      <td>0.4838</td>\n",
       "      <td>0.3982</td>\n",
       "      <td>0.2064</td>\n",
       "      <td>-0.3270</td>\n",
       "      <td>0.0134</td>\n",
       "      <td>0.3620</td>\n",
       "      <td>0.3218</td>\n",
       "      <td>-0.4558</td>\n",
       "      <td>-0.8096</td>\n",
       "      <td>-0.7748</td>\n",
       "      <td>-0.7238</td>\n",
       "      <td>...</td>\n",
       "      <td>-1.0</td>\n",
       "      <td>1.0</td>\n",
       "      <td>-0.8</td>\n",
       "      <td>-1.0</td>\n",
       "      <td>-0.6</td>\n",
       "      <td>-0.8334</td>\n",
       "      <td>-1.0</td>\n",
       "      <td>-0.4286</td>\n",
       "      <td>-0.2540</td>\n",
       "      <td>-0.3650</td>\n",
       "      <td>-0.0952</td>\n",
       "      <td>-0.0794</td>\n",
       "      <td>0.0318</td>\n",
       "      <td>-0.2064</td>\n",
       "      <td>0.0634</td>\n",
       "      <td>0.1112</td>\n",
       "      <td>0.1746</td>\n",
       "      <td>0.2380</td>\n",
       "      <td>0.1904</td>\n",
       "      <td>0.5080</td>\n",
       "      <td>0.5396</td>\n",
       "      <td>0.0318</td>\n",
       "      <td>-0.0158</td>\n",
       "      <td>0.7142</td>\n",
       "      <td>1.0000</td>\n",
       "      <td>0.4126</td>\n",
       "      <td>-0.0794</td>\n",
       "      <td>-0.0476</td>\n",
       "      <td>0.0000</td>\n",
       "      <td>0.0952</td>\n",
       "      <td>-0.1112</td>\n",
       "      <td>-0.0476</td>\n",
       "      <td>-0.1746</td>\n",
       "      <td>0.0318</td>\n",
       "      <td>-0.0476</td>\n",
       "      <td>0.1112</td>\n",
       "      <td>0.2540</td>\n",
       "      <td>0.1588</td>\n",
       "      <td>-0.4762</td>\n",
       "      <td>2.0</td>\n",
       "    </tr>\n",
       "    <tr>\n",
       "      <th>3</th>\n",
       "      <td>-0.3808</td>\n",
       "      <td>-0.0096</td>\n",
       "      <td>0.2602</td>\n",
       "      <td>0.2554</td>\n",
       "      <td>-0.4290</td>\n",
       "      <td>-0.6746</td>\n",
       "      <td>-0.6868</td>\n",
       "      <td>-0.6650</td>\n",
       "      <td>-0.8410</td>\n",
       "      <td>-0.9614</td>\n",
       "      <td>-0.7374</td>\n",
       "      <td>-0.7084</td>\n",
       "      <td>-0.6772</td>\n",
       "      <td>-0.6338</td>\n",
       "      <td>-0.6482</td>\n",
       "      <td>-0.6240</td>\n",
       "      <td>-0.3976</td>\n",
       "      <td>-0.5662</td>\n",
       "      <td>-0.2168</td>\n",
       "      <td>0.0458</td>\n",
       "      <td>0.3832</td>\n",
       "      <td>0.6168</td>\n",
       "      <td>0.8988</td>\n",
       "      <td>1.0000</td>\n",
       "      <td>0.9156</td>\n",
       "      <td>0.8796</td>\n",
       "      <td>0.9132</td>\n",
       "      <td>0.7132</td>\n",
       "      <td>0.7590</td>\n",
       "      <td>0.7278</td>\n",
       "      <td>0.5856</td>\n",
       "      <td>0.5060</td>\n",
       "      <td>-0.3710</td>\n",
       "      <td>-0.0868</td>\n",
       "      <td>0.4114</td>\n",
       "      <td>0.3438</td>\n",
       "      <td>-0.1816</td>\n",
       "      <td>-0.5964</td>\n",
       "      <td>-0.6888</td>\n",
       "      <td>-0.6686</td>\n",
       "      <td>...</td>\n",
       "      <td>-1.0</td>\n",
       "      <td>1.0</td>\n",
       "      <td>-1.0</td>\n",
       "      <td>-1.0</td>\n",
       "      <td>-1.0</td>\n",
       "      <td>-0.8334</td>\n",
       "      <td>-1.0</td>\n",
       "      <td>-0.2374</td>\n",
       "      <td>-0.5396</td>\n",
       "      <td>0.1798</td>\n",
       "      <td>0.2086</td>\n",
       "      <td>0.0792</td>\n",
       "      <td>0.0360</td>\n",
       "      <td>0.3238</td>\n",
       "      <td>0.3956</td>\n",
       "      <td>0.4100</td>\n",
       "      <td>0.2662</td>\n",
       "      <td>0.5252</td>\n",
       "      <td>0.3670</td>\n",
       "      <td>0.9136</td>\n",
       "      <td>1.0000</td>\n",
       "      <td>0.4100</td>\n",
       "      <td>0.1224</td>\n",
       "      <td>0.5252</td>\n",
       "      <td>0.4388</td>\n",
       "      <td>0.0216</td>\n",
       "      <td>-0.0792</td>\n",
       "      <td>0.3812</td>\n",
       "      <td>0.2806</td>\n",
       "      <td>0.0648</td>\n",
       "      <td>-0.0504</td>\n",
       "      <td>-0.0360</td>\n",
       "      <td>-0.1224</td>\n",
       "      <td>0.1366</td>\n",
       "      <td>0.2950</td>\n",
       "      <td>0.0792</td>\n",
       "      <td>-0.0072</td>\n",
       "      <td>0.0936</td>\n",
       "      <td>-0.1510</td>\n",
       "      <td>2.0</td>\n",
       "    </tr>\n",
       "    <tr>\n",
       "      <th>4</th>\n",
       "      <td>-0.3412</td>\n",
       "      <td>0.0946</td>\n",
       "      <td>0.6082</td>\n",
       "      <td>0.6216</td>\n",
       "      <td>-0.1622</td>\n",
       "      <td>-0.3784</td>\n",
       "      <td>-0.4324</td>\n",
       "      <td>-0.4358</td>\n",
       "      <td>-0.4966</td>\n",
       "      <td>-0.5406</td>\n",
       "      <td>-0.5472</td>\n",
       "      <td>-0.5440</td>\n",
       "      <td>-0.4494</td>\n",
       "      <td>-0.2332</td>\n",
       "      <td>-0.2332</td>\n",
       "      <td>-0.1148</td>\n",
       "      <td>0.0068</td>\n",
       "      <td>0.0778</td>\n",
       "      <td>0.4864</td>\n",
       "      <td>0.9054</td>\n",
       "      <td>0.9560</td>\n",
       "      <td>0.7602</td>\n",
       "      <td>0.7770</td>\n",
       "      <td>0.7636</td>\n",
       "      <td>0.8818</td>\n",
       "      <td>1.0000</td>\n",
       "      <td>0.9426</td>\n",
       "      <td>0.7162</td>\n",
       "      <td>0.5472</td>\n",
       "      <td>0.4122</td>\n",
       "      <td>0.2770</td>\n",
       "      <td>0.2364</td>\n",
       "      <td>-0.4684</td>\n",
       "      <td>-0.1394</td>\n",
       "      <td>0.4210</td>\n",
       "      <td>0.4316</td>\n",
       "      <td>-0.3106</td>\n",
       "      <td>-0.5448</td>\n",
       "      <td>-0.5132</td>\n",
       "      <td>-0.6368</td>\n",
       "      <td>...</td>\n",
       "      <td>1.0</td>\n",
       "      <td>-1.0</td>\n",
       "      <td>-1.0</td>\n",
       "      <td>-1.0</td>\n",
       "      <td>-1.0</td>\n",
       "      <td>1.0000</td>\n",
       "      <td>-1.0</td>\n",
       "      <td>0.2500</td>\n",
       "      <td>0.5000</td>\n",
       "      <td>0.0624</td>\n",
       "      <td>0.3438</td>\n",
       "      <td>0.2500</td>\n",
       "      <td>0.2500</td>\n",
       "      <td>0.6250</td>\n",
       "      <td>0.2500</td>\n",
       "      <td>0.5312</td>\n",
       "      <td>0.4376</td>\n",
       "      <td>0.4688</td>\n",
       "      <td>0.5626</td>\n",
       "      <td>0.5938</td>\n",
       "      <td>0.3438</td>\n",
       "      <td>0.5626</td>\n",
       "      <td>0.2500</td>\n",
       "      <td>1.0000</td>\n",
       "      <td>0.9376</td>\n",
       "      <td>0.3438</td>\n",
       "      <td>0.2812</td>\n",
       "      <td>-0.0312</td>\n",
       "      <td>0.4376</td>\n",
       "      <td>0.2812</td>\n",
       "      <td>0.1562</td>\n",
       "      <td>0.3124</td>\n",
       "      <td>0.2500</td>\n",
       "      <td>-0.0938</td>\n",
       "      <td>0.1562</td>\n",
       "      <td>0.3124</td>\n",
       "      <td>0.3124</td>\n",
       "      <td>0.2188</td>\n",
       "      <td>-0.2500</td>\n",
       "      <td>3.0</td>\n",
       "    </tr>\n",
       "  </tbody>\n",
       "</table>\n",
       "<p>5 rows × 618 columns</p>\n",
       "</div>"
      ],
      "text/plain": [
       "       c0      c1      c2      c3      c4  ...    c613    c614    c615    c616  c617\n",
       "0 -0.4394 -0.0930  0.1718  0.4620  0.6226  ...  0.3334  0.6410  0.5898 -0.4872   1.0\n",
       "1 -0.4348 -0.1198  0.2474  0.4036  0.5026  ...  0.2046  0.4318  0.4546 -0.0910   1.0\n",
       "2 -0.2330  0.2124  0.5014  0.5222 -0.3422  ...  0.1112  0.2540  0.1588 -0.4762   2.0\n",
       "3 -0.3808 -0.0096  0.2602  0.2554 -0.4290  ...  0.0792 -0.0072  0.0936 -0.1510   2.0\n",
       "4 -0.3412  0.0946  0.6082  0.6216 -0.1622  ...  0.3124  0.3124  0.2188 -0.2500   3.0\n",
       "\n",
       "[5 rows x 618 columns]"
      ]
     },
     "execution_count": 30,
     "metadata": {},
     "output_type": "execute_result"
    }
   ],
   "source": [
    "df.head()"
   ]
  },
  {
   "cell_type": "code",
   "execution_count": 31,
   "metadata": {
    "colab": {
     "base_uri": "https://localhost:8080/"
    },
    "executionInfo": {
     "elapsed": 600,
     "status": "ok",
     "timestamp": 1638281885088,
     "user": {
      "displayName": "Luiz Otávio Toratti",
      "photoUrl": "https://lh3.googleusercontent.com/a-/AOh14GiJ2lu8bHxmHs09q5vtu3fcsIxB6URKBsrhkai9=s64",
      "userId": "09984317548107739267"
     },
     "user_tz": 180
    },
    "id": "ChQbrGJU-KHC",
    "outputId": "2e4a082c-bd89-4a3e-9e3d-b822c4ebfe97"
   },
   "outputs": [
    {
     "name": "stdout",
     "output_type": "stream",
     "text": [
      "<class 'numpy.ndarray'> <class 'pandas.core.frame.DataFrame'>\n"
     ]
    }
   ],
   "source": [
    "# converting data columns to numpy array\n",
    "data = df.values\n",
    "print(type(data), type(df))"
   ]
  },
  {
   "cell_type": "code",
   "execution_count": 33,
   "metadata": {
    "colab": {
     "base_uri": "https://localhost:8080/",
     "height": 426
    },
    "executionInfo": {
     "elapsed": 1622,
     "status": "ok",
     "timestamp": 1638281947620,
     "user": {
      "displayName": "Luiz Otávio Toratti",
      "photoUrl": "https://lh3.googleusercontent.com/a-/AOh14GiJ2lu8bHxmHs09q5vtu3fcsIxB6URKBsrhkai9=s64",
      "userId": "09984317548107739267"
     },
     "user_tz": 180
    },
    "id": "-nvQ4iJD-KHJ",
    "outputId": "32cf38f1-01f8-4049-e688-58e5fb249320"
   },
   "outputs": [
    {
     "name": "stdout",
     "output_type": "stream",
     "text": [
      "[0.34925933 0.15521428 0.05727152 0.04095263 0.03064821 0.0268258\n",
      " 0.01947585 0.01856175 0.01496045 0.0130419 ]\n"
     ]
    },
    {
     "data": {
      "text/plain": [
       "[<matplotlib.lines.Line2D at 0x7f74edbc0190>]"
      ]
     },
     "execution_count": 33,
     "metadata": {},
     "output_type": "execute_result"
    },
    {
     "data": {
      "image/png": "[encoded data removed]",
      "text/plain": [
       "<Figure size 864x432 with 2 Axes>"
      ]
     },
     "metadata": {
      "needs_background": "light"
     },
     "output_type": "display_data"
    }
   ],
   "source": [
    "# amount of explained variance\n",
    "data_pca = PCA(svd_solver='full')\n",
    "data_transformed = data_pca.fit(data)\n",
    "\n",
    "#print(data_transformed.explained_variance_[:10])\n",
    "print(data_transformed.explained_variance_ratio_[:10])\n",
    "\n",
    "#print(data_transformed.explained_variance_)\n",
    "#print('\\n ',data_transformed.explained_variance_ratio_)\n",
    "\n",
    "plt.rcParams['figure.figsize'] = [12, 6]\n",
    "f, (ax1, ax2)  = plt.subplots(1,2)\n",
    "\n",
    "# explained_variance_ratio_[i] = autovalor_i / sum_i(autovalor_i)\n",
    "\n",
    "ax1.plot(data_pca.explained_variance_ratio_, '*')\n",
    "ax2.plot(data_pca.explained_variance_ratio_[:20], '*')"
   ]
  },
  {
   "cell_type": "code",
   "execution_count": 8,
   "metadata": {
    "colab": {
     "base_uri": "https://localhost:8080/",
     "height": 409
    },
    "executionInfo": {
     "elapsed": 627,
     "status": "ok",
     "timestamp": 1638274655381,
     "user": {
      "displayName": "Luiz Otávio Toratti",
      "photoUrl": "https://lh3.googleusercontent.com/a-/AOh14GiJ2lu8bHxmHs09q5vtu3fcsIxB6URKBsrhkai9=s64",
      "userId": "09984317548107739267"
     },
     "user_tz": 180
    },
    "id": "5gsejMdqftrz",
    "outputId": "99aa55fc-09d9-469f-c1d8-de501a3452bf"
   },
   "outputs": [
    {
     "name": "stdout",
     "output_type": "stream",
     "text": [
      "(2, 6238)\n"
     ]
    },
    {
     "data": {
      "text/plain": [
       "<matplotlib.collections.PathCollection at 0x7f74f6c78190>"
      ]
     },
     "execution_count": 8,
     "metadata": {},
     "output_type": "execute_result"
    },
    {
     "data": {
      "image/png": "[encoded data removed]",
      "text/plain": [
       "<Figure size 864x432 with 1 Axes>"
      ]
     },
     "metadata": {
      "needs_background": "light"
     },
     "output_type": "display_data"
    }
   ],
   "source": [
    "Y2D = np.dot(data_transformed.components_[:2,:], data.T)\n",
    "print(Y2D.shape)\n",
    "\n",
    "plt.scatter(Y2D[0,:], Y2D[1,:])"
   ]
  },
  {
   "cell_type": "code",
   "execution_count": 9,
   "metadata": {
    "colab": {
     "base_uri": "https://localhost:8080/",
     "height": 392
    },
    "executionInfo": {
     "elapsed": 1241,
     "status": "ok",
     "timestamp": 1638274659173,
     "user": {
      "displayName": "Luiz Otávio Toratti",
      "photoUrl": "https://lh3.googleusercontent.com/a-/AOh14GiJ2lu8bHxmHs09q5vtu3fcsIxB6URKBsrhkai9=s64",
      "userId": "09984317548107739267"
     },
     "user_tz": 180
    },
    "id": "DTc0UZa1-KHU",
    "outputId": "0bb7c60f-61ae-481a-8d13-26221ffa0d7c"
   },
   "outputs": [
    {
     "data": {
      "text/plain": [
       "<matplotlib.collections.PathCollection at 0x7f74f6c4a990>"
      ]
     },
     "execution_count": 9,
     "metadata": {},
     "output_type": "execute_result"
    },
    {
     "data": {
      "image/png": "[encoded data removed]",
      "text/plain": [
       "<Figure size 864x432 with 1 Axes>"
      ]
     },
     "metadata": {
      "needs_background": "light"
     },
     "output_type": "display_data"
    }
   ],
   "source": [
    "# projecting data in 2D\n",
    "\n",
    "pca_proj = PCA(n_components=2)\n",
    "data_2d = pca_proj.fit_transform(data)\n",
    "\n",
    "plt.scatter(data_2d[:,0],data_2d[:,1])"
   ]
  },
  {
   "cell_type": "code",
   "execution_count": 35,
   "metadata": {
    "colab": {
     "base_uri": "https://localhost:8080/"
    },
    "executionInfo": {
     "elapsed": 405,
     "status": "ok",
     "timestamp": 1638282405931,
     "user": {
      "displayName": "Luiz Otávio Toratti",
      "photoUrl": "https://lh3.googleusercontent.com/a-/AOh14GiJ2lu8bHxmHs09q5vtu3fcsIxB6URKBsrhkai9=s64",
      "userId": "09984317548107739267"
     },
     "user_tz": 180
    },
    "id": "7fQuyCoJftrz",
    "outputId": "9b7fb41a-ee35-40c3-c88c-826b6ae15673"
   },
   "outputs": [
    {
     "name": "stdout",
     "output_type": "stream",
     "text": [
      "0.9029670138625974\n"
     ]
    }
   ],
   "source": [
    "print(np.sum(data_transformed.explained_variance_ratio_[:60]))"
   ]
  },
  {
   "cell_type": "code",
   "execution_count": 36,
   "metadata": {
    "colab": {
     "base_uri": "https://localhost:8080/",
     "height": 426
    },
    "executionInfo": {
     "elapsed": 5406,
     "status": "ok",
     "timestamp": 1638282505108,
     "user": {
      "displayName": "Luiz Otávio Toratti",
      "photoUrl": "https://lh3.googleusercontent.com/a-/AOh14GiJ2lu8bHxmHs09q5vtu3fcsIxB6URKBsrhkai9=s64",
      "userId": "09984317548107739267"
     },
     "user_tz": 180
    },
    "id": "JPVuyornAhvT",
    "outputId": "b2c0d7a5-c67f-4c4f-86c3-3fa7c0996a1d"
   },
   "outputs": [
    {
     "name": "stdout",
     "output_type": "stream",
     "text": [
      "[0.34925933 0.15521428 0.05727152 0.04095263 0.03064821 0.0268258\n",
      " 0.01947585 0.01856175 0.01496045 0.0130419 ]\n"
     ]
    },
    {
     "data": {
      "text/plain": [
       "<matplotlib.collections.PathCollection at 0x7f74ee0bbb10>"
      ]
     },
     "execution_count": 36,
     "metadata": {},
     "output_type": "execute_result"
    },
    {
     "data": {
      "image/png": "[encoded data removed]",
      "text/plain": [
       "<Figure size 864x432 with 1 Axes>"
      ]
     },
     "metadata": {
      "needs_background": "light"
     },
     "output_type": "display_data"
    }
   ],
   "source": [
    "# PCA via Autovalores e Autovetores\n",
    "X = data.copy()\n",
    "\n",
    "# Centralizar\n",
    "X = X - np.mean(X, axis=0).reshape(1,-1)\n",
    "X = X.T\n",
    "n = data.shape[0]\n",
    "\n",
    "XXt = X @ X.T\n",
    "C = (1/(n-1)) * XXt\n",
    "\n",
    "V, PC = np.linalg.eigh(C)\n",
    "\n",
    "V = np.flip(V)\n",
    "PC = np.flip(PC, axis=1)\n",
    "\n",
    "V_ratio = V / np.sum(V)\n",
    "print(V_ratio[:10])\n",
    "\n",
    "Y = PC.T @ X\n",
    "\n",
    "plt.scatter(Y[0,:], Y[1,:])"
   ]
  },
  {
   "cell_type": "code",
   "execution_count": 27,
   "metadata": {
    "colab": {
     "base_uri": "https://localhost:8080/",
     "height": 426
    },
    "executionInfo": {
     "elapsed": 10024,
     "status": "ok",
     "timestamp": 1638276315915,
     "user": {
      "displayName": "Luiz Otávio Toratti",
      "photoUrl": "https://lh3.googleusercontent.com/a-/AOh14GiJ2lu8bHxmHs09q5vtu3fcsIxB6URKBsrhkai9=s64",
      "userId": "09984317548107739267"
     },
     "user_tz": 180
    },
    "id": "wCZmXUbU3Nnq",
    "outputId": "866c612b-c1e8-4ff2-9a7c-6408d4a96f6d"
   },
   "outputs": [
    {
     "name": "stdout",
     "output_type": "stream",
     "text": [
      "[0.34925933 0.15521428 0.05727152 0.04095263 0.03064821 0.0268258\n",
      " 0.01947585 0.01856175 0.01496045 0.0130419 ]\n"
     ]
    },
    {
     "data": {
      "text/plain": [
       "<matplotlib.collections.PathCollection at 0x7f74ede6d150>"
      ]
     },
     "execution_count": 27,
     "metadata": {},
     "output_type": "execute_result"
    },
    {
     "data": {
      "image/png": "[encoded data removed]",
      "text/plain": [
       "<Figure size 864x432 with 1 Axes>"
      ]
     },
     "metadata": {
      "needs_background": "light"
     },
     "output_type": "display_data"
    }
   ],
   "source": [
    "# PCA via SVD\n",
    "X = data.copy()\n",
    "X = X - np.mean(X, axis=0).reshape(1,-1)\n",
    "\n",
    "Y = X / np.sqrt(X.shape[0]-1)\n",
    "\n",
    "# C = X @ X.T / (n-1)\n",
    "\n",
    "# U, S, Vt = svd()\n",
    "u, S, PCt = np.linalg.svd(Y)\n",
    "\n",
    "# Usa os sigmas ao quadrado, porque os sigmas são as raizes dos auto vetores de AAt e AtA\n",
    "# Nesse caso V sãs as variancias de cada componente\n",
    "V = S * S\n",
    "\n",
    "print(V[:10] / np.sum(V))\n",
    "\n",
    "# E PCt nesse caso são os auto vetores de AAt (O necessário para calcular o PCA)\n",
    "Y = PCt[:2,:] @ X.T\n",
    "\n",
    "plt.scatter(Y[0,:], Y[1,:])"
   ]
  }
 ],
 "metadata": {
  "colab": {
   "collapsed_sections": [],
   "name": "PCA.ipynb",
   "provenance": []
  },
  "kernelspec": {
   "display_name": "Python 3",
   "language": "python",
   "name": "python3"
  },
  "language_info": {
   "codemirror_mode": {
    "name": "ipython",
    "version": 3
   },
   "file_extension": ".py",
   "mimetype": "text/x-python",
   "name": "python",
   "nbconvert_exporter": "python",
   "pygments_lexer": "ipython3",
   "version": "3.8.10"
  }
 },
 "nbformat": 4,
 "nbformat_minor": 4
}
