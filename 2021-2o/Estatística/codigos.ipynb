{
 "cells": [
  {
   "cell_type": "markdown",
   "metadata": {},
   "source": [
    "## Códigos Prova Estatística"
   ]
  },
  {
   "cell_type": "markdown",
   "metadata": {},
   "source": [
    "Integral curva normal:\n",
    "https://www.wolframalpha.com/input/?i2d=true&i=integrate+%5C%2840%29Divide%5B1%2C%CF%83*Sqrt%5B2pi%5D%5DPower%5Be%2C-Divide%5BPower%5B%5C%2840%29x-%CE%BC%5C%2841%29%2C2%5D%2C2Power%5B%CF%83%2C2%5D%5D%5D%5C%2841%29dx\n",
    "\n",
    "Exemplo com E(x) = 9 e Var(x) = 4.5:\n",
    "https://www.wolframalpha.com/input/?i2d=true&i=integrate+%5C%2840%29Divide%5B1%2Csqrt%5C%2840%294.5%5C%2841%29*Sqrt%5B2pi%5D%5DPower%5Be%2C-Divide%5BPower%5B%5C%2840%29x-9%5C%2841%29%2C2%5D%2C2*4.5%5D%5D%5C%2841%29dx%5C%2844%29+x+from+12+to+18\n"
   ]
  },
  {
   "cell_type": "code",
   "execution_count": 3,
   "metadata": {},
   "outputs": [],
   "source": [
    "import math as m\n",
    "    # m.comb()\n",
    "    # m.pi\n",
    "    # m.e\n",
    "    # m.factorial()\n",
    "    # m.sqrt()\n",
    "import statistics as s"
   ]
  },
  {
   "cell_type": "code",
   "execution_count": 8,
   "metadata": {},
   "outputs": [
    {
     "data": {
      "text/plain": [
       "6.824212439148524e-08"
      ]
     },
     "execution_count": 8,
     "metadata": {},
     "output_type": "execute_result"
    }
   ],
   "source": [
    "# Little Library - Variaveis Aleatorias discretas\n",
    "\n",
    "# Distribuicao binomial\n",
    "def dist_binomial(k, n, p):\n",
    "    return m.comb(n, k) * (m.pow(p, k) * m.pow(1 - p, n - k))\n",
    "\n",
    "# Distribuicao de poisson\n",
    "def dist_poisson(k, lam):\n",
    "    return m.pow(lam, k) * m.exp(-lam) / m.factorial(k)\n",
    "\n",
    "\n",
    "# Distribuicoes acumuladas\n",
    "sum([dist_poisson(i, 1.5) for i in range(12, 18)])"
   ]
  },
  {
   "cell_type": "code",
   "execution_count": 19,
   "metadata": {},
   "outputs": [
    {
     "data": {
      "text/plain": [
       "0.13295332343433516"
      ]
     },
     "execution_count": 19,
     "metadata": {},
     "output_type": "execute_result"
    }
   ],
   "source": [
    "sum([dist_binomial(i, 20, 0.1) for i in range(4, 21)])\n",
    "# dist_binomial(3, 20, 0.1)"
   ]
  },
  {
   "cell_type": "code",
   "execution_count": 12,
   "metadata": {},
   "outputs": [],
   "source": [
    "# Little Library - Analise descritiva\n",
    "\n",
    "# Funcao para calcular correlação de pearson entre (X, Y):\n",
    "def cor_pearson(X, Y):\n",
    "    return sum([(X[i] - s.mean(X)) * (Y[i] - s.mean(Y)) for i in range(0, len(X))]) / m.sqrt(sum([(x - s.mean(X)) ** 2 for x in X]) * sum([(y - s.mean(Y)) ** 2 for y in Y]))"
   ]
  },
  {
   "cell_type": "code",
   "execution_count": 13,
   "metadata": {},
   "outputs": [
    {
     "data": {
      "text/plain": [
       "1.0"
      ]
     },
     "execution_count": 13,
     "metadata": {},
     "output_type": "execute_result"
    }
   ],
   "source": [
    "# 5\n",
    "X = [3/8, 2/8, 3/8]\n",
    "Y = [3/8, 2/8, 3/8]\n",
    "\n",
    "cor_pearson(X, Y)"
   ]
  },
  {
   "cell_type": "code",
   "execution_count": 17,
   "metadata": {},
   "outputs": [
    {
     "data": {
      "text/plain": [
       "[1.3274336283185841, 1.2000000000000002, 1.2, 1.2, 1.36]"
      ]
     },
     "execution_count": 17,
     "metadata": {},
     "output_type": "execute_result"
    }
   ],
   "source": [
    "# 8\n",
    "X = [100, 240, 60, 200, 40]\n",
    "Y = [325, 270, 225, 260, 320]\n",
    "\n",
    "media = [0 * 140/(140 + X[i] + Y[i]) + 1 * X[i] / (140 + X[i] + Y[i]) + 2 * Y[i] / (140 + X[i] + Y[i]) for i in range(len(X))]\n",
    "\n",
    "media\n",
    "\n",
    "X = [240, 60, 200]\n",
    "Y = [270, 225, 260]"
   ]
  },
  {
   "cell_type": "code",
   "execution_count": 18,
   "metadata": {},
   "outputs": [
    {
     "data": {
      "text/plain": [
       "0.375"
      ]
     },
     "execution_count": 18,
     "metadata": {},
     "output_type": "execute_result"
    }
   ],
   "source": [
    "# 9\n",
    "m.comb(4, 2) * m.pow(0.5, 4)"
   ]
  }
 ],
 "metadata": {
  "interpreter": {
   "hash": "916dbcbb3f70747c44a77c7bcd40155683ae19c65e1c03b4aa3499c5328201f1"
  },
  "kernelspec": {
   "display_name": "Python 3.8.10 64-bit",
   "name": "python3"
  },
  "language_info": {
   "codemirror_mode": {
    "name": "ipython",
    "version": 3
   },
   "file_extension": ".py",
   "mimetype": "text/x-python",
   "name": "python",
   "nbconvert_exporter": "python",
   "pygments_lexer": "ipython3",
   "version": "3.8.10"
  },
  "orig_nbformat": 4
 },
 "nbformat": 4,
 "nbformat_minor": 2
}
