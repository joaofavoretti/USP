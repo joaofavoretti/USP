{
 "cells": [
  {
   "cell_type": "markdown",
   "source": [
    "# Coding the Matrix - Chapter 3\n",
    "## The Vector Space"
   ],
   "metadata": {}
  },
  {
   "cell_type": "markdown",
   "source": [
    "## Linear Combination\n",
    "\n",
    "<br/><br/>\n",
    "\n",
    "$v_1, ..., v_n$ são vetores e $\\alpha_1, ..., \\alpha_n$ são escalares multiplicando os vetores.\n",
    "\n",
    "Uma combinação linear genérica é:\n",
    "\n",
    "$$ \\alpha_1 v_1 + ... + \\alpha_n v_n $$\n",
    "\n"
   ],
   "metadata": {}
  },
  {
   "cell_type": "code",
   "execution_count": 11,
   "source": [
    "# Importing libraries\n",
    "import numpy as np"
   ],
   "outputs": [],
   "metadata": {}
  },
  {
   "cell_type": "code",
   "execution_count": 12,
   "source": [
    "# Procedimento para calcular a combinação linear dado uma lista de alphas e uma lista de vetores \n",
    "#   (cada vetor é representado por uma lista)\n",
    "\n",
    "# clist: lista de coeficientes\n",
    "# vlist: lista de vetores\n",
    "def lin_comb(clist, vlist):\n",
    "    return sum([ coeff * v for (coeff, v) in zip(clist, vlist)])"
   ],
   "outputs": [],
   "metadata": {}
  },
  {
   "cell_type": "markdown",
   "source": [
    "Exemplo abaixo:\n",
    "$$ 1 [1, 2] + 1 [3, 4] = [1 * 1 + 1 * 3, 1 * 2 + 1 * 4] = [4, 6]$$"
   ],
   "metadata": {}
  },
  {
   "cell_type": "code",
   "execution_count": 13,
   "source": [
    "# Usage example:\n",
    "coeff = np.array([1, 1])\n",
    "vectors = np.array([[1, 2], [3, 4]])\n",
    "lin_comb(coeff, vectors)"
   ],
   "outputs": [
    {
     "output_type": "execute_result",
     "data": {
      "text/plain": [
       "array([4, 6])"
      ]
     },
     "metadata": {},
     "execution_count": 13
    }
   ],
   "metadata": {}
  },
  {
   "cell_type": "code",
   "execution_count": 4,
   "source": [
    "2**5"
   ],
   "outputs": [
    {
     "output_type": "execute_result",
     "data": {
      "text/plain": [
       "32"
      ]
     },
     "metadata": {},
     "execution_count": 4
    }
   ],
   "metadata": {}
  }
 ],
 "metadata": {
  "orig_nbformat": 4,
  "language_info": {
   "name": "python",
   "version": "3.8.10",
   "mimetype": "text/x-python",
   "codemirror_mode": {
    "name": "ipython",
    "version": 3
   },
   "pygments_lexer": "ipython3",
   "nbconvert_exporter": "python",
   "file_extension": ".py"
  },
  "kernelspec": {
   "name": "python3",
   "display_name": "Python 3.8.10 64-bit"
  },
  "interpreter": {
   "hash": "31f2aee4e71d21fbe5cf8b01ff0e069b9275f58929596ceb00d14d90e3e16cd6"
  }
 },
 "nbformat": 4,
 "nbformat_minor": 2
}